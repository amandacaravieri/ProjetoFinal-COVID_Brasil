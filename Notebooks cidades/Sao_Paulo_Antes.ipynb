{
 "cells": [
  {
   "cell_type": "code",
   "execution_count": null,
   "id": "b91ab446",
   "metadata": {},
   "outputs": [],
   "source": [
    "# Manipulação e tratamento das bases\n",
    "import pandas as pd\n",
    "import numpy as np\n",
    "\n",
    "#Pré-Processamento das bases\n",
    "!pip install imblearn\n",
    "from imblearn.over_sampling import SMOTE\n",
    "from sklearn.model_selection import train_test_split\n",
    "\n",
    "#Modelagem de Dados\n",
    "from sklearn.ensemble import BaggingClassifier\n",
    "from sklearn.metrics import accuracy_score\n"
   ]
  },
  {
   "cell_type": "code",
   "execution_count": null,
   "id": "a37d2e45",
   "metadata": {},
   "outputs": [],
   "source": [
    "Antes= pd.read_csv('Base_Tratada.csv', sep= ',')\n",
    "Antes= Antes.loc[Antes['CO_MUN_NOT'].isin([330455])]\n",
    "Antes=Antes[(Antes['Periodo']==1.0)]\n",
    "Antes= Antes.drop(columns=[\"CO_MUN_NOT\", \"Periodo\"])\n",
    "Antes.head()"
   ]
  },
  {
   "cell_type": "code",
   "execution_count": null,
   "id": "3d1a61bb",
   "metadata": {},
   "outputs": [],
   "source": [
    "Antes= Antes.reset_index(drop=True)\n",
    "Antes.head()"
   ]
  },
  {
   "cell_type": "markdown",
   "id": "765feb07",
   "metadata": {},
   "source": [
    "# PRÉ-PROCESSAMENTO"
   ]
  },
  {
   "cell_type": "code",
   "execution_count": null,
   "id": "7b41cc2d",
   "metadata": {},
   "outputs": [],
   "source": [
    "Antes['CS_GESTANT'].replace({1.0: 1, 2.0: 1, 3.0  :1, 4.0 : 1}, inplace= True)\n",
    "Antes['CS_GESTANT'].replace({5.0: 0, 6.0:0, 9.0:0}, inplace= True)\n",
    "Antes['CS_RACA'].fillna(9,inplace= True)\n",
    "Antes['CS_ESCOL_N'].fillna(9,inplace= True)\n",
    "Antes['SURTO_SG'].replace({2.0: 0, 9.0: 0}, inplace= True)\n",
    "Antes['SURTO_SG'].fillna(0,inplace= True)\n",
    "Antes['NOSOCOMIAL'].replace({2.0: 0, 9.0: 0}, inplace= True)\n",
    "Antes['NOSOCOMIAL'].fillna(0,inplace= True)\n",
    "Antes['FEBRE'].replace({2.0: 0, 9.0: 0}, inplace= True)\n",
    "Antes['FEBRE'].fillna(0,inplace= True)\n",
    "Antes['TOSSE'].replace({2.0: 0, 9.0: 0}, inplace= True)\n",
    "Antes['TOSSE'].fillna(0,inplace= True)\n",
    "Antes['GARGANTA'].replace({2.0: 0, 9.0: 0}, inplace= True)\n",
    "Antes['GARGANTA'].fillna(0,inplace= True)\n",
    "Antes['DISPNEIA'].replace({2.0: 0, 9.0: 0}, inplace= True)\n",
    "Antes['DISPNEIA'].fillna(0,inplace= True)\n",
    "Antes['DESC_RESP'].replace({2.0: 0, 9.0: 0}, inplace= True)\n",
    "Antes['DESC_RESP'].fillna(0,inplace= True)\n",
    "Antes['SATURACAO'].replace({2.0: 0, 9.0: 0}, inplace= True)\n",
    "Antes['SATURACAO'].fillna(0,inplace= True)\n",
    "Antes['DIARREIA'].replace({2.0: 0, 9.0: 0}, inplace= True)\n",
    "Antes['DIARREIA'].fillna(0,inplace= True)\n",
    "Antes['VOMITO'].replace({2.0: 0, 9.0: 0}, inplace= True)\n",
    "Antes['VOMITO'].fillna(0,inplace= True)\n",
    "Antes['PUERPERA'].replace({2.0: 0, 9.0: 0}, inplace= True)\n",
    "Antes['PUERPERA'].fillna(0,inplace= True)\n",
    "Antes['CARDIOPATI'].replace({2.0: 0, 9.0: 0}, inplace= True)\n",
    "Antes['CARDIOPATI'].fillna(0,inplace= True)\n",
    "Antes['HEMATOLOGI'].replace({2.0: 0, 9.0: 0}, inplace= True)\n",
    "Antes['HEMATOLOGI'].fillna(0,inplace= True)\n",
    "Antes['SIND_DOWN'].replace({2.0: 0, 9.0: 0}, inplace= True)\n",
    "Antes['SIND_DOWN'].fillna(0,inplace= True)\n",
    "Antes['HEPATICA'].replace({2.0: 0, 9.0: 0}, inplace= True)\n",
    "Antes['HEPATICA'].fillna(0,inplace= True)\n",
    "Antes['ASMA'].replace({2.0: 0, 9.0: 0}, inplace= True)\n",
    "Antes['ASMA'].fillna(0,inplace= True)\n",
    "Antes['DIABETES'].replace({2.0: 0, 9.0: 0}, inplace= True)\n",
    "Antes['DIABETES'].fillna(0,inplace= True)\n",
    "Antes['NEUROLOGIC'].replace({2.0: 0, 9.0: 0}, inplace= True)\n",
    "Antes['NEUROLOGIC'].fillna(0,inplace= True)\n",
    "Antes['PNEUMOPATI'].replace({2.0: 0, 9.0: 0}, inplace= True)\n",
    "Antes['PNEUMOPATI'].fillna(0,inplace= True)\n",
    "Antes['IMUNODEPRE'].replace({2.0: 0, 9.0: 0}, inplace= True)\n",
    "Antes['IMUNODEPRE'].fillna(0,inplace= True)\n",
    "Antes['RENAL'].replace({2.0: 0, 9.0: 0}, inplace= True)\n",
    "Antes['RENAL'].fillna(0,inplace= True)\n",
    "Antes['OBESIDADE'].replace({2.0: 0, 9.0: 0}, inplace= True)\n",
    "Antes['OBESIDADE'].fillna(0,inplace= True)\n",
    "Antes['ASMA'].replace({2.0: 0, 9.0: 0}, inplace= True)\n",
    "Antes['ASMA'].fillna(0,inplace= True)\n",
    "Antes['ANTIVIRAL'].replace({2.0: 0, 9.0: 0}, inplace= True)\n",
    "Antes['ANTIVIRAL'].fillna(0,inplace= True)\n",
    "Antes['UTI'].replace({2.0: 0, 9.0: 0}, inplace= True)\n",
    "Antes['UTI'].fillna(0,inplace= True)\n",
    "Antes['SUPORT_VEN'].replace({3.0: 0, 9.0: 0}, inplace= True)\n",
    "Antes['SUPORT_VEN'].fillna(0,inplace= True)\n",
    "Antes['PCR_RESUL'].fillna(4,inplace= True)\n",
    "Antes['HISTO_VGM'].replace({0: 2}, inplace= True)\n",
    "Antes['DOR_ABD'].replace({9.0: 0, 2.0 :0}, inplace= True)\n",
    "Antes['DOR_ABD'].fillna(0,inplace= True)\n",
    "Antes['FADIGA'].replace({9.0: 0, 2.0 :0}, inplace= True)\n",
    "Antes['FADIGA'].fillna(0,inplace= True)\n",
    "Antes['PERD_OLFT'].replace({9.0: 0, 2.0 :0}, inplace= True)\n",
    "Antes['PERD_OLFT'].fillna(0,inplace= True)\n",
    "Antes['PERD_PALA'].replace({9.0: 0, 2.0 :0}, inplace= True)\n",
    "Antes['PERD_PALA'].fillna(0,inplace= True)\n",
    "Antes['VACINA'].fillna(0,inplace= True)\n",
    "Antes['FATOR_RISC'].replace({'S': 1, 'N':2, '1':1, '2':2}, inplace= True)\n",
    "Antes['FATOR_RISC'].fillna(0,inplace= True)"
   ]
  },
  {
   "cell_type": "markdown",
   "id": "a04c00d8",
   "metadata": {},
   "source": [
    "- Aplicação da Dummy nas Features Categóricas"
   ]
  },
  {
   "cell_type": "code",
   "execution_count": null,
   "id": "f2a4f5fb",
   "metadata": {},
   "outputs": [],
   "source": [
    "Antes=pd.get_dummies(Antes, columns=['CS_SEXO', 'CS_GESTANT', 'CS_RACA', 'CS_ESCOL_N',\n",
    "       'SURTO_SG', 'NOSOCOMIAL', 'FEBRE', 'TOSSE', 'GARGANTA', 'DISPNEIA',\n",
    "       'DESC_RESP', 'SATURACAO', 'DIARREIA', 'VOMITO', 'PUERPERA',\n",
    "       'FATOR_RISC', 'CARDIOPATI', 'HEMATOLOGI', 'SIND_DOWN', 'HEPATICA',\n",
    "       'ASMA', 'DIABETES', 'NEUROLOGIC', 'PNEUMOPATI', 'IMUNODEPRE', 'RENAL',\n",
    "       'OBESIDADE', 'VACINA', 'ANTIVIRAL', 'UTI', 'SUPORT_VEN', 'PCR_RESUL',\n",
    "       'HISTO_VGM', 'DOR_ABD', 'FADIGA', 'PERD_OLFT', 'PERD_PALA'], drop_first=True)\n",
    "Antes.head()"
   ]
  },
  {
   "cell_type": "markdown",
   "id": "ff681ecf",
   "metadata": {},
   "source": [
    "# Verificando o Balanceamento"
   ]
  },
  {
   "cell_type": "code",
   "execution_count": null,
   "id": "a4688a2b",
   "metadata": {},
   "outputs": [],
   "source": [
    "Antes[\"EVOLUCAO\"].value_counts(normalize=True)"
   ]
  },
  {
   "cell_type": "code",
   "execution_count": null,
   "id": "e74b2da8",
   "metadata": {},
   "outputs": [],
   "source": [
    "X = Antes[['IDADE_ANOS','CS_SEXO_M','CS_RACA_4.0','FEBRE_1.0','DISPNEIA_1.0','SATURACAO_1.0','UTI_1.0',\n",
    "                 'SUPORT_VEN_1.0', 'SUPORT_VEN_2.0', 'PCR_RESUL_2.0','TOSSE_1.0','DESC_RESP_1.0', 'FATOR_RISC_2']]\n",
    "\n",
    "y = Antes['EVOLUCAO']\n",
    "\n",
    "Xtrain, Xtest, ytrain, ytest = train_test_split(X, y, test_size=0.3, random_state=42)"
   ]
  },
  {
   "cell_type": "code",
   "execution_count": null,
   "id": "0e1ab5fd",
   "metadata": {},
   "outputs": [],
   "source": [
    "Xtrain.shape, Xtest.shape, ytrain.shape, ytest.shape"
   ]
  },
  {
   "cell_type": "code",
   "execution_count": null,
   "id": "7073540c",
   "metadata": {},
   "outputs": [],
   "source": [
    "smote = SMOTE(sampling_strategy = 'minority', random_state = 42)\n",
    "Xtrain_over, ytrain_over = smote.fit_resample(Xtrain,ytrain)\n",
    "\n",
    "Xtest_over, ytest_over = smote.fit_resample(Xtest,ytest)\n",
    "Xtrain_over.shape, ytrain_over.shape, Xtest_over.shape, ytest_over.shape"
   ]
  },
  {
   "cell_type": "markdown",
   "id": "a91e4377",
   "metadata": {},
   "source": [
    "# Aplicação do Modelo Escolhido"
   ]
  },
  {
   "cell_type": "code",
   "execution_count": null,
   "id": "1f920ef7",
   "metadata": {},
   "outputs": [],
   "source": [
    "random_state=42\n",
    "BCG = BaggingClassifier()\n",
    "BCG.fit(Xtrain_over, ytrain_over)"
   ]
  },
  {
   "cell_type": "code",
   "execution_count": null,
   "id": "8728e0c0",
   "metadata": {},
   "outputs": [],
   "source": [
    "previsoes = BCG.predict(Xtest_over)\n",
    "previsoes"
   ]
  },
  {
   "cell_type": "code",
   "execution_count": null,
   "id": "78fcd4ed",
   "metadata": {},
   "outputs": [],
   "source": [
    "accuracy_score(ytest_over, previsoes)"
   ]
  },
  {
   "cell_type": "code",
   "execution_count": null,
   "id": "bec07ba5",
   "metadata": {},
   "outputs": [],
   "source": [
    "feature_importances = np.mean([\n",
    "    tree.feature_importances_ for tree in BCG.estimators_\n",
    "], axis=0)\n",
    "print(feature_importances)"
   ]
  },
  {
   "cell_type": "code",
   "execution_count": null,
   "id": "e673d18f",
   "metadata": {},
   "outputs": [],
   "source": [
    "# Testar Modelo\n",
    "\n",
    "idade = 43.0\n",
    "sexo = 1\n",
    "raca = 0\n",
    "febre = 1\n",
    "dispneia = 1\n",
    "saturacao = 0\n",
    "uti = 1\n",
    "suport1 = 1\n",
    "suport2 = 0\n",
    "pcr = 1\n",
    "tosse = 1\n",
    "descresp = 0\n",
    "frisc = 0\n",
    "\n",
    "prediction = BCG.predict(np.array([idade, sexo, raca, febre, dispneia, saturacao, uti, suport1, suport2, pcr, tosse, descresp, frisc]).reshape(1, -1))\n",
    "\n",
    "print(prediction)\n"
   ]
  },
  {
   "cell_type": "code",
   "execution_count": null,
   "id": "a093e9f8",
   "metadata": {},
   "outputs": [],
   "source": []
  }
 ],
 "metadata": {
  "kernelspec": {
   "display_name": "Python 3 (ipykernel)",
   "language": "python",
   "name": "python3"
  },
  "language_info": {
   "codemirror_mode": {
    "name": "ipython",
    "version": 3
   },
   "file_extension": ".py",
   "mimetype": "text/x-python",
   "name": "python",
   "nbconvert_exporter": "python",
   "pygments_lexer": "ipython3",
   "version": "3.8.11"
  }
 },
 "nbformat": 4,
 "nbformat_minor": 5
}
