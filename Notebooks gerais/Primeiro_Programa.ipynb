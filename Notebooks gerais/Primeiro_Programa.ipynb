{
 "cells": [
  {
   "cell_type": "markdown",
   "metadata": {
    "id": "P8oDbrY3lpSS"
   },
   "source": [
    "# Dados de Internações COVID-19"
   ]
  },
  {
   "cell_type": "markdown",
   "metadata": {
    "id": "RxEEJpXil5-n"
   },
   "source": [
    "# Bibliotecas"
   ]
  },
  {
   "cell_type": "code",
   "execution_count": 3,
   "metadata": {
    "id": "Hp4otIHnlzPr"
   },
   "outputs": [
    {
     "name": "stdout",
     "output_type": "stream",
     "text": [
      "Populating the interactive namespace from numpy and matplotlib\n"
     ]
    },
    {
     "name": "stderr",
     "output_type": "stream",
     "text": [
      "C:\\Users\\Windows10\\anaconda3\\lib\\site-packages\\IPython\\core\\magics\\pylab.py:159: UserWarning: pylab import has clobbered these variables: ['datetime']\n",
      "`%matplotlib` prevents importing * from pylab and numpy\n",
      "  warn(\"pylab import has clobbered these variables: %s\"  % clobbered +\n"
     ]
    }
   ],
   "source": [
    "import pandas as pd\n",
    "import numpy as np\n",
    "from datetime import datetime\n",
    "import matplotlib.pyplot as plt\n",
    "from scipy.stats import shapiro\n",
    "from sklearn.model_selection import train_test_split\n",
    "import pandas as pd\n",
    "from sklearn import tree\n",
    "from sklearn.tree import DecisionTreeClassifier, plot_tree\n",
    "import matplotlib.pyplot as plt\n",
    "from sklearn.metrics import accuracy_score, classification_report\n",
    "#!pip install yellowbrick\n",
    "from yellowbrick.classifier import ConfusionMatrix\n",
    "%pylab inline\n"
   ]
  },
  {
   "cell_type": "markdown",
   "metadata": {
    "id": "HSNCFr_oo8Qk"
   },
   "source": [
    "#  1- Leitura de Dados e Pré- Processamento\n",
    "\n"
   ]
  },
  {
   "cell_type": "markdown",
   "metadata": {
    "id": "IwJz1VYXLUUm"
   },
   "source": [
    "## **A-** Premissas:\n",
    "\n"
   ]
  },
  {
   "cell_type": "markdown",
   "metadata": {
    "id": "yaChLS_lN2RL"
   },
   "source": [
    "Data Frame de Brasil:(**B-** df_Brasil) \n",
    "- Convertendo as variáveis com datas para datetime\n",
    "- Filtro: Criação da coluna IDADE\n",
    "- DATA LIMITE: 16/01/2021(Primeiro dia de vacinação no Brasil/sp)\n",
    "- Remoção de duplicadas\n",
    "- Remoção de variáveis não relevantes à análise (combinadas em reunião) e das que não agregam valor nenhum à Análise (nunique = 1)\n",
    "- Filtro: HOSPITAL = 1 \n",
    "\n",
    "Data Frame da cidade de São Paulo:(**C-**df_sp)\n",
    "- Reset no INDEX\n",
    "- Remoção de colunas sobre o cód da cidade, estado, UF.. ou seja, com unique() = 1\n",
    "- Redução de categorias nas colunas 'UTI'  de 1,2,3,9 e missing foram para 1 ou 0. \n",
    "-  "
   ]
  },
  {
   "cell_type": "markdown",
   "metadata": {
    "id": "lnFesWO93MXZ"
   },
   "source": [
    "## **B**- Análises dos Internados Brasil"
   ]
  },
  {
   "cell_type": "code",
   "execution_count": 4,
   "metadata": {
    "colab": {
     "base_uri": "https://localhost:8080/",
     "height": 534
    },
    "executionInfo": {
     "elapsed": 25703,
     "status": "ok",
     "timestamp": 1628353010432,
     "user": {
      "displayName": "Amanda Carvalho Caravieri",
      "photoUrl": "https://lh3.googleusercontent.com/a-/AOh14GgttA7VYFZyquday9s7XjHqgx9SZeSitqi2j4gXJJc=s64",
      "userId": "11196956687265597470"
     },
     "user_tz": 180
    },
    "id": "dM-Uyl2txDmo",
    "outputId": "e0d882b9-516b-4231-e355-454becb62590"
   },
   "outputs": [
    {
     "name": "stderr",
     "output_type": "stream",
     "text": [
      "C:\\Users\\Windows10\\anaconda3\\lib\\site-packages\\IPython\\core\\interactiveshell.py:3441: DtypeWarning: Columns (15,60,62,63,64,92,94,106,108,115,117,118,119,123) have mixed types.Specify dtype option on import or set low_memory=False.\n",
      "  exec(code_obj, self.user_global_ns, self.user_ns)\n"
     ]
    },
    {
     "data": {
      "text/html": [
       "<div>\n",
       "<style scoped>\n",
       "    .dataframe tbody tr th:only-of-type {\n",
       "        vertical-align: middle;\n",
       "    }\n",
       "\n",
       "    .dataframe tbody tr th {\n",
       "        vertical-align: top;\n",
       "    }\n",
       "\n",
       "    .dataframe thead th {\n",
       "        text-align: right;\n",
       "    }\n",
       "</style>\n",
       "<table border=\"1\" class=\"dataframe\">\n",
       "  <thead>\n",
       "    <tr style=\"text-align: right;\">\n",
       "      <th></th>\n",
       "      <th>DT_NOTIFIC</th>\n",
       "      <th>SEM_NOT</th>\n",
       "      <th>DT_SIN_PRI</th>\n",
       "      <th>SEM_PRI</th>\n",
       "      <th>SG_UF_NOT</th>\n",
       "      <th>ID_REGIONA</th>\n",
       "      <th>CO_REGIONA</th>\n",
       "      <th>ID_MUNICIP</th>\n",
       "      <th>CO_MUN_NOT</th>\n",
       "      <th>ID_UNIDADE</th>\n",
       "      <th>...</th>\n",
       "      <th>DS_AN_OUT</th>\n",
       "      <th>TP_AM_SOR</th>\n",
       "      <th>SOR_OUT</th>\n",
       "      <th>DT_CO_SOR</th>\n",
       "      <th>TP_SOR</th>\n",
       "      <th>OUT_SOR</th>\n",
       "      <th>DT_RES</th>\n",
       "      <th>RES_IGG</th>\n",
       "      <th>RES_IGM</th>\n",
       "      <th>RES_IGA</th>\n",
       "    </tr>\n",
       "  </thead>\n",
       "  <tbody>\n",
       "    <tr>\n",
       "      <th>0</th>\n",
       "      <td>10/01/2020</td>\n",
       "      <td>2</td>\n",
       "      <td>07/01/2020</td>\n",
       "      <td>2</td>\n",
       "      <td>DF</td>\n",
       "      <td>NaN</td>\n",
       "      <td>NaN</td>\n",
       "      <td>BRASILIA</td>\n",
       "      <td>530010</td>\n",
       "      <td>HOSPITAL MATERNO INFANTIL DR ANTONIO LISBOA</td>\n",
       "      <td>...</td>\n",
       "      <td>NaN</td>\n",
       "      <td>NaN</td>\n",
       "      <td>NaN</td>\n",
       "      <td>NaN</td>\n",
       "      <td>NaN</td>\n",
       "      <td>NaN</td>\n",
       "      <td>NaN</td>\n",
       "      <td>NaN</td>\n",
       "      <td>NaN</td>\n",
       "      <td>NaN</td>\n",
       "    </tr>\n",
       "    <tr>\n",
       "      <th>1</th>\n",
       "      <td>07/01/2020</td>\n",
       "      <td>2</td>\n",
       "      <td>03/01/2020</td>\n",
       "      <td>1</td>\n",
       "      <td>DF</td>\n",
       "      <td>NaN</td>\n",
       "      <td>NaN</td>\n",
       "      <td>BRASILIA</td>\n",
       "      <td>530010</td>\n",
       "      <td>HRT HOSPITAL REGIONAL DE TAGUATINGA</td>\n",
       "      <td>...</td>\n",
       "      <td>NaN</td>\n",
       "      <td>NaN</td>\n",
       "      <td>NaN</td>\n",
       "      <td>NaN</td>\n",
       "      <td>NaN</td>\n",
       "      <td>NaN</td>\n",
       "      <td>NaN</td>\n",
       "      <td>NaN</td>\n",
       "      <td>NaN</td>\n",
       "      <td>NaN</td>\n",
       "    </tr>\n",
       "    <tr>\n",
       "      <th>3</th>\n",
       "      <td>27/01/2020</td>\n",
       "      <td>5</td>\n",
       "      <td>26/01/2020</td>\n",
       "      <td>5</td>\n",
       "      <td>CE</td>\n",
       "      <td>1 CRES FORTALEZA</td>\n",
       "      <td>1519.0</td>\n",
       "      <td>FORTALEZA</td>\n",
       "      <td>230440</td>\n",
       "      <td>HIAS HOSPITAL INFANTIL ALBERT SABIN</td>\n",
       "      <td>...</td>\n",
       "      <td>NaN</td>\n",
       "      <td>NaN</td>\n",
       "      <td>NaN</td>\n",
       "      <td>NaN</td>\n",
       "      <td>NaN</td>\n",
       "      <td>NaN</td>\n",
       "      <td>NaN</td>\n",
       "      <td>NaN</td>\n",
       "      <td>NaN</td>\n",
       "      <td>NaN</td>\n",
       "    </tr>\n",
       "    <tr>\n",
       "      <th>6</th>\n",
       "      <td>12/03/2020</td>\n",
       "      <td>11</td>\n",
       "      <td>25/02/2020</td>\n",
       "      <td>9</td>\n",
       "      <td>DF</td>\n",
       "      <td>NaN</td>\n",
       "      <td>NaN</td>\n",
       "      <td>BRASILIA</td>\n",
       "      <td>530010</td>\n",
       "      <td>HRPL</td>\n",
       "      <td>...</td>\n",
       "      <td>NaN</td>\n",
       "      <td>NaN</td>\n",
       "      <td>NaN</td>\n",
       "      <td>NaN</td>\n",
       "      <td>NaN</td>\n",
       "      <td>NaN</td>\n",
       "      <td>NaN</td>\n",
       "      <td>NaN</td>\n",
       "      <td>NaN</td>\n",
       "      <td>NaN</td>\n",
       "    </tr>\n",
       "    <tr>\n",
       "      <th>7</th>\n",
       "      <td>09/03/2020</td>\n",
       "      <td>11</td>\n",
       "      <td>05/03/2020</td>\n",
       "      <td>10</td>\n",
       "      <td>PR</td>\n",
       "      <td>02RS METROPOLITANA</td>\n",
       "      <td>1356.0</td>\n",
       "      <td>CURITIBA</td>\n",
       "      <td>410690</td>\n",
       "      <td>CENTRO MEDICO COMUNITARIO BAIRRO NOVO</td>\n",
       "      <td>...</td>\n",
       "      <td>NaN</td>\n",
       "      <td>NaN</td>\n",
       "      <td>NaN</td>\n",
       "      <td>NaN</td>\n",
       "      <td>NaN</td>\n",
       "      <td>NaN</td>\n",
       "      <td>NaN</td>\n",
       "      <td>NaN</td>\n",
       "      <td>NaN</td>\n",
       "      <td>NaN</td>\n",
       "    </tr>\n",
       "  </tbody>\n",
       "</table>\n",
       "<p>5 rows × 154 columns</p>\n",
       "</div>"
      ],
      "text/plain": [
       "   DT_NOTIFIC  SEM_NOT  DT_SIN_PRI  SEM_PRI SG_UF_NOT          ID_REGIONA  \\\n",
       "0  10/01/2020        2  07/01/2020        2        DF                 NaN   \n",
       "1  07/01/2020        2  03/01/2020        1        DF                 NaN   \n",
       "3  27/01/2020        5  26/01/2020        5        CE    1 CRES FORTALEZA   \n",
       "6  12/03/2020       11  25/02/2020        9        DF                 NaN   \n",
       "7  09/03/2020       11  05/03/2020       10        PR  02RS METROPOLITANA   \n",
       "\n",
       "   CO_REGIONA ID_MUNICIP  CO_MUN_NOT  \\\n",
       "0         NaN   BRASILIA      530010   \n",
       "1         NaN   BRASILIA      530010   \n",
       "3      1519.0  FORTALEZA      230440   \n",
       "6         NaN   BRASILIA      530010   \n",
       "7      1356.0   CURITIBA      410690   \n",
       "\n",
       "                                    ID_UNIDADE  ...  DS_AN_OUT TP_AM_SOR  \\\n",
       "0  HOSPITAL MATERNO INFANTIL DR ANTONIO LISBOA  ...        NaN       NaN   \n",
       "1          HRT HOSPITAL REGIONAL DE TAGUATINGA  ...        NaN       NaN   \n",
       "3          HIAS HOSPITAL INFANTIL ALBERT SABIN  ...        NaN       NaN   \n",
       "6                                         HRPL  ...        NaN       NaN   \n",
       "7        CENTRO MEDICO COMUNITARIO BAIRRO NOVO  ...        NaN       NaN   \n",
       "\n",
       "  SOR_OUT  DT_CO_SOR  TP_SOR OUT_SOR  DT_RES  RES_IGG RES_IGM  RES_IGA  \n",
       "0     NaN        NaN     NaN     NaN     NaN      NaN     NaN      NaN  \n",
       "1     NaN        NaN     NaN     NaN     NaN      NaN     NaN      NaN  \n",
       "3     NaN        NaN     NaN     NaN     NaN      NaN     NaN      NaN  \n",
       "6     NaN        NaN     NaN     NaN     NaN      NaN     NaN      NaN  \n",
       "7     NaN        NaN     NaN     NaN     NaN      NaN     NaN      NaN  \n",
       "\n",
       "[5 rows x 154 columns]"
      ]
     },
     "execution_count": 4,
     "metadata": {},
     "output_type": "execute_result"
    }
   ],
   "source": [
    "df_brasil= pd.read_csv('INFLUD-13-09-2021.csv', sep= ';')\n",
    "df_mcid1= df_brasil.loc[df_brasil['CO_MUN_NOT'].isin([355030, 330455, 530010, 292740, 230440, 310620, 130260, 410690,261160, 431490, 520870, 150140, 351880, 350950, 211130, 330490,270430, 330170, 240810, 500270])]\n",
    "df_mcid1.head()"
   ]
  },
  {
   "cell_type": "markdown",
   "metadata": {
    "id": "smdoXvLNORSO"
   },
   "source": [
    "- Convertendo as variáveis com datas para datetime"
   ]
  },
  {
   "cell_type": "code",
   "execution_count": 9,
   "metadata": {
    "colab": {
     "base_uri": "https://localhost:8080/"
    },
    "executionInfo": {
     "elapsed": 4738,
     "status": "ok",
     "timestamp": 1628353015166,
     "user": {
      "displayName": "Amanda Carvalho Caravieri",
      "photoUrl": "https://lh3.googleusercontent.com/a-/AOh14GgttA7VYFZyquday9s7XjHqgx9SZeSitqi2j4gXJJc=s64",
      "userId": "11196956687265597470"
     },
     "user_tz": 180
    },
    "id": "3bRP_n3eI829",
    "outputId": "4bdc2aa6-f41e-45cd-d517-69e0ddfdf949"
   },
   "outputs": [
    {
     "name": "stdout",
     "output_type": "stream",
     "text": [
      "<class 'pandas.core.frame.DataFrame'>\n",
      "Int64Index: 515321 entries, 0 to 1198535\n",
      "Data columns (total 6 columns):\n",
      " #   Column      Non-Null Count   Dtype         \n",
      "---  ------      --------------   -----         \n",
      " 0   DT_NOTIFIC  515321 non-null  datetime64[ns]\n",
      " 1   DT_NASC     514158 non-null  datetime64[ns]\n",
      " 2   DT_EVOLUCA  455187 non-null  datetime64[ns]\n",
      " 3   DT_ENCERRA  476247 non-null  datetime64[ns]\n",
      " 4   DT_ENTUTI   476247 non-null  datetime64[ns]\n",
      " 5   DT_SAIDUTI  476247 non-null  datetime64[ns]\n",
      "dtypes: datetime64[ns](6)\n",
      "memory usage: 27.5 MB\n"
     ]
    }
   ],
   "source": [
    "df_mcid1['DT_NOTIFIC'] = pd.to_datetime(df_mcid1['DT_NOTIFIC'], format= \"%d/%m/%Y\")\n",
    "df_mcid1['DT_NASC'] = pd.to_datetime(df_mcid1['DT_NASC'], format= \"%d/%m/%Y\")\n",
    "df_mcid1['DT_EVOLUCA'] = pd.to_datetime(df_mcid1['DT_EVOLUCA'], format= \"%d/%m/%Y\")\n",
    "df_mcid1['DT_ENCERRA'] = pd.to_datetime(df_mcid1['DT_ENCERRA'], format= \"%d/%m/%Y\")\n",
    "df_mcid1['DT_ENTUTI'] = pd.to_datetime(df_mcid1['DT_ENCERRA'], format= \"%d/%m/%Y\")\n",
    "df_mcid1['DT_SAIDUTI'] = pd.to_datetime(df_mcid1['DT_ENCERRA'], format= \"%d/%m/%Y\")\n",
    "df_mcid1[['DT_NOTIFIC','DT_NASC', 'DT_EVOLUCA','DT_ENCERRA','DT_ENTUTI', 'DT_SAIDUTI']].info() "
   ]
  },
  {
   "cell_type": "code",
   "execution_count": 10,
   "metadata": {
    "colab": {
     "base_uri": "https://localhost:8080/"
    },
    "executionInfo": {
     "elapsed": 24,
     "status": "ok",
     "timestamp": 1628353015167,
     "user": {
      "displayName": "Amanda Carvalho Caravieri",
      "photoUrl": "https://lh3.googleusercontent.com/a-/AOh14GgttA7VYFZyquday9s7XjHqgx9SZeSitqi2j4gXJJc=s64",
      "userId": "11196956687265597470"
     },
     "user_tz": 180
    },
    "id": "qMneMrpuDZwR",
    "outputId": "3f3b92bd-8352-49a8-876d-0cceded0952d"
   },
   "outputs": [
    {
     "data": {
      "text/plain": [
       "Timestamp('2021-09-08 00:00:00')"
      ]
     },
     "execution_count": 10,
     "metadata": {},
     "output_type": "execute_result"
    }
   ],
   "source": [
    "df_mcid1['DT_NOTIFIC'].max()"
   ]
  },
  {
   "cell_type": "code",
   "execution_count": 11,
   "metadata": {
    "colab": {
     "base_uri": "https://localhost:8080/"
    },
    "executionInfo": {
     "elapsed": 17,
     "status": "ok",
     "timestamp": 1628353015167,
     "user": {
      "displayName": "Amanda Carvalho Caravieri",
      "photoUrl": "https://lh3.googleusercontent.com/a-/AOh14GgttA7VYFZyquday9s7XjHqgx9SZeSitqi2j4gXJJc=s64",
      "userId": "11196956687265597470"
     },
     "user_tz": 180
    },
    "id": "HDIRlT9YDciO",
    "outputId": "057f2446-18a8-459a-9a02-9bc04c9ff86f"
   },
   "outputs": [
    {
     "data": {
      "text/plain": [
       "Timestamp('2019-12-29 00:00:00')"
      ]
     },
     "execution_count": 11,
     "metadata": {},
     "output_type": "execute_result"
    }
   ],
   "source": [
    "df_mcid1['DT_NOTIFIC'].min()"
   ]
  },
  {
   "cell_type": "code",
   "execution_count": 12,
   "metadata": {
    "tags": []
   },
   "outputs": [
    {
     "name": "stderr",
     "output_type": "stream",
     "text": [
      "C:\\Users\\Windows10\\anaconda3\\lib\\site-packages\\IPython\\core\\interactiveshell.py:3441: DtypeWarning: Columns (15,18,60,62,63,64,92,94,106,108,115,117,118,119,123,144) have mixed types.Specify dtype option on import or set low_memory=False.\n",
      "  exec(code_obj, self.user_global_ns, self.user_ns)\n"
     ]
    },
    {
     "data": {
      "text/html": [
       "<div>\n",
       "<style scoped>\n",
       "    .dataframe tbody tr th:only-of-type {\n",
       "        vertical-align: middle;\n",
       "    }\n",
       "\n",
       "    .dataframe tbody tr th {\n",
       "        vertical-align: top;\n",
       "    }\n",
       "\n",
       "    .dataframe thead th {\n",
       "        text-align: right;\n",
       "    }\n",
       "</style>\n",
       "<table border=\"1\" class=\"dataframe\">\n",
       "  <thead>\n",
       "    <tr style=\"text-align: right;\">\n",
       "      <th></th>\n",
       "      <th>DT_NOTIFIC</th>\n",
       "      <th>SEM_NOT</th>\n",
       "      <th>DT_SIN_PRI</th>\n",
       "      <th>SEM_PRI</th>\n",
       "      <th>SG_UF_NOT</th>\n",
       "      <th>ID_REGIONA</th>\n",
       "      <th>CO_REGIONA</th>\n",
       "      <th>ID_MUNICIP</th>\n",
       "      <th>CO_MUN_NOT</th>\n",
       "      <th>ID_UNIDADE</th>\n",
       "      <th>...</th>\n",
       "      <th>RES_IGM</th>\n",
       "      <th>RES_IGA</th>\n",
       "      <th>ESTRANG</th>\n",
       "      <th>VACINA_COV</th>\n",
       "      <th>DOSE_1_COV</th>\n",
       "      <th>DOSE_2_COV</th>\n",
       "      <th>LAB_PR_COV</th>\n",
       "      <th>LOTE_1_COV</th>\n",
       "      <th>LOTE_2_COV</th>\n",
       "      <th>FNT_IN_COV</th>\n",
       "    </tr>\n",
       "  </thead>\n",
       "  <tbody>\n",
       "    <tr>\n",
       "      <th>1</th>\n",
       "      <td>07/01/2021</td>\n",
       "      <td>1</td>\n",
       "      <td>04/01/2021</td>\n",
       "      <td>1</td>\n",
       "      <td>SP</td>\n",
       "      <td>GVE I CAPITAL</td>\n",
       "      <td>1331.0</td>\n",
       "      <td>SAO PAULO</td>\n",
       "      <td>355030</td>\n",
       "      <td>HOSP STA CRUZ</td>\n",
       "      <td>...</td>\n",
       "      <td>NaN</td>\n",
       "      <td>NaN</td>\n",
       "      <td>NaN</td>\n",
       "      <td>NaN</td>\n",
       "      <td>NaN</td>\n",
       "      <td>NaN</td>\n",
       "      <td>NaN</td>\n",
       "      <td>NaN</td>\n",
       "      <td>NaN</td>\n",
       "      <td>NaN</td>\n",
       "    </tr>\n",
       "    <tr>\n",
       "      <th>3</th>\n",
       "      <td>08/01/2021</td>\n",
       "      <td>1</td>\n",
       "      <td>05/01/2021</td>\n",
       "      <td>1</td>\n",
       "      <td>SP</td>\n",
       "      <td>GVE XVII CAMPINAS</td>\n",
       "      <td>1342.0</td>\n",
       "      <td>CAMPINAS</td>\n",
       "      <td>350950</td>\n",
       "      <td>HOSPITAL DAS CLINICAS DA UNICAMP DE CAMPINAS</td>\n",
       "      <td>...</td>\n",
       "      <td>NaN</td>\n",
       "      <td>NaN</td>\n",
       "      <td>NaN</td>\n",
       "      <td>NaN</td>\n",
       "      <td>NaN</td>\n",
       "      <td>NaN</td>\n",
       "      <td>NaN</td>\n",
       "      <td>NaN</td>\n",
       "      <td>NaN</td>\n",
       "      <td>NaN</td>\n",
       "    </tr>\n",
       "    <tr>\n",
       "      <th>4</th>\n",
       "      <td>11/01/2021</td>\n",
       "      <td>2</td>\n",
       "      <td>07/01/2021</td>\n",
       "      <td>1</td>\n",
       "      <td>SP</td>\n",
       "      <td>GVE I CAPITAL</td>\n",
       "      <td>1331.0</td>\n",
       "      <td>SAO PAULO</td>\n",
       "      <td>355030</td>\n",
       "      <td>HOSP STA MAGGIORE BELA VISTA</td>\n",
       "      <td>...</td>\n",
       "      <td>NaN</td>\n",
       "      <td>NaN</td>\n",
       "      <td>NaN</td>\n",
       "      <td>NaN</td>\n",
       "      <td>NaN</td>\n",
       "      <td>NaN</td>\n",
       "      <td>NaN</td>\n",
       "      <td>NaN</td>\n",
       "      <td>NaN</td>\n",
       "      <td>NaN</td>\n",
       "    </tr>\n",
       "    <tr>\n",
       "      <th>7</th>\n",
       "      <td>13/01/2021</td>\n",
       "      <td>2</td>\n",
       "      <td>10/01/2021</td>\n",
       "      <td>2</td>\n",
       "      <td>SP</td>\n",
       "      <td>GVE I CAPITAL</td>\n",
       "      <td>1331.0</td>\n",
       "      <td>SAO PAULO</td>\n",
       "      <td>355030</td>\n",
       "      <td>HOSP MUN DR BENEDICTO MONTENEGRO</td>\n",
       "      <td>...</td>\n",
       "      <td>NaN</td>\n",
       "      <td>NaN</td>\n",
       "      <td>NaN</td>\n",
       "      <td>NaN</td>\n",
       "      <td>NaN</td>\n",
       "      <td>NaN</td>\n",
       "      <td>NaN</td>\n",
       "      <td>NaN</td>\n",
       "      <td>NaN</td>\n",
       "      <td>NaN</td>\n",
       "    </tr>\n",
       "    <tr>\n",
       "      <th>8</th>\n",
       "      <td>11/01/2021</td>\n",
       "      <td>2</td>\n",
       "      <td>07/01/2021</td>\n",
       "      <td>1</td>\n",
       "      <td>SP</td>\n",
       "      <td>GVE XVII CAMPINAS</td>\n",
       "      <td>1342.0</td>\n",
       "      <td>CAMPINAS</td>\n",
       "      <td>350950</td>\n",
       "      <td>COMPLEXO HOSPITALAR PREFEITO EDIVALDO ORSI</td>\n",
       "      <td>...</td>\n",
       "      <td>NaN</td>\n",
       "      <td>NaN</td>\n",
       "      <td>NaN</td>\n",
       "      <td>NaN</td>\n",
       "      <td>NaN</td>\n",
       "      <td>NaN</td>\n",
       "      <td>NaN</td>\n",
       "      <td>NaN</td>\n",
       "      <td>NaN</td>\n",
       "      <td>NaN</td>\n",
       "    </tr>\n",
       "  </tbody>\n",
       "</table>\n",
       "<p>5 rows × 162 columns</p>\n",
       "</div>"
      ],
      "text/plain": [
       "   DT_NOTIFIC  SEM_NOT  DT_SIN_PRI  SEM_PRI SG_UF_NOT         ID_REGIONA  \\\n",
       "1  07/01/2021        1  04/01/2021        1        SP      GVE I CAPITAL   \n",
       "3  08/01/2021        1  05/01/2021        1        SP  GVE XVII CAMPINAS   \n",
       "4  11/01/2021        2  07/01/2021        1        SP      GVE I CAPITAL   \n",
       "7  13/01/2021        2  10/01/2021        2        SP      GVE I CAPITAL   \n",
       "8  11/01/2021        2  07/01/2021        1        SP  GVE XVII CAMPINAS   \n",
       "\n",
       "   CO_REGIONA ID_MUNICIP  CO_MUN_NOT  \\\n",
       "1      1331.0  SAO PAULO      355030   \n",
       "3      1342.0   CAMPINAS      350950   \n",
       "4      1331.0  SAO PAULO      355030   \n",
       "7      1331.0  SAO PAULO      355030   \n",
       "8      1342.0   CAMPINAS      350950   \n",
       "\n",
       "                                     ID_UNIDADE  ...  RES_IGM RES_IGA ESTRANG  \\\n",
       "1                                 HOSP STA CRUZ  ...      NaN     NaN     NaN   \n",
       "3  HOSPITAL DAS CLINICAS DA UNICAMP DE CAMPINAS  ...      NaN     NaN     NaN   \n",
       "4                  HOSP STA MAGGIORE BELA VISTA  ...      NaN     NaN     NaN   \n",
       "7              HOSP MUN DR BENEDICTO MONTENEGRO  ...      NaN     NaN     NaN   \n",
       "8    COMPLEXO HOSPITALAR PREFEITO EDIVALDO ORSI  ...      NaN     NaN     NaN   \n",
       "\n",
       "   VACINA_COV  DOSE_1_COV DOSE_2_COV  LAB_PR_COV  LOTE_1_COV LOTE_2_COV  \\\n",
       "1         NaN         NaN        NaN         NaN         NaN        NaN   \n",
       "3         NaN         NaN        NaN         NaN         NaN        NaN   \n",
       "4         NaN         NaN        NaN         NaN         NaN        NaN   \n",
       "7         NaN         NaN        NaN         NaN         NaN        NaN   \n",
       "8         NaN         NaN        NaN         NaN         NaN        NaN   \n",
       "\n",
       "   FNT_IN_COV  \n",
       "1         NaN  \n",
       "3         NaN  \n",
       "4         NaN  \n",
       "7         NaN  \n",
       "8         NaN  \n",
       "\n",
       "[5 rows x 162 columns]"
      ]
     },
     "execution_count": 12,
     "metadata": {},
     "output_type": "execute_result"
    }
   ],
   "source": [
    "df_brasil= pd.read_csv('INFLUD21-13-09-2021.csv', sep= ';')\n",
    "df_mcid2= df_brasil.loc[df_brasil['CO_MUN_NOT'].isin([355030, 330455, 530010, 292740, 230440, 310620, 130260, 410690,261160, 431490, 520870, 150140, 351880, 350950, 211130, 330490,270430, 330170, 240810, 500270])]\n",
    "df_mcid2.head()"
   ]
  },
  {
   "cell_type": "markdown",
   "metadata": {},
   "source": [
    "- Convertendo as variáveis com datas para datetime"
   ]
  },
  {
   "cell_type": "code",
   "execution_count": 13,
   "metadata": {},
   "outputs": [
    {
     "name": "stderr",
     "output_type": "stream",
     "text": [
      "C:\\Users\\WINDOW~1\\AppData\\Local\\Temp/ipykernel_39308/3273959113.py:1: SettingWithCopyWarning: \n",
      "A value is trying to be set on a copy of a slice from a DataFrame.\n",
      "Try using .loc[row_indexer,col_indexer] = value instead\n",
      "\n",
      "See the caveats in the documentation: https://pandas.pydata.org/pandas-docs/stable/user_guide/indexing.html#returning-a-view-versus-a-copy\n",
      "  df_mcid2['DT_NOTIFIC'] = pd.to_datetime(df_mcid2['DT_NOTIFIC'], format= \"%d/%m/%Y\")\n",
      "C:\\Users\\WINDOW~1\\AppData\\Local\\Temp/ipykernel_39308/3273959113.py:2: SettingWithCopyWarning: \n",
      "A value is trying to be set on a copy of a slice from a DataFrame.\n",
      "Try using .loc[row_indexer,col_indexer] = value instead\n",
      "\n",
      "See the caveats in the documentation: https://pandas.pydata.org/pandas-docs/stable/user_guide/indexing.html#returning-a-view-versus-a-copy\n",
      "  df_mcid2['DT_NASC'] = pd.to_datetime(df_mcid2['DT_NASC'], format= \"%d/%m/%Y\")\n",
      "C:\\Users\\WINDOW~1\\AppData\\Local\\Temp/ipykernel_39308/3273959113.py:3: SettingWithCopyWarning: \n",
      "A value is trying to be set on a copy of a slice from a DataFrame.\n",
      "Try using .loc[row_indexer,col_indexer] = value instead\n",
      "\n",
      "See the caveats in the documentation: https://pandas.pydata.org/pandas-docs/stable/user_guide/indexing.html#returning-a-view-versus-a-copy\n",
      "  df_mcid2['DT_EVOLUCA'] = pd.to_datetime(df_mcid2['DT_EVOLUCA'], format= \"%d/%m/%Y\")\n",
      "C:\\Users\\WINDOW~1\\AppData\\Local\\Temp/ipykernel_39308/3273959113.py:4: SettingWithCopyWarning: \n",
      "A value is trying to be set on a copy of a slice from a DataFrame.\n",
      "Try using .loc[row_indexer,col_indexer] = value instead\n",
      "\n",
      "See the caveats in the documentation: https://pandas.pydata.org/pandas-docs/stable/user_guide/indexing.html#returning-a-view-versus-a-copy\n",
      "  df_mcid2['DT_ENCERRA'] = pd.to_datetime(df_mcid2['DT_ENCERRA'], format= \"%d/%m/%Y\")\n",
      "C:\\Users\\WINDOW~1\\AppData\\Local\\Temp/ipykernel_39308/3273959113.py:5: SettingWithCopyWarning: \n",
      "A value is trying to be set on a copy of a slice from a DataFrame.\n",
      "Try using .loc[row_indexer,col_indexer] = value instead\n",
      "\n",
      "See the caveats in the documentation: https://pandas.pydata.org/pandas-docs/stable/user_guide/indexing.html#returning-a-view-versus-a-copy\n",
      "  df_mcid2['DT_ENTUTI'] = pd.to_datetime(df_mcid2['DT_ENCERRA'], format= \"%d/%m/%Y\")\n"
     ]
    },
    {
     "name": "stdout",
     "output_type": "stream",
     "text": [
      "<class 'pandas.core.frame.DataFrame'>\n",
      "Int64Index: 499196 entries, 1 to 1471563\n",
      "Data columns (total 6 columns):\n",
      " #   Column      Non-Null Count   Dtype         \n",
      "---  ------      --------------   -----         \n",
      " 0   DT_NOTIFIC  499196 non-null  datetime64[ns]\n",
      " 1   DT_NASC     498879 non-null  datetime64[ns]\n",
      " 2   DT_EVOLUCA  395730 non-null  datetime64[ns]\n",
      " 3   DT_ENCERRA  418620 non-null  datetime64[ns]\n",
      " 4   DT_ENTUTI   418620 non-null  datetime64[ns]\n",
      " 5   DT_SAIDUTI  418620 non-null  datetime64[ns]\n",
      "dtypes: datetime64[ns](6)\n",
      "memory usage: 26.7 MB\n"
     ]
    },
    {
     "name": "stderr",
     "output_type": "stream",
     "text": [
      "C:\\Users\\WINDOW~1\\AppData\\Local\\Temp/ipykernel_39308/3273959113.py:6: SettingWithCopyWarning: \n",
      "A value is trying to be set on a copy of a slice from a DataFrame.\n",
      "Try using .loc[row_indexer,col_indexer] = value instead\n",
      "\n",
      "See the caveats in the documentation: https://pandas.pydata.org/pandas-docs/stable/user_guide/indexing.html#returning-a-view-versus-a-copy\n",
      "  df_mcid2['DT_SAIDUTI'] = pd.to_datetime(df_mcid2['DT_ENCERRA'], format= \"%d/%m/%Y\")\n"
     ]
    }
   ],
   "source": [
    "df_mcid2['DT_NOTIFIC'] = pd.to_datetime(df_mcid2['DT_NOTIFIC'], format= \"%d/%m/%Y\")\n",
    "df_mcid2['DT_NASC'] = pd.to_datetime(df_mcid2['DT_NASC'], format= \"%d/%m/%Y\")\n",
    "df_mcid2['DT_EVOLUCA'] = pd.to_datetime(df_mcid2['DT_EVOLUCA'], format= \"%d/%m/%Y\")\n",
    "df_mcid2['DT_ENCERRA'] = pd.to_datetime(df_mcid2['DT_ENCERRA'], format= \"%d/%m/%Y\")\n",
    "df_mcid2['DT_ENTUTI'] = pd.to_datetime(df_mcid2['DT_ENCERRA'], format= \"%d/%m/%Y\")\n",
    "df_mcid2['DT_SAIDUTI'] = pd.to_datetime(df_mcid2['DT_ENCERRA'], format= \"%d/%m/%Y\")\n",
    "df_mcid2[['DT_NOTIFIC','DT_NASC', 'DT_EVOLUCA','DT_ENCERRA','DT_ENTUTI', 'DT_SAIDUTI']].info() "
   ]
  },
  {
   "cell_type": "code",
   "execution_count": 14,
   "metadata": {},
   "outputs": [
    {
     "data": {
      "text/plain": [
       "Timestamp('2021-09-13 00:00:00')"
      ]
     },
     "execution_count": 14,
     "metadata": {},
     "output_type": "execute_result"
    }
   ],
   "source": [
    "df_mcid2['DT_NOTIFIC'].max()"
   ]
  },
  {
   "cell_type": "code",
   "execution_count": 15,
   "metadata": {},
   "outputs": [
    {
     "data": {
      "text/plain": [
       "Timestamp('2021-01-03 00:00:00')"
      ]
     },
     "execution_count": 15,
     "metadata": {},
     "output_type": "execute_result"
    }
   ],
   "source": [
    "df_mcid2['DT_NOTIFIC'].min()"
   ]
  },
  {
   "cell_type": "markdown",
   "metadata": {
    "id": "ZK31Gchv2jCJ"
   },
   "source": [
    "- DATA LIMITE: 16/01/2021  \n",
    "df_mcid1 = Base antes da Vacina\n",
    "df_mcid2 = Base durante a Vacina"
   ]
  },
  {
   "cell_type": "code",
   "execution_count": 16,
   "metadata": {
    "colab": {
     "base_uri": "https://localhost:8080/",
     "height": 884
    },
    "executionInfo": {
     "elapsed": 3054,
     "status": "ok",
     "timestamp": 1628353033376,
     "user": {
      "displayName": "Amanda Carvalho Caravieri",
      "photoUrl": "https://lh3.googleusercontent.com/a-/AOh14GgttA7VYFZyquday9s7XjHqgx9SZeSitqi2j4gXJJc=s64",
      "userId": "11196956687265597470"
     },
     "user_tz": 180
    },
    "id": "dZlttxoW2wf5",
    "outputId": "13a4a16a-c7e0-47b6-be98-584c375ec356"
   },
   "outputs": [],
   "source": [
    "df_mcid1=df_mcid1.loc[df_mcid1['DT_NOTIFIC']<='2021-01-16']"
   ]
  },
  {
   "cell_type": "code",
   "execution_count": 17,
   "metadata": {},
   "outputs": [],
   "source": [
    "df_mcid2=df_mcid2.loc[df_mcid2['DT_NOTIFIC']>'2021-01-16']"
   ]
  },
  {
   "cell_type": "code",
   "execution_count": 18,
   "metadata": {},
   "outputs": [
    {
     "data": {
      "text/html": [
       "<div>\n",
       "<style scoped>\n",
       "    .dataframe tbody tr th:only-of-type {\n",
       "        vertical-align: middle;\n",
       "    }\n",
       "\n",
       "    .dataframe tbody tr th {\n",
       "        vertical-align: top;\n",
       "    }\n",
       "\n",
       "    .dataframe thead th {\n",
       "        text-align: right;\n",
       "    }\n",
       "</style>\n",
       "<table border=\"1\" class=\"dataframe\">\n",
       "  <thead>\n",
       "    <tr style=\"text-align: right;\">\n",
       "      <th></th>\n",
       "      <th>DT_NOTIFIC</th>\n",
       "      <th>SEM_NOT</th>\n",
       "      <th>DT_SIN_PRI</th>\n",
       "      <th>SEM_PRI</th>\n",
       "      <th>SG_UF_NOT</th>\n",
       "      <th>ID_REGIONA</th>\n",
       "      <th>CO_REGIONA</th>\n",
       "      <th>ID_MUNICIP</th>\n",
       "      <th>CO_MUN_NOT</th>\n",
       "      <th>ID_UNIDADE</th>\n",
       "      <th>...</th>\n",
       "      <th>RES_IGM</th>\n",
       "      <th>RES_IGA</th>\n",
       "      <th>ESTRANG</th>\n",
       "      <th>VACINA_COV</th>\n",
       "      <th>DOSE_1_COV</th>\n",
       "      <th>DOSE_2_COV</th>\n",
       "      <th>LAB_PR_COV</th>\n",
       "      <th>LOTE_1_COV</th>\n",
       "      <th>LOTE_2_COV</th>\n",
       "      <th>FNT_IN_COV</th>\n",
       "    </tr>\n",
       "  </thead>\n",
       "  <tbody>\n",
       "    <tr>\n",
       "      <th>0</th>\n",
       "      <td>2020-01-10</td>\n",
       "      <td>2</td>\n",
       "      <td>07/01/2020</td>\n",
       "      <td>2</td>\n",
       "      <td>DF</td>\n",
       "      <td>NaN</td>\n",
       "      <td>NaN</td>\n",
       "      <td>BRASILIA</td>\n",
       "      <td>530010</td>\n",
       "      <td>HOSPITAL MATERNO INFANTIL DR ANTONIO LISBOA</td>\n",
       "      <td>...</td>\n",
       "      <td>NaN</td>\n",
       "      <td>NaN</td>\n",
       "      <td>NaN</td>\n",
       "      <td>NaN</td>\n",
       "      <td>NaN</td>\n",
       "      <td>NaN</td>\n",
       "      <td>NaN</td>\n",
       "      <td>NaN</td>\n",
       "      <td>NaN</td>\n",
       "      <td>NaN</td>\n",
       "    </tr>\n",
       "    <tr>\n",
       "      <th>1</th>\n",
       "      <td>2020-01-07</td>\n",
       "      <td>2</td>\n",
       "      <td>03/01/2020</td>\n",
       "      <td>1</td>\n",
       "      <td>DF</td>\n",
       "      <td>NaN</td>\n",
       "      <td>NaN</td>\n",
       "      <td>BRASILIA</td>\n",
       "      <td>530010</td>\n",
       "      <td>HRT HOSPITAL REGIONAL DE TAGUATINGA</td>\n",
       "      <td>...</td>\n",
       "      <td>NaN</td>\n",
       "      <td>NaN</td>\n",
       "      <td>NaN</td>\n",
       "      <td>NaN</td>\n",
       "      <td>NaN</td>\n",
       "      <td>NaN</td>\n",
       "      <td>NaN</td>\n",
       "      <td>NaN</td>\n",
       "      <td>NaN</td>\n",
       "      <td>NaN</td>\n",
       "    </tr>\n",
       "    <tr>\n",
       "      <th>3</th>\n",
       "      <td>2020-01-27</td>\n",
       "      <td>5</td>\n",
       "      <td>26/01/2020</td>\n",
       "      <td>5</td>\n",
       "      <td>CE</td>\n",
       "      <td>1 CRES FORTALEZA</td>\n",
       "      <td>1519.0</td>\n",
       "      <td>FORTALEZA</td>\n",
       "      <td>230440</td>\n",
       "      <td>HIAS HOSPITAL INFANTIL ALBERT SABIN</td>\n",
       "      <td>...</td>\n",
       "      <td>NaN</td>\n",
       "      <td>NaN</td>\n",
       "      <td>NaN</td>\n",
       "      <td>NaN</td>\n",
       "      <td>NaN</td>\n",
       "      <td>NaN</td>\n",
       "      <td>NaN</td>\n",
       "      <td>NaN</td>\n",
       "      <td>NaN</td>\n",
       "      <td>NaN</td>\n",
       "    </tr>\n",
       "    <tr>\n",
       "      <th>6</th>\n",
       "      <td>2020-03-12</td>\n",
       "      <td>11</td>\n",
       "      <td>25/02/2020</td>\n",
       "      <td>9</td>\n",
       "      <td>DF</td>\n",
       "      <td>NaN</td>\n",
       "      <td>NaN</td>\n",
       "      <td>BRASILIA</td>\n",
       "      <td>530010</td>\n",
       "      <td>HRPL</td>\n",
       "      <td>...</td>\n",
       "      <td>NaN</td>\n",
       "      <td>NaN</td>\n",
       "      <td>NaN</td>\n",
       "      <td>NaN</td>\n",
       "      <td>NaN</td>\n",
       "      <td>NaN</td>\n",
       "      <td>NaN</td>\n",
       "      <td>NaN</td>\n",
       "      <td>NaN</td>\n",
       "      <td>NaN</td>\n",
       "    </tr>\n",
       "    <tr>\n",
       "      <th>7</th>\n",
       "      <td>2020-03-09</td>\n",
       "      <td>11</td>\n",
       "      <td>05/03/2020</td>\n",
       "      <td>10</td>\n",
       "      <td>PR</td>\n",
       "      <td>02RS METROPOLITANA</td>\n",
       "      <td>1356.0</td>\n",
       "      <td>CURITIBA</td>\n",
       "      <td>410690</td>\n",
       "      <td>CENTRO MEDICO COMUNITARIO BAIRRO NOVO</td>\n",
       "      <td>...</td>\n",
       "      <td>NaN</td>\n",
       "      <td>NaN</td>\n",
       "      <td>NaN</td>\n",
       "      <td>NaN</td>\n",
       "      <td>NaN</td>\n",
       "      <td>NaN</td>\n",
       "      <td>NaN</td>\n",
       "      <td>NaN</td>\n",
       "      <td>NaN</td>\n",
       "      <td>NaN</td>\n",
       "    </tr>\n",
       "    <tr>\n",
       "      <th>...</th>\n",
       "      <td>...</td>\n",
       "      <td>...</td>\n",
       "      <td>...</td>\n",
       "      <td>...</td>\n",
       "      <td>...</td>\n",
       "      <td>...</td>\n",
       "      <td>...</td>\n",
       "      <td>...</td>\n",
       "      <td>...</td>\n",
       "      <td>...</td>\n",
       "      <td>...</td>\n",
       "      <td>...</td>\n",
       "      <td>...</td>\n",
       "      <td>...</td>\n",
       "      <td>...</td>\n",
       "      <td>...</td>\n",
       "      <td>...</td>\n",
       "      <td>...</td>\n",
       "      <td>...</td>\n",
       "      <td>...</td>\n",
       "      <td>...</td>\n",
       "    </tr>\n",
       "    <tr>\n",
       "      <th>1471551</th>\n",
       "      <td>2021-09-10</td>\n",
       "      <td>36</td>\n",
       "      <td>30/08/2021</td>\n",
       "      <td>35</td>\n",
       "      <td>SP</td>\n",
       "      <td>GVE I CAPITAL</td>\n",
       "      <td>1331.0</td>\n",
       "      <td>SAO PAULO</td>\n",
       "      <td>355030</td>\n",
       "      <td>HOSPITAL DO SERV PUB EST FCO MORATO DE OLIVEIR...</td>\n",
       "      <td>...</td>\n",
       "      <td>NaN</td>\n",
       "      <td>NaN</td>\n",
       "      <td>2.0</td>\n",
       "      <td>1.0</td>\n",
       "      <td>NaN</td>\n",
       "      <td>NaN</td>\n",
       "      <td>ASTRAZENICA 2 DOSES</td>\n",
       "      <td>NaN</td>\n",
       "      <td>NaN</td>\n",
       "      <td>1.0</td>\n",
       "    </tr>\n",
       "    <tr>\n",
       "      <th>1471555</th>\n",
       "      <td>2021-09-02</td>\n",
       "      <td>35</td>\n",
       "      <td>29/08/2021</td>\n",
       "      <td>35</td>\n",
       "      <td>SP</td>\n",
       "      <td>GVE I CAPITAL</td>\n",
       "      <td>1331.0</td>\n",
       "      <td>SAO PAULO</td>\n",
       "      <td>355030</td>\n",
       "      <td>HOSPITAL DO SERV PUB EST FCO MORATO DE OLIVEIR...</td>\n",
       "      <td>...</td>\n",
       "      <td>NaN</td>\n",
       "      <td>NaN</td>\n",
       "      <td>2.0</td>\n",
       "      <td>NaN</td>\n",
       "      <td>NaN</td>\n",
       "      <td>NaN</td>\n",
       "      <td>NaN</td>\n",
       "      <td>NaN</td>\n",
       "      <td>NaN</td>\n",
       "      <td>NaN</td>\n",
       "    </tr>\n",
       "    <tr>\n",
       "      <th>1471559</th>\n",
       "      <td>2021-08-30</td>\n",
       "      <td>35</td>\n",
       "      <td>22/08/2021</td>\n",
       "      <td>34</td>\n",
       "      <td>RJ</td>\n",
       "      <td>NaN</td>\n",
       "      <td>NaN</td>\n",
       "      <td>RIO DE JANEIRO</td>\n",
       "      <td>330455</td>\n",
       "      <td>HOSPITAL QUINTA DOR</td>\n",
       "      <td>...</td>\n",
       "      <td>NaN</td>\n",
       "      <td>NaN</td>\n",
       "      <td>2.0</td>\n",
       "      <td>1.0</td>\n",
       "      <td>23/03/2021</td>\n",
       "      <td>20/04/2021</td>\n",
       "      <td>SINOVAC</td>\n",
       "      <td>NaN</td>\n",
       "      <td>NaN</td>\n",
       "      <td>1.0</td>\n",
       "    </tr>\n",
       "    <tr>\n",
       "      <th>1471561</th>\n",
       "      <td>2021-07-24</td>\n",
       "      <td>29</td>\n",
       "      <td>24/07/2021</td>\n",
       "      <td>29</td>\n",
       "      <td>RJ</td>\n",
       "      <td>NaN</td>\n",
       "      <td>NaN</td>\n",
       "      <td>DUQUE DE CAXIAS</td>\n",
       "      <td>330170</td>\n",
       "      <td>SES RJ UPA 24H SARAPUI</td>\n",
       "      <td>...</td>\n",
       "      <td>NaN</td>\n",
       "      <td>NaN</td>\n",
       "      <td>NaN</td>\n",
       "      <td>9.0</td>\n",
       "      <td>NaN</td>\n",
       "      <td>NaN</td>\n",
       "      <td>NaN</td>\n",
       "      <td>NaN</td>\n",
       "      <td>NaN</td>\n",
       "      <td>1.0</td>\n",
       "    </tr>\n",
       "    <tr>\n",
       "      <th>1471563</th>\n",
       "      <td>2021-09-06</td>\n",
       "      <td>36</td>\n",
       "      <td>31/08/2021</td>\n",
       "      <td>35</td>\n",
       "      <td>SP</td>\n",
       "      <td>GVE XVII CAMPINAS</td>\n",
       "      <td>1342.0</td>\n",
       "      <td>CAMPINAS</td>\n",
       "      <td>350950</td>\n",
       "      <td>UNIDADE DE PRONTO ATENDIMENTO ANCHIETA METROPO...</td>\n",
       "      <td>...</td>\n",
       "      <td>NaN</td>\n",
       "      <td>NaN</td>\n",
       "      <td>2.0</td>\n",
       "      <td>1.0</td>\n",
       "      <td>10/04/2021</td>\n",
       "      <td>10/05/2021</td>\n",
       "      <td>CORONAVAC</td>\n",
       "      <td>NaN</td>\n",
       "      <td>NaN</td>\n",
       "      <td>1.0</td>\n",
       "    </tr>\n",
       "  </tbody>\n",
       "</table>\n",
       "<p>995648 rows × 162 columns</p>\n",
       "</div>"
      ],
      "text/plain": [
       "        DT_NOTIFIC  SEM_NOT  DT_SIN_PRI  SEM_PRI SG_UF_NOT  \\\n",
       "0       2020-01-10        2  07/01/2020        2        DF   \n",
       "1       2020-01-07        2  03/01/2020        1        DF   \n",
       "3       2020-01-27        5  26/01/2020        5        CE   \n",
       "6       2020-03-12       11  25/02/2020        9        DF   \n",
       "7       2020-03-09       11  05/03/2020       10        PR   \n",
       "...            ...      ...         ...      ...       ...   \n",
       "1471551 2021-09-10       36  30/08/2021       35        SP   \n",
       "1471555 2021-09-02       35  29/08/2021       35        SP   \n",
       "1471559 2021-08-30       35  22/08/2021       34        RJ   \n",
       "1471561 2021-07-24       29  24/07/2021       29        RJ   \n",
       "1471563 2021-09-06       36  31/08/2021       35        SP   \n",
       "\n",
       "                 ID_REGIONA  CO_REGIONA       ID_MUNICIP  CO_MUN_NOT  \\\n",
       "0                       NaN         NaN         BRASILIA      530010   \n",
       "1                       NaN         NaN         BRASILIA      530010   \n",
       "3          1 CRES FORTALEZA      1519.0        FORTALEZA      230440   \n",
       "6                       NaN         NaN         BRASILIA      530010   \n",
       "7        02RS METROPOLITANA      1356.0         CURITIBA      410690   \n",
       "...                     ...         ...              ...         ...   \n",
       "1471551       GVE I CAPITAL      1331.0        SAO PAULO      355030   \n",
       "1471555       GVE I CAPITAL      1331.0        SAO PAULO      355030   \n",
       "1471559                 NaN         NaN   RIO DE JANEIRO      330455   \n",
       "1471561                 NaN         NaN  DUQUE DE CAXIAS      330170   \n",
       "1471563   GVE XVII CAMPINAS      1342.0         CAMPINAS      350950   \n",
       "\n",
       "                                                ID_UNIDADE  ...  RES_IGM  \\\n",
       "0              HOSPITAL MATERNO INFANTIL DR ANTONIO LISBOA  ...      NaN   \n",
       "1                      HRT HOSPITAL REGIONAL DE TAGUATINGA  ...      NaN   \n",
       "3                      HIAS HOSPITAL INFANTIL ALBERT SABIN  ...      NaN   \n",
       "6                                                     HRPL  ...      NaN   \n",
       "7                    CENTRO MEDICO COMUNITARIO BAIRRO NOVO  ...      NaN   \n",
       "...                                                    ...  ...      ...   \n",
       "1471551  HOSPITAL DO SERV PUB EST FCO MORATO DE OLIVEIR...  ...      NaN   \n",
       "1471555  HOSPITAL DO SERV PUB EST FCO MORATO DE OLIVEIR...  ...      NaN   \n",
       "1471559                                HOSPITAL QUINTA DOR  ...      NaN   \n",
       "1471561                             SES RJ UPA 24H SARAPUI  ...      NaN   \n",
       "1471563  UNIDADE DE PRONTO ATENDIMENTO ANCHIETA METROPO...  ...      NaN   \n",
       "\n",
       "        RES_IGA ESTRANG  VACINA_COV  DOSE_1_COV  DOSE_2_COV  \\\n",
       "0           NaN     NaN         NaN         NaN         NaN   \n",
       "1           NaN     NaN         NaN         NaN         NaN   \n",
       "3           NaN     NaN         NaN         NaN         NaN   \n",
       "6           NaN     NaN         NaN         NaN         NaN   \n",
       "7           NaN     NaN         NaN         NaN         NaN   \n",
       "...         ...     ...         ...         ...         ...   \n",
       "1471551     NaN     2.0         1.0         NaN         NaN   \n",
       "1471555     NaN     2.0         NaN         NaN         NaN   \n",
       "1471559     NaN     2.0         1.0  23/03/2021  20/04/2021   \n",
       "1471561     NaN     NaN         9.0         NaN         NaN   \n",
       "1471563     NaN     2.0         1.0  10/04/2021  10/05/2021   \n",
       "\n",
       "                  LAB_PR_COV  LOTE_1_COV LOTE_2_COV  FNT_IN_COV  \n",
       "0                        NaN         NaN        NaN         NaN  \n",
       "1                        NaN         NaN        NaN         NaN  \n",
       "3                        NaN         NaN        NaN         NaN  \n",
       "6                        NaN         NaN        NaN         NaN  \n",
       "7                        NaN         NaN        NaN         NaN  \n",
       "...                      ...         ...        ...         ...  \n",
       "1471551  ASTRAZENICA 2 DOSES         NaN        NaN         1.0  \n",
       "1471555                  NaN         NaN        NaN         NaN  \n",
       "1471559              SINOVAC         NaN        NaN         1.0  \n",
       "1471561                  NaN         NaN        NaN         1.0  \n",
       "1471563            CORONAVAC         NaN        NaN         1.0  \n",
       "\n",
       "[995648 rows x 162 columns]"
      ]
     },
     "execution_count": 18,
     "metadata": {},
     "output_type": "execute_result"
    }
   ],
   "source": [
    "df_mcid=pd.concat([df_mcid1, df_mcid2])\n",
    "df_mcid"
   ]
  },
  {
   "cell_type": "markdown",
   "metadata": {
    "id": "yQLQkBCstHZd"
   },
   "source": [
    "- Variáveis : Combinamos de manter as variáveis que tenham pelo menos um SIM [nesta tabela](https://docs.google.com/spreadsheets/d/17-jccz8DWl_fW7NpA0d6A3wQ3Ntc8qKX/edit#gid=1202247063) a partir da interpretação do Dicionário.\n",
    "\n",
    "OBS: Nesta base atualizada existem 8 variáveis a mais do que a antiga:\n",
    "\n",
    "'ESTRANG', 'VACINA_COV', 'DOSE_1_COV', 'DOSE_2_COV', 'LAB_PR_COV', 'LOTE_1_COV', 'LOTE_2_COV', 'FNT_IN_COV'.\n",
    "\n",
    "Essas colunas também foram dropadas.\n",
    "\n",
    "\n"
   ]
  },
  {
   "cell_type": "code",
   "execution_count": 22,
   "metadata": {
    "colab": {
     "base_uri": "https://localhost:8080/"
    },
    "executionInfo": {
     "elapsed": 514,
     "status": "ok",
     "timestamp": 1628353062782,
     "user": {
      "displayName": "Amanda Carvalho Caravieri",
      "photoUrl": "https://lh3.googleusercontent.com/a-/AOh14GgttA7VYFZyquday9s7XjHqgx9SZeSitqi2j4gXJJc=s64",
      "userId": "11196956687265597470"
     },
     "user_tz": 180
    },
    "id": "2Ng3X3x94V6Q",
    "outputId": "889c4199-4b2d-48d8-b138-bb5fe18ad27d"
   },
   "outputs": [],
   "source": [
    "df_mcid.drop(columns=[ 'SEM_NOT','DT_SIN_PRI','SEM_PRI','ID_REGIONA','CO_REGIONA', 'ID_UNIDADE', 'CO_UNI_NOT','ID_PAIS','CO_PAIS',\n",
    "                      'SG_UF', 'ID_RG_RESI','CO_RG_RESI','ID_MN_RESI','CO_MUN_RES','CS_ZONA',\n",
    "                      'CS_ETINIA', 'PAC_COCBO','PAC_DSCBO','PAIS_VGM','CO_PS_VGM','LO_PS_VGM','DT_VGM','DT_RT_VGM',\n",
    "                      'OUTRO_DES','MORB_DESC','DT_UT_DOSE','MAE_VAC', 'DT_VAC_MAE',\n",
    "                      'M_AMAMENTA','DT_DOSEUNI', 'DT_1_DOSE','DT_2_DOSE','TP_ANTIVIR','OUT_ANTIV','DT_ANTIVIR','DT_INTERNA',\n",
    "                      'ID_RG_INTE','CO_RG_INTE', 'ID_MN_INTE','RAIOX_OUT','DT_RAIOX','TOMO_OUT','DT_TOMO',\n",
    "                      'AMOSTRA','DT_COLETA','TP_AMOSTRA','OUT_AMOST', 'DT_PCR','POS_PCRFLU','TP_FLU_PCR','PCR_FLUASU','FLUASU_OUT',\n",
    "                      'PCR_FLUBLI','FLUBLI_OUT','POS_PCROUT','PCR_SARS2', 'PCR_VSR','PCR_PARA1','PCR_PARA2','PCR_PARA3','PCR_PARA4',\n",
    "                      'PCR_ADENO','PCR_METAP','PCR_BOCA','PCR_RINO','PCR_OUTRO', 'DS_PCR_OUT','CLASSI_FIN','CLASSI_OUT','CRITERIO',\n",
    "                      'TP_TES_AN','DT_RES_AN','RES_AN','POS_AN_FLU','TP_FLU_AN','POS_AN_OUT', 'AN_SARS2','AN_VSR','AN_PARA1',\n",
    "                      'AN_PARA2','AN_PARA3','AN_ADENO','AN_OUTRO','DS_AN_OUT','TP_AM_SOR','SOR_OUT','DT_CO_SOR', 'TP_SOR','OUT_SOR',\n",
    "                      'DT_RES','DT_DIGITA','OBES_IMC', 'OUT_ANIM', 'ESTRANG', 'VACINA_COV', 'DOSE_1_COV', 'DOSE_2_COV', 'LAB_PR_COV', \n",
    "                      'LOTE_1_COV', 'LOTE_2_COV', 'FNT_IN_COV'], inplace=True)"
   ]
  },
  {
   "cell_type": "code",
   "execution_count": 23,
   "metadata": {
    "id": "gnzjHh2apCju"
   },
   "outputs": [
    {
     "ename": "KeyError",
     "evalue": "2",
     "output_type": "error",
     "traceback": [
      "\u001b[1;31m---------------------------------------------------------------------------\u001b[0m",
      "\u001b[1;31mKeyError\u001b[0m                                  Traceback (most recent call last)",
      "\u001b[1;32m~\\anaconda3\\lib\\site-packages\\pandas\\core\\indexes\\base.py\u001b[0m in \u001b[0;36mget_loc\u001b[1;34m(self, key, method, tolerance)\u001b[0m\n\u001b[0;32m   3360\u001b[0m             \u001b[1;32mtry\u001b[0m\u001b[1;33m:\u001b[0m\u001b[1;33m\u001b[0m\u001b[1;33m\u001b[0m\u001b[0m\n\u001b[1;32m-> 3361\u001b[1;33m                 \u001b[1;32mreturn\u001b[0m \u001b[0mself\u001b[0m\u001b[1;33m.\u001b[0m\u001b[0m_engine\u001b[0m\u001b[1;33m.\u001b[0m\u001b[0mget_loc\u001b[0m\u001b[1;33m(\u001b[0m\u001b[0mcasted_key\u001b[0m\u001b[1;33m)\u001b[0m\u001b[1;33m\u001b[0m\u001b[1;33m\u001b[0m\u001b[0m\n\u001b[0m\u001b[0;32m   3362\u001b[0m             \u001b[1;32mexcept\u001b[0m \u001b[0mKeyError\u001b[0m \u001b[1;32mas\u001b[0m \u001b[0merr\u001b[0m\u001b[1;33m:\u001b[0m\u001b[1;33m\u001b[0m\u001b[1;33m\u001b[0m\u001b[0m\n",
      "\u001b[1;32m~\\anaconda3\\lib\\site-packages\\pandas\\_libs\\index.pyx\u001b[0m in \u001b[0;36mpandas._libs.index.IndexEngine.get_loc\u001b[1;34m()\u001b[0m\n",
      "\u001b[1;32m~\\anaconda3\\lib\\site-packages\\pandas\\_libs\\index.pyx\u001b[0m in \u001b[0;36mpandas._libs.index.IndexEngine.get_loc\u001b[1;34m()\u001b[0m\n",
      "\u001b[1;32m~\\anaconda3\\lib\\site-packages\\pandas\\_libs\\index.pyx\u001b[0m in \u001b[0;36mpandas._libs.index.IndexEngine._get_loc_duplicates\u001b[1;34m()\u001b[0m\n",
      "\u001b[1;32mpandas\\_libs\\index_class_helper.pxi\u001b[0m in \u001b[0;36mpandas._libs.index.Int64Engine._maybe_get_bool_indexer\u001b[1;34m()\u001b[0m\n",
      "\u001b[1;32m~\\anaconda3\\lib\\site-packages\\pandas\\_libs\\index.pyx\u001b[0m in \u001b[0;36mpandas._libs.index.IndexEngine._unpack_bool_indexer\u001b[1;34m()\u001b[0m\n",
      "\u001b[1;31mKeyError\u001b[0m: 2",
      "\nThe above exception was the direct cause of the following exception:\n",
      "\u001b[1;31mKeyError\u001b[0m                                  Traceback (most recent call last)",
      "\u001b[1;32mC:\\Users\\WINDOW~1\\AppData\\Local\\Temp/ipykernel_39308/2541251756.py\u001b[0m in \u001b[0;36m<module>\u001b[1;34m\u001b[0m\n\u001b[0;32m      3\u001b[0m \u001b[1;32mfor\u001b[0m \u001b[0mi\u001b[0m\u001b[1;33m,\u001b[0m\u001b[0mj\u001b[0m \u001b[1;32min\u001b[0m \u001b[0menumerate\u001b[0m \u001b[1;33m(\u001b[0m\u001b[0mdf_mcid\u001b[0m\u001b[1;33m.\u001b[0m\u001b[0mTP_IDADE\u001b[0m\u001b[1;33m)\u001b[0m\u001b[1;33m:\u001b[0m\u001b[1;33m\u001b[0m\u001b[1;33m\u001b[0m\u001b[0m\n\u001b[0;32m      4\u001b[0m   \u001b[1;32mif\u001b[0m \u001b[0mj\u001b[0m \u001b[1;33m==\u001b[0m \u001b[1;36m2\u001b[0m\u001b[1;33m:\u001b[0m\u001b[1;33m\u001b[0m\u001b[1;33m\u001b[0m\u001b[0m\n\u001b[1;32m----> 5\u001b[1;33m     \u001b[0midade_aux\u001b[0m\u001b[1;33m.\u001b[0m\u001b[0mappend\u001b[0m\u001b[1;33m(\u001b[0m\u001b[0mdf_mcid\u001b[0m\u001b[1;33m.\u001b[0m\u001b[0mNU_IDADE_N\u001b[0m\u001b[1;33m[\u001b[0m\u001b[0mi\u001b[0m\u001b[1;33m]\u001b[0m\u001b[1;33m/\u001b[0m\u001b[1;36m12\u001b[0m\u001b[1;33m)\u001b[0m\u001b[1;33m\u001b[0m\u001b[1;33m\u001b[0m\u001b[0m\n\u001b[0m\u001b[0;32m      6\u001b[0m   \u001b[1;32melif\u001b[0m \u001b[0mj\u001b[0m \u001b[1;33m==\u001b[0m \u001b[1;36m1\u001b[0m\u001b[1;33m:\u001b[0m\u001b[1;33m\u001b[0m\u001b[1;33m\u001b[0m\u001b[0m\n\u001b[0;32m      7\u001b[0m     \u001b[0midade_aux\u001b[0m\u001b[1;33m.\u001b[0m\u001b[0mappend\u001b[0m\u001b[1;33m(\u001b[0m\u001b[0mdf_mcid\u001b[0m\u001b[1;33m.\u001b[0m\u001b[0mNU_IDADE_N\u001b[0m\u001b[1;33m[\u001b[0m\u001b[0mi\u001b[0m\u001b[1;33m]\u001b[0m\u001b[1;33m/\u001b[0m\u001b[1;36m360\u001b[0m\u001b[1;33m)\u001b[0m\u001b[1;33m\u001b[0m\u001b[1;33m\u001b[0m\u001b[0m\n",
      "\u001b[1;32m~\\anaconda3\\lib\\site-packages\\pandas\\core\\series.py\u001b[0m in \u001b[0;36m__getitem__\u001b[1;34m(self, key)\u001b[0m\n\u001b[0;32m    940\u001b[0m \u001b[1;33m\u001b[0m\u001b[0m\n\u001b[0;32m    941\u001b[0m         \u001b[1;32melif\u001b[0m \u001b[0mkey_is_scalar\u001b[0m\u001b[1;33m:\u001b[0m\u001b[1;33m\u001b[0m\u001b[1;33m\u001b[0m\u001b[0m\n\u001b[1;32m--> 942\u001b[1;33m             \u001b[1;32mreturn\u001b[0m \u001b[0mself\u001b[0m\u001b[1;33m.\u001b[0m\u001b[0m_get_value\u001b[0m\u001b[1;33m(\u001b[0m\u001b[0mkey\u001b[0m\u001b[1;33m)\u001b[0m\u001b[1;33m\u001b[0m\u001b[1;33m\u001b[0m\u001b[0m\n\u001b[0m\u001b[0;32m    943\u001b[0m \u001b[1;33m\u001b[0m\u001b[0m\n\u001b[0;32m    944\u001b[0m         \u001b[1;32mif\u001b[0m \u001b[0mis_hashable\u001b[0m\u001b[1;33m(\u001b[0m\u001b[0mkey\u001b[0m\u001b[1;33m)\u001b[0m\u001b[1;33m:\u001b[0m\u001b[1;33m\u001b[0m\u001b[1;33m\u001b[0m\u001b[0m\n",
      "\u001b[1;32m~\\anaconda3\\lib\\site-packages\\pandas\\core\\series.py\u001b[0m in \u001b[0;36m_get_value\u001b[1;34m(self, label, takeable)\u001b[0m\n\u001b[0;32m   1049\u001b[0m \u001b[1;33m\u001b[0m\u001b[0m\n\u001b[0;32m   1050\u001b[0m         \u001b[1;31m# Similar to Index.get_value, but we do not fall back to positional\u001b[0m\u001b[1;33m\u001b[0m\u001b[1;33m\u001b[0m\u001b[1;33m\u001b[0m\u001b[0m\n\u001b[1;32m-> 1051\u001b[1;33m         \u001b[0mloc\u001b[0m \u001b[1;33m=\u001b[0m \u001b[0mself\u001b[0m\u001b[1;33m.\u001b[0m\u001b[0mindex\u001b[0m\u001b[1;33m.\u001b[0m\u001b[0mget_loc\u001b[0m\u001b[1;33m(\u001b[0m\u001b[0mlabel\u001b[0m\u001b[1;33m)\u001b[0m\u001b[1;33m\u001b[0m\u001b[1;33m\u001b[0m\u001b[0m\n\u001b[0m\u001b[0;32m   1052\u001b[0m         \u001b[1;32mreturn\u001b[0m \u001b[0mself\u001b[0m\u001b[1;33m.\u001b[0m\u001b[0mindex\u001b[0m\u001b[1;33m.\u001b[0m\u001b[0m_get_values_for_loc\u001b[0m\u001b[1;33m(\u001b[0m\u001b[0mself\u001b[0m\u001b[1;33m,\u001b[0m \u001b[0mloc\u001b[0m\u001b[1;33m,\u001b[0m \u001b[0mlabel\u001b[0m\u001b[1;33m)\u001b[0m\u001b[1;33m\u001b[0m\u001b[1;33m\u001b[0m\u001b[0m\n\u001b[0;32m   1053\u001b[0m \u001b[1;33m\u001b[0m\u001b[0m\n",
      "\u001b[1;32m~\\anaconda3\\lib\\site-packages\\pandas\\core\\indexes\\base.py\u001b[0m in \u001b[0;36mget_loc\u001b[1;34m(self, key, method, tolerance)\u001b[0m\n\u001b[0;32m   3361\u001b[0m                 \u001b[1;32mreturn\u001b[0m \u001b[0mself\u001b[0m\u001b[1;33m.\u001b[0m\u001b[0m_engine\u001b[0m\u001b[1;33m.\u001b[0m\u001b[0mget_loc\u001b[0m\u001b[1;33m(\u001b[0m\u001b[0mcasted_key\u001b[0m\u001b[1;33m)\u001b[0m\u001b[1;33m\u001b[0m\u001b[1;33m\u001b[0m\u001b[0m\n\u001b[0;32m   3362\u001b[0m             \u001b[1;32mexcept\u001b[0m \u001b[0mKeyError\u001b[0m \u001b[1;32mas\u001b[0m \u001b[0merr\u001b[0m\u001b[1;33m:\u001b[0m\u001b[1;33m\u001b[0m\u001b[1;33m\u001b[0m\u001b[0m\n\u001b[1;32m-> 3363\u001b[1;33m                 \u001b[1;32mraise\u001b[0m \u001b[0mKeyError\u001b[0m\u001b[1;33m(\u001b[0m\u001b[0mkey\u001b[0m\u001b[1;33m)\u001b[0m \u001b[1;32mfrom\u001b[0m \u001b[0merr\u001b[0m\u001b[1;33m\u001b[0m\u001b[1;33m\u001b[0m\u001b[0m\n\u001b[0m\u001b[0;32m   3364\u001b[0m \u001b[1;33m\u001b[0m\u001b[0m\n\u001b[0;32m   3365\u001b[0m         \u001b[1;32mif\u001b[0m \u001b[0mis_scalar\u001b[0m\u001b[1;33m(\u001b[0m\u001b[0mkey\u001b[0m\u001b[1;33m)\u001b[0m \u001b[1;32mand\u001b[0m \u001b[0misna\u001b[0m\u001b[1;33m(\u001b[0m\u001b[0mkey\u001b[0m\u001b[1;33m)\u001b[0m \u001b[1;32mand\u001b[0m \u001b[1;32mnot\u001b[0m \u001b[0mself\u001b[0m\u001b[1;33m.\u001b[0m\u001b[0mhasnans\u001b[0m\u001b[1;33m:\u001b[0m\u001b[1;33m\u001b[0m\u001b[1;33m\u001b[0m\u001b[0m\n",
      "\u001b[1;31mKeyError\u001b[0m: 2"
     ]
    }
   ],
   "source": [
    "\n",
    "idade_aux = []\n",
    "\n",
    "for i,j in enumerate (df_mcid.TP_IDADE):\n",
    "  if j == 2:\n",
    "    idade_aux.append(df_mcid.NU_IDADE_N[i]/12)\n",
    "  elif j == 1:\n",
    "    idade_aux.append(df_mcid.NU_IDADE_N[i]/360)\n",
    "  else:\n",
    "    idade_aux.append(df_mcid.NU_IDADE_N[i])\n",
    "    \n",
    "df_mcid[\"IDADE_ANOS\"] = idade_aux\n"
   ]
  },
  {
   "cell_type": "code",
   "execution_count": null,
   "metadata": {
    "colab": {
     "base_uri": "https://localhost:8080/",
     "height": 414
    },
    "executionInfo": {
     "elapsed": 484,
     "status": "ok",
     "timestamp": 1628353028535,
     "user": {
      "displayName": "Amanda Carvalho Caravieri",
      "photoUrl": "https://lh3.googleusercontent.com/a-/AOh14GgttA7VYFZyquday9s7XjHqgx9SZeSitqi2j4gXJJc=s64",
      "userId": "11196956687265597470"
     },
     "user_tz": 180
    },
    "id": "VMoKfsM8PWXs",
    "outputId": "06621416-bde8-431b-adb2-0cf578a4b30e"
   },
   "outputs": [],
   "source": [
    "df_mcid[[\"IDADE_ANOS\",'NU_IDADE_N','TP_IDADE','COD_IDADE']]"
   ]
  },
  {
   "cell_type": "markdown",
   "metadata": {
    "id": "tptFdsWgmcrw"
   },
   "source": [
    "- Filtro: Criação da coluna IDADE e drop nas outras . \n",
    "\n",
    "OBS: No campo de 'NU_IDADE_N','TP_IDADE','COD_IDADE',devemos dar atenção maior se as idades forem menores que 1 ano:\n",
    "\n",
    "Ex: Paciente apresenta, na coluna da idade, o valor 8, porém na coluna seguinte (que classifica em 1:dias, 2:meses, 3: anos) apresenta o valor 2 para este paciente. Então não são 8 anos e sim, 8 meses.( 0,67 anos) \n",
    "\n",
    "Vamos então criar uma coluna com idade em float e não int.\n",
    "\n"
   ]
  },
  {
   "cell_type": "code",
   "execution_count": null,
   "metadata": {
    "colab": {
     "base_uri": "https://localhost:8080/",
     "height": 484
    },
    "executionInfo": {
     "elapsed": 1792,
     "status": "ok",
     "timestamp": 1628353030325,
     "user": {
      "displayName": "Amanda Carvalho Caravieri",
      "photoUrl": "https://lh3.googleusercontent.com/a-/AOh14GgttA7VYFZyquday9s7XjHqgx9SZeSitqi2j4gXJJc=s64",
      "userId": "11196956687265597470"
     },
     "user_tz": 180
    },
    "id": "HDx4QyHmhLSb",
    "outputId": "9e9161dc-a2d6-4438-9249-414eece89cba"
   },
   "outputs": [],
   "source": [
    "df_brasil.drop(columns=['NU_IDADE_N','TP_IDADE','COD_IDADE','DT_NASC'], inplace=True)\n",
    "df_brasil.head()\n"
   ]
  },
  {
   "cell_type": "code",
   "execution_count": null,
   "metadata": {
    "colab": {
     "base_uri": "https://localhost:8080/"
    },
    "executionInfo": {
     "elapsed": 341,
     "status": "ok",
     "timestamp": 1628353041799,
     "user": {
      "displayName": "Amanda Carvalho Caravieri",
      "photoUrl": "https://lh3.googleusercontent.com/a-/AOh14GgttA7VYFZyquday9s7XjHqgx9SZeSitqi2j4gXJJc=s64",
      "userId": "11196956687265597470"
     },
     "user_tz": 180
    },
    "id": "JHpflHzYAi-B",
    "outputId": "70d8e3d5-f159-47c9-ecfc-8a81af625b66"
   },
   "outputs": [],
   "source": [
    "df_brasil_AV['DT_NOTIFIC'].min()"
   ]
  },
  {
   "cell_type": "code",
   "execution_count": null,
   "metadata": {
    "colab": {
     "base_uri": "https://localhost:8080/"
    },
    "executionInfo": {
     "elapsed": 9,
     "status": "ok",
     "timestamp": 1628353043538,
     "user": {
      "displayName": "Amanda Carvalho Caravieri",
      "photoUrl": "https://lh3.googleusercontent.com/a-/AOh14GgttA7VYFZyquday9s7XjHqgx9SZeSitqi2j4gXJJc=s64",
      "userId": "11196956687265597470"
     },
     "user_tz": 180
    },
    "id": "W3zWdRgkA6JJ",
    "outputId": "f81c15f7-437b-4e83-bc95-db9d7e0625b6"
   },
   "outputs": [],
   "source": [
    "df_brasil_AV['DT_NOTIFIC'].max()"
   ]
  },
  {
   "cell_type": "markdown",
   "metadata": {
    "id": "8-GAQYw0-0Cv"
   },
   "source": [
    "- Linhas duplicadas\n"
   ]
  },
  {
   "cell_type": "code",
   "execution_count": null,
   "metadata": {
    "colab": {
     "base_uri": "https://localhost:8080/"
    },
    "executionInfo": {
     "elapsed": 9051,
     "status": "ok",
     "timestamp": 1628353053182,
     "user": {
      "displayName": "Amanda Carvalho Caravieri",
      "photoUrl": "https://lh3.googleusercontent.com/a-/AOh14GgttA7VYFZyquday9s7XjHqgx9SZeSitqi2j4gXJJc=s64",
      "userId": "11196956687265597470"
     },
     "user_tz": 180
    },
    "id": "tuJfUnfd-N4H",
    "outputId": "30396520-3603-4260-9acb-ecea4c4696c9"
   },
   "outputs": [],
   "source": [
    "print(f'Temos {df_brasil_AV.duplicated().sum()} linhas duplicadas.')"
   ]
  },
  {
   "cell_type": "code",
   "execution_count": null,
   "metadata": {
    "id": "A7K9B7S6XNIa"
   },
   "outputs": [],
   "source": [
    "df_brasil_AV=df_brasil_AV.drop_duplicates()"
   ]
  },
  {
   "cell_type": "markdown",
   "metadata": {
    "id": "0KPcAJ1C8HT3"
   },
   "source": [
    "Foi decidido pelo grupo dropar as 10 linhas duplicadas.\n",
    "\n"
   ]
  },
  {
   "cell_type": "markdown",
   "metadata": {
    "id": "99rxkpFkWiul"
   },
   "source": [
    "- Tamanho df_brasil\n",
    "\n"
   ]
  },
  {
   "cell_type": "code",
   "execution_count": null,
   "metadata": {
    "colab": {
     "base_uri": "https://localhost:8080/"
    },
    "executionInfo": {
     "elapsed": 27,
     "status": "ok",
     "timestamp": 1628353062286,
     "user": {
      "displayName": "Amanda Carvalho Caravieri",
      "photoUrl": "https://lh3.googleusercontent.com/a-/AOh14GgttA7VYFZyquday9s7XjHqgx9SZeSitqi2j4gXJJc=s64",
      "userId": "11196956687265597470"
     },
     "user_tz": 180
    },
    "id": "nXteuX5zWvdp",
    "outputId": "553bb6a8-4ebc-4a4b-f058-f7852f9ab2c7"
   },
   "outputs": [],
   "source": [
    "df_brasil_AV.shape"
   ]
  },
  {
   "cell_type": "code",
   "execution_count": null,
   "metadata": {
    "colab": {
     "base_uri": "https://localhost:8080/"
    },
    "executionInfo": {
     "elapsed": 8,
     "status": "ok",
     "timestamp": 1628353062782,
     "user": {
      "displayName": "Amanda Carvalho Caravieri",
      "photoUrl": "https://lh3.googleusercontent.com/a-/AOh14GgttA7VYFZyquday9s7XjHqgx9SZeSitqi2j4gXJJc=s64",
      "userId": "11196956687265597470"
     },
     "user_tz": 180
    },
    "id": "6N_JzFiHYtk0",
    "outputId": "699258ce-0130-4fb6-9bd1-fa1fe406deca"
   },
   "outputs": [],
   "source": [
    "df_brasil_AV.shape"
   ]
  },
  {
   "cell_type": "markdown",
   "metadata": {
    "id": "S4Z9lWoOYxlw"
   },
   "source": [
    "De 162 fomos para 61 colunas. "
   ]
  },
  {
   "cell_type": "markdown",
   "metadata": {
    "id": "dBMoTNi6ZXF6"
   },
   "source": [
    "- Informações df_brasil_AV"
   ]
  },
  {
   "cell_type": "code",
   "execution_count": null,
   "metadata": {
    "colab": {
     "base_uri": "https://localhost:8080/"
    },
    "executionInfo": {
     "elapsed": 901,
     "status": "ok",
     "timestamp": 1628353065871,
     "user": {
      "displayName": "Amanda Carvalho Caravieri",
      "photoUrl": "https://lh3.googleusercontent.com/a-/AOh14GgttA7VYFZyquday9s7XjHqgx9SZeSitqi2j4gXJJc=s64",
      "userId": "11196956687265597470"
     },
     "user_tz": 180
    },
    "id": "RTIoxKsV4bGW",
    "outputId": "4efd50cf-7598-471b-bfa2-9c316f35b0f2"
   },
   "outputs": [],
   "source": [
    "df_brasil_AV.info()"
   ]
  },
  {
   "cell_type": "markdown",
   "metadata": {
    "id": "CdO_T2aQXsX9"
   },
   "source": [
    "- Missing"
   ]
  },
  {
   "cell_type": "code",
   "execution_count": null,
   "metadata": {
    "colab": {
     "base_uri": "https://localhost:8080/"
    },
    "executionInfo": {
     "elapsed": 1334,
     "status": "ok",
     "timestamp": 1628353070419,
     "user": {
      "displayName": "Amanda Carvalho Caravieri",
      "photoUrl": "https://lh3.googleusercontent.com/a-/AOh14GgttA7VYFZyquday9s7XjHqgx9SZeSitqi2j4gXJJc=s64",
      "userId": "11196956687265597470"
     },
     "user_tz": 180
    },
    "id": "rXbecJqnjavc",
    "outputId": "5082ea1f-fbf2-4430-b0a2-eed248621036"
   },
   "outputs": [],
   "source": [
    "df_brasil_AV.isna().sum()"
   ]
  },
  {
   "cell_type": "code",
   "execution_count": null,
   "metadata": {
    "colab": {
     "base_uri": "https://localhost:8080/"
    },
    "executionInfo": {
     "elapsed": 20,
     "status": "ok",
     "timestamp": 1628353070420,
     "user": {
      "displayName": "Amanda Carvalho Caravieri",
      "photoUrl": "https://lh3.googleusercontent.com/a-/AOh14GgttA7VYFZyquday9s7XjHqgx9SZeSitqi2j4gXJJc=s64",
      "userId": "11196956687265597470"
     },
     "user_tz": 180
    },
    "id": "QSjrw55UkEnB",
    "outputId": "b47fbddb-3b2d-419c-d15e-37ea4e707a5d"
   },
   "outputs": [],
   "source": [
    "# Porcentagem de missing\n",
    "df_brasil_AV.isnull().sum()/len(df_brasil_AV)"
   ]
  },
  {
   "cell_type": "markdown",
   "metadata": {
    "id": "AX_0rHApaxtB"
   },
   "source": [
    "- Avaliação de Variáveis com unique()= 1"
   ]
  },
  {
   "cell_type": "code",
   "execution_count": null,
   "metadata": {
    "colab": {
     "base_uri": "https://localhost:8080/"
    },
    "executionInfo": {
     "elapsed": 884,
     "status": "ok",
     "timestamp": 1628353073573,
     "user": {
      "displayName": "Amanda Carvalho Caravieri",
      "photoUrl": "https://lh3.googleusercontent.com/a-/AOh14GgttA7VYFZyquday9s7XjHqgx9SZeSitqi2j4gXJJc=s64",
      "userId": "11196956687265597470"
     },
     "user_tz": 180
    },
    "id": "wLBLIRFdoFrg",
    "outputId": "67ddfa7d-5953-43eb-ea3f-f77402ca62ba"
   },
   "outputs": [],
   "source": [
    "# Analise das colunas que provavelmente vamos dropar:\n",
    "print(list(df_brasil_AV.nunique()))\n",
    "#As que estão com 1 são constantes em todo df_sp."
   ]
  },
  {
   "cell_type": "markdown",
   "metadata": {
    "id": "ByPLhPY86SKd"
   },
   "source": [
    "- Filtro HOSPITAL = 1 :\n",
    "\n",
    "Significa que o paciente foi internado. No dicionário 2 = Não, 9 = Ignorado e missing (2,55%) vamos assumir como também não internado.\n"
   ]
  },
  {
   "cell_type": "code",
   "execution_count": null,
   "metadata": {
    "colab": {
     "base_uri": "https://localhost:8080/"
    },
    "executionInfo": {
     "elapsed": 523,
     "status": "ok",
     "timestamp": 1628353075494,
     "user": {
      "displayName": "Amanda Carvalho Caravieri",
      "photoUrl": "https://lh3.googleusercontent.com/a-/AOh14GgttA7VYFZyquday9s7XjHqgx9SZeSitqi2j4gXJJc=s64",
      "userId": "11196956687265597470"
     },
     "user_tz": 180
    },
    "id": "hMBa4fTueh_p",
    "outputId": "222eaa74-de4a-40cc-d2c3-ec2eea91d669"
   },
   "outputs": [],
   "source": [
    "# Porcentagem de missing\n",
    "df_brasil_AV['HOSPITAL'].isnull().sum()/len(df_brasil_AV)\n"
   ]
  },
  {
   "cell_type": "code",
   "execution_count": null,
   "metadata": {
    "colab": {
     "base_uri": "https://localhost:8080/"
    },
    "executionInfo": {
     "elapsed": 974,
     "status": "ok",
     "timestamp": 1628353076466,
     "user": {
      "displayName": "Amanda Carvalho Caravieri",
      "photoUrl": "https://lh3.googleusercontent.com/a-/AOh14GgttA7VYFZyquday9s7XjHqgx9SZeSitqi2j4gXJJc=s64",
      "userId": "11196956687265597470"
     },
     "user_tz": 180
    },
    "id": "f2LagUSo6jDn",
    "outputId": "10ba10d1-359e-4f64-a010-f1a49812f046"
   },
   "outputs": [],
   "source": [
    "df_brasil_AV= df_brasil_AV[(df_brasil_AV['HOSPITAL']==1.0)]\n",
    "df_brasil_AV['HOSPITAL'].nunique()"
   ]
  },
  {
   "cell_type": "code",
   "execution_count": null,
   "metadata": {
    "colab": {
     "base_uri": "https://localhost:8080/"
    },
    "executionInfo": {
     "elapsed": 24,
     "status": "ok",
     "timestamp": 1628353076467,
     "user": {
      "displayName": "Amanda Carvalho Caravieri",
      "photoUrl": "https://lh3.googleusercontent.com/a-/AOh14GgttA7VYFZyquday9s7XjHqgx9SZeSitqi2j4gXJJc=s64",
      "userId": "11196956687265597470"
     },
     "user_tz": 180
    },
    "id": "Gd9nhygodFZe",
    "outputId": "3096133b-12c4-40ee-85fb-264f892d06bd"
   },
   "outputs": [],
   "source": [
    "df_brasil_AV['HOSPITAL'].isnull().sum()/len(df_brasil_AV)"
   ]
  },
  {
   "cell_type": "code",
   "execution_count": null,
   "metadata": {
    "colab": {
     "base_uri": "https://localhost:8080/"
    },
    "executionInfo": {
     "elapsed": 11,
     "status": "ok",
     "timestamp": 1628353076467,
     "user": {
      "displayName": "Amanda Carvalho Caravieri",
      "photoUrl": "https://lh3.googleusercontent.com/a-/AOh14GgttA7VYFZyquday9s7XjHqgx9SZeSitqi2j4gXJJc=s64",
      "userId": "11196956687265597470"
     },
     "user_tz": 180
    },
    "id": "SmzgRkA9fQ2y",
    "outputId": "c79c3688-d9ab-4eee-fcc0-058c1cbae243"
   },
   "outputs": [],
   "source": [
    "df_brasil_AV.shape"
   ]
  },
  {
   "cell_type": "markdown",
   "metadata": {
    "id": "ZWj9qJdu7WUx"
   },
   "source": [
    "## **C-** Análise dos Internados na cidade de São Paulo."
   ]
  },
  {
   "cell_type": "markdown",
   "metadata": {
    "id": "0PA2B8NHmb17"
   },
   "source": [
    "- Filtro: cidade de SP. "
   ]
  },
  {
   "cell_type": "code",
   "execution_count": null,
   "metadata": {
    "id": "TwJsKMQzlq1Y"
   },
   "outputs": [],
   "source": [
    "df_sp= df_brasil_AV.loc[df_brasil_AV['CO_MUN_NOT'].isin([355030])]"
   ]
  },
  {
   "cell_type": "code",
   "execution_count": null,
   "metadata": {
    "colab": {
     "base_uri": "https://localhost:8080/"
    },
    "executionInfo": {
     "elapsed": 19,
     "status": "ok",
     "timestamp": 1628353083747,
     "user": {
      "displayName": "Amanda Carvalho Caravieri",
      "photoUrl": "https://lh3.googleusercontent.com/a-/AOh14GgttA7VYFZyquday9s7XjHqgx9SZeSitqi2j4gXJJc=s64",
      "userId": "11196956687265597470"
     },
     "user_tz": 180
    },
    "id": "PE7V7viOml5W",
    "outputId": "cc7b8c29-d99a-449f-e33a-271758f1257b",
    "tags": []
   },
   "outputs": [],
   "source": [
    "df_sp.shape"
   ]
  },
  {
   "cell_type": "code",
   "execution_count": null,
   "metadata": {
    "colab": {
     "base_uri": "https://localhost:8080/"
    },
    "executionInfo": {
     "elapsed": 12,
     "status": "ok",
     "timestamp": 1628353083748,
     "user": {
      "displayName": "Amanda Carvalho Caravieri",
      "photoUrl": "https://lh3.googleusercontent.com/a-/AOh14GgttA7VYFZyquday9s7XjHqgx9SZeSitqi2j4gXJJc=s64",
      "userId": "11196956687265597470"
     },
     "user_tz": 180
    },
    "id": "ATeXJY4Em5po",
    "outputId": "c16de7e2-faf1-4e8f-dd66-1294a2f4c15a"
   },
   "outputs": [],
   "source": [
    "# porcentagem da cidade de São Paulo frente ao BR: 12,35%\n",
    "len(df_sp)/len(df_brasil_AV)"
   ]
  },
  {
   "cell_type": "markdown",
   "metadata": {
    "id": "SjKj6DsGC5UM"
   },
   "source": [
    "- Reset no INDEX  por conta do filtro"
   ]
  },
  {
   "cell_type": "code",
   "execution_count": null,
   "metadata": {
    "colab": {
     "base_uri": "https://localhost:8080/",
     "height": 305
    },
    "executionInfo": {
     "elapsed": 5,
     "status": "ok",
     "timestamp": 1628353083748,
     "user": {
      "displayName": "Amanda Carvalho Caravieri",
      "photoUrl": "https://lh3.googleusercontent.com/a-/AOh14GgttA7VYFZyquday9s7XjHqgx9SZeSitqi2j4gXJJc=s64",
      "userId": "11196956687265597470"
     },
     "user_tz": 180
    },
    "id": "kBm9g7Ppeeak",
    "outputId": "b3c350d2-2486-44b1-df0b-62ca4f024455"
   },
   "outputs": [],
   "source": [
    "df_sp= df_sp.reset_index(drop=True)\n",
    "df_sp.head()"
   ]
  },
  {
   "cell_type": "markdown",
   "metadata": {
    "id": "_tC-OpnLftq6"
   },
   "source": [
    "- Remoção de variáveis com valores constantes"
   ]
  },
  {
   "cell_type": "code",
   "execution_count": null,
   "metadata": {
    "colab": {
     "base_uri": "https://localhost:8080/"
    },
    "executionInfo": {
     "elapsed": 30,
     "status": "ok",
     "timestamp": 1628353085075,
     "user": {
      "displayName": "Amanda Carvalho Caravieri",
      "photoUrl": "https://lh3.googleusercontent.com/a-/AOh14GgttA7VYFZyquday9s7XjHqgx9SZeSitqi2j4gXJJc=s64",
      "userId": "11196956687265597470"
     },
     "user_tz": 180
    },
    "id": "lZwDdzmhf5pC",
    "outputId": "5a254400-7bd1-4a37-f1ec-6c97061790cb"
   },
   "outputs": [],
   "source": [
    "print(list(df_sp.nunique()))"
   ]
  },
  {
   "cell_type": "code",
   "execution_count": null,
   "metadata": {
    "colab": {
     "base_uri": "https://localhost:8080/"
    },
    "executionInfo": {
     "elapsed": 23,
     "status": "ok",
     "timestamp": 1628353085075,
     "user": {
      "displayName": "Amanda Carvalho Caravieri",
      "photoUrl": "https://lh3.googleusercontent.com/a-/AOh14GgttA7VYFZyquday9s7XjHqgx9SZeSitqi2j4gXJJc=s64",
      "userId": "11196956687265597470"
     },
     "user_tz": 180
    },
    "id": "kuiRFLitnPJ4",
    "outputId": "755ac296-6d54-40fc-e8fb-19e63dc5dd2b"
   },
   "outputs": [],
   "source": [
    "#Dropando as colunas:\n",
    "df_sp.drop(columns=[ 'SG_UF_NOT','ID_MUNICIP','CO_MUN_NOT','HOSPITAL'], inplace=True)\n",
    "df_sp.shape"
   ]
  },
  {
   "cell_type": "code",
   "execution_count": null,
   "metadata": {
    "colab": {
     "base_uri": "https://localhost:8080/"
    },
    "executionInfo": {
     "elapsed": 17,
     "status": "ok",
     "timestamp": 1628353085076,
     "user": {
      "displayName": "Amanda Carvalho Caravieri",
      "photoUrl": "https://lh3.googleusercontent.com/a-/AOh14GgttA7VYFZyquday9s7XjHqgx9SZeSitqi2j4gXJJc=s64",
      "userId": "11196956687265597470"
     },
     "user_tz": 180
    },
    "id": "Wo3k92AQihET",
    "outputId": "9287fc25-3871-44a3-b34c-c95960ede3f9"
   },
   "outputs": [],
   "source": [
    "df_sp.nunique()"
   ]
  },
  {
   "cell_type": "markdown",
   "metadata": {
    "id": "XfFgn_lPlY2D"
   },
   "source": [
    "- Observação dos Missing values"
   ]
  },
  {
   "cell_type": "code",
   "execution_count": null,
   "metadata": {
    "colab": {
     "base_uri": "https://localhost:8080/"
    },
    "executionInfo": {
     "elapsed": 10,
     "status": "ok",
     "timestamp": 1628353085076,
     "user": {
      "displayName": "Amanda Carvalho Caravieri",
      "photoUrl": "https://lh3.googleusercontent.com/a-/AOh14GgttA7VYFZyquday9s7XjHqgx9SZeSitqi2j4gXJJc=s64",
      "userId": "11196956687265597470"
     },
     "user_tz": 180
    },
    "id": "V_6_GBbQ-caB",
    "outputId": "b723256f-bd72-4857-f6a1-614cfe49d7be"
   },
   "outputs": [],
   "source": [
    "# Porcentagem de missing\n",
    "df_sp.isnull().sum()/len(df_sp)"
   ]
  },
  {
   "cell_type": "markdown",
   "metadata": {
    "id": "umYveoghkTrU"
   },
   "source": [
    "Combinamos que muitos Nulls são por falta de preenchimento do campo. Então se não foi preenchido alguma comorbidade ou sintoma, por exemplo, seria assumido que a pessoa não possui. "
   ]
  },
  {
   "cell_type": "markdown",
   "metadata": {
    "id": "BKOOToD5C2nf"
   },
   "source": [
    "###- Análise de cada variável / Possível Replace para algumas (1 e 0) \n"
   ]
  },
  {
   "cell_type": "code",
   "execution_count": null,
   "metadata": {
    "id": "YgXWexfc0GvX"
   },
   "outputs": [],
   "source": [
    "#ex: UTI  \" O paciente foi internado em UTI?\"\n",
    "# 1- Sim; 2- Não ou 9-Ignorado.\n",
    "#Assumimos que 2, 9 e Missing( 9 %) representam uma resposta de que não foi a UTI, assim foram substituidos por 0."
   ]
  },
  {
   "cell_type": "code",
   "execution_count": null,
   "metadata": {
    "colab": {
     "base_uri": "https://localhost:8080/"
    },
    "executionInfo": {
     "elapsed": 8,
     "status": "ok",
     "timestamp": 1628353086505,
     "user": {
      "displayName": "Amanda Carvalho Caravieri",
      "photoUrl": "https://lh3.googleusercontent.com/a-/AOh14GgttA7VYFZyquday9s7XjHqgx9SZeSitqi2j4gXJJc=s64",
      "userId": "11196956687265597470"
     },
     "user_tz": 180
    },
    "id": "9VLobDDmmFzp",
    "outputId": "59714699-3425-4901-ad4f-e24e49aca282"
   },
   "outputs": [],
   "source": [
    "df_sp['CS_SEXO'].nunique()\n",
    "print(df_sp['CS_SEXO'].unique())\n",
    "#1 - Masculino, 2- Feminino. "
   ]
  },
  {
   "cell_type": "code",
   "execution_count": null,
   "metadata": {},
   "outputs": [],
   "source": [
    "df_sp['CS_SEXO'].replace({\"F\": 0, \"M\": 1}, inplace= True)\n",
    "print(df_sp['CS_SEXO'].unique())\n",
    "df_sp['CS_SEXO'].isnull().sum()/len(df_sp['CS_SEXO'])\n",
    "#NOVO DICIONÁRIO: 1- Masculino, 0- Feminino"
   ]
  },
  {
   "cell_type": "code",
   "execution_count": null,
   "metadata": {
    "colab": {
     "base_uri": "https://localhost:8080/"
    },
    "executionInfo": {
     "elapsed": 83,
     "status": "ok",
     "timestamp": 1628353087310,
     "user": {
      "displayName": "Amanda Carvalho Caravieri",
      "photoUrl": "https://lh3.googleusercontent.com/a-/AOh14GgttA7VYFZyquday9s7XjHqgx9SZeSitqi2j4gXJJc=s64",
      "userId": "11196956687265597470"
     },
     "user_tz": 180
    },
    "id": "I-x_YKgrmWjT",
    "outputId": "08b58028-31f0-4d59-b141-a5b018369f16"
   },
   "outputs": [],
   "source": [
    "print(df_sp['CS_GESTANT'].nunique())\n",
    "print(df_sp['CS_GESTANT'].unique())\n",
    "df_sp['CS_GESTANT'].isnull().sum()/len(df_sp['CS_GESTANT'])\n",
    "#1-1o Trimestre,2-2o Trimestre, 3-3o Trimestre, 4-Idade Gestacional Ignorada, 5-Não, 6-Não se aplica, 9-Ignorado."
   ]
  },
  {
   "cell_type": "code",
   "execution_count": null,
   "metadata": {
    "colab": {
     "base_uri": "https://localhost:8080/"
    },
    "executionInfo": {
     "elapsed": 76,
     "status": "ok",
     "timestamp": 1628353087311,
     "user": {
      "displayName": "Amanda Carvalho Caravieri",
      "photoUrl": "https://lh3.googleusercontent.com/a-/AOh14GgttA7VYFZyquday9s7XjHqgx9SZeSitqi2j4gXJJc=s64",
      "userId": "11196956687265597470"
     },
     "user_tz": 180
    },
    "id": "muIubcW0mbSu",
    "outputId": "fd255f36-b9ad-48db-cd7b-a41bf11a91c1"
   },
   "outputs": [],
   "source": [
    "df_sp['CS_GESTANT'].replace({1.0: 1, 2.0: 1, 3.0  :1, 4.0 : 1}, inplace= True)\n",
    "df_sp['CS_GESTANT'].replace({5.0: 0, 6.0:0, 9.0:0}, inplace= True)\n",
    "\n",
    " #NOVO DICIONÁRIO: Gestante:1 = 1,2,3. Não Gestante: 0 = Missing,5,6,9\n",
    "print(df_sp['CS_GESTANT'].unique())"
   ]
  },
  {
   "cell_type": "code",
   "execution_count": null,
   "metadata": {
    "colab": {
     "base_uri": "https://localhost:8080/"
    },
    "executionInfo": {
     "elapsed": 71,
     "status": "ok",
     "timestamp": 1628353087311,
     "user": {
      "displayName": "Amanda Carvalho Caravieri",
      "photoUrl": "https://lh3.googleusercontent.com/a-/AOh14GgttA7VYFZyquday9s7XjHqgx9SZeSitqi2j4gXJJc=s64",
      "userId": "11196956687265597470"
     },
     "user_tz": 180
    },
    "id": "0w0Z1IMKxJQQ",
    "outputId": "d7e86ac1-2e78-4f76-d819-4d1cef90aa2e"
   },
   "outputs": [],
   "source": [
    "print(df_sp['CS_RACA'].nunique())\n",
    "print(df_sp['CS_RACA'].unique())\n",
    "df_sp['CS_RACA'].isnull().sum()/len(df_sp['CS_RACA'])\n",
    "#1-Branca,2-Preta,3-Amarela,4-Parda,5-Indígena,9-Ignorado"
   ]
  },
  {
   "cell_type": "code",
   "execution_count": null,
   "metadata": {
    "colab": {
     "base_uri": "https://localhost:8080/"
    },
    "executionInfo": {
     "elapsed": 63,
     "status": "ok",
     "timestamp": 1628353087312,
     "user": {
      "displayName": "Amanda Carvalho Caravieri",
      "photoUrl": "https://lh3.googleusercontent.com/a-/AOh14GgttA7VYFZyquday9s7XjHqgx9SZeSitqi2j4gXJJc=s64",
      "userId": "11196956687265597470"
     },
     "user_tz": 180
    },
    "id": "OEcFf9Zixi6V",
    "outputId": "b93b26a5-9e05-4fb2-bce1-2aae6c2a7721"
   },
   "outputs": [],
   "source": [
    "df_sp['CS_RACA'].fillna(9,inplace= True)\n",
    "print(df_sp['CS_RACA'].unique())"
   ]
  },
  {
   "cell_type": "code",
   "execution_count": null,
   "metadata": {
    "colab": {
     "base_uri": "https://localhost:8080/"
    },
    "executionInfo": {
     "elapsed": 56,
     "status": "ok",
     "timestamp": 1628353087313,
     "user": {
      "displayName": "Amanda Carvalho Caravieri",
      "photoUrl": "https://lh3.googleusercontent.com/a-/AOh14GgttA7VYFZyquday9s7XjHqgx9SZeSitqi2j4gXJJc=s64",
      "userId": "11196956687265597470"
     },
     "user_tz": 180
    },
    "id": "ON_uQcEoycxJ",
    "outputId": "cf784127-d4a5-421a-aa7e-6b7a5824d244"
   },
   "outputs": [],
   "source": [
    "print(df_sp['CS_ESCOL_N'].nunique())\n",
    "print(df_sp['CS_ESCOL_N'].unique())\n",
    "df_sp['CS_ESCOL_N'].isnull().sum()/len(df_sp['CS_ESCOL_N'])\n",
    "#0-Sem escolaridade/Analfabeto,1-Fundamental 1o ciclo (1a a 5a série),2-Fundamental 2o ciclo (6a a 9a série),3- Médio (1o ao 3o ano),\n",
    "#4-Superior,5-Não se aplica(menor que 7 anos),9-Ignorado"
   ]
  },
  {
   "cell_type": "code",
   "execution_count": null,
   "metadata": {
    "colab": {
     "base_uri": "https://localhost:8080/"
    },
    "executionInfo": {
     "elapsed": 49,
     "status": "ok",
     "timestamp": 1628353087314,
     "user": {
      "displayName": "Amanda Carvalho Caravieri",
      "photoUrl": "https://lh3.googleusercontent.com/a-/AOh14GgttA7VYFZyquday9s7XjHqgx9SZeSitqi2j4gXJJc=s64",
      "userId": "11196956687265597470"
     },
     "user_tz": 180
    },
    "id": "Au2Sd6wXy2kF",
    "outputId": "54549465-a218-4250-be6d-d4d828e578a9"
   },
   "outputs": [],
   "source": [
    "df_sp['CS_ESCOL_N'].fillna(9,inplace= True)\n",
    "print(df_sp['CS_ESCOL_N'].unique())\n"
   ]
  },
  {
   "cell_type": "code",
   "execution_count": null,
   "metadata": {
    "colab": {
     "base_uri": "https://localhost:8080/"
    },
    "executionInfo": {
     "elapsed": 42,
     "status": "ok",
     "timestamp": 1628353087314,
     "user": {
      "displayName": "Amanda Carvalho Caravieri",
      "photoUrl": "https://lh3.googleusercontent.com/a-/AOh14GgttA7VYFZyquday9s7XjHqgx9SZeSitqi2j4gXJJc=s64",
      "userId": "11196956687265597470"
     },
     "user_tz": 180
    },
    "id": "mZ5jUn0_0kZV",
    "outputId": "8079899f-6408-4ec5-fdfc-ccca6f20d1b1"
   },
   "outputs": [],
   "source": [
    "print(df_sp['SURTO_SG'].nunique())\n",
    "print(df_sp['SURTO_SG'].unique())\n",
    "df_sp['SURTO_SG'].isnull().sum()/len(df_sp['SURTO_SG'])\n",
    "#1-Sim, 2-Não,9-Ignorado"
   ]
  },
  {
   "cell_type": "code",
   "execution_count": null,
   "metadata": {
    "colab": {
     "base_uri": "https://localhost:8080/"
    },
    "executionInfo": {
     "elapsed": 37,
     "status": "ok",
     "timestamp": 1628353087315,
     "user": {
      "displayName": "Amanda Carvalho Caravieri",
      "photoUrl": "https://lh3.googleusercontent.com/a-/AOh14GgttA7VYFZyquday9s7XjHqgx9SZeSitqi2j4gXJJc=s64",
      "userId": "11196956687265597470"
     },
     "user_tz": 180
    },
    "id": "ydsOIH3K08tF",
    "outputId": "d37a67c0-cd1d-4d1f-ad5b-9a45a1ded112"
   },
   "outputs": [],
   "source": [
    "df_sp['SURTO_SG'].replace({2.0: 0, 9.0: 0}, inplace= True)\n",
    "df_sp['SURTO_SG'].fillna(0,inplace= True)\n",
    "print(df_sp['SURTO_SG'].unique())\n",
    "df_sp['SURTO_SG'].isnull().sum()/len(df_sp['SURTO_SG'])\n",
    "#NOVO DICIONÁRIO: 1- Sim, 0- Não"
   ]
  },
  {
   "cell_type": "code",
   "execution_count": null,
   "metadata": {
    "colab": {
     "base_uri": "https://localhost:8080/"
    },
    "executionInfo": {
     "elapsed": 30,
     "status": "ok",
     "timestamp": 1628353087315,
     "user": {
      "displayName": "Amanda Carvalho Caravieri",
      "photoUrl": "https://lh3.googleusercontent.com/a-/AOh14GgttA7VYFZyquday9s7XjHqgx9SZeSitqi2j4gXJJc=s64",
      "userId": "11196956687265597470"
     },
     "user_tz": 180
    },
    "id": "R7mO1C9q1qcI",
    "outputId": "4b79a424-0f06-4381-f506-0828661f9518"
   },
   "outputs": [],
   "source": [
    "print(df_sp['NOSOCOMIAL'].nunique())\n",
    "print(df_sp['NOSOCOMIAL'].unique())\n",
    "df_sp['NOSOCOMIAL'].isnull().sum()/len(df_sp['NOSOCOMIAL'])\n",
    "#1-Sim, 2-Não,9-Ignorado"
   ]
  },
  {
   "cell_type": "code",
   "execution_count": null,
   "metadata": {
    "colab": {
     "base_uri": "https://localhost:8080/"
    },
    "executionInfo": {
     "elapsed": 24,
     "status": "ok",
     "timestamp": 1628353087316,
     "user": {
      "displayName": "Amanda Carvalho Caravieri",
      "photoUrl": "https://lh3.googleusercontent.com/a-/AOh14GgttA7VYFZyquday9s7XjHqgx9SZeSitqi2j4gXJJc=s64",
      "userId": "11196956687265597470"
     },
     "user_tz": 180
    },
    "id": "n45H9e3n1qcJ",
    "outputId": "df7399ee-a216-4416-f96e-517f854d0ab9"
   },
   "outputs": [],
   "source": [
    "df_sp['NOSOCOMIAL'].replace({2.0: 0, 9.0: 0}, inplace= True)\n",
    "df_sp['NOSOCOMIAL'].fillna(0,inplace= True)\n",
    "print(df_sp['NOSOCOMIAL'].unique())\n",
    "df_sp['NOSOCOMIAL'].isnull().sum()/len(df_sp['NOSOCOMIAL'])\n",
    "#NOVO DICIONÁRIO: 1- Sim, 0- Não"
   ]
  },
  {
   "cell_type": "code",
   "execution_count": null,
   "metadata": {
    "colab": {
     "base_uri": "https://localhost:8080/"
    },
    "executionInfo": {
     "elapsed": 15,
     "status": "ok",
     "timestamp": 1628353087316,
     "user": {
      "displayName": "Amanda Carvalho Caravieri",
      "photoUrl": "https://lh3.googleusercontent.com/a-/AOh14GgttA7VYFZyquday9s7XjHqgx9SZeSitqi2j4gXJJc=s64",
      "userId": "11196956687265597470"
     },
     "user_tz": 180
    },
    "id": "ke6PIpkL1-jX",
    "outputId": "7bfdba6c-6071-49d8-c975-9638633a798f"
   },
   "outputs": [],
   "source": [
    "print(df_sp['AVE_SUINO'].nunique())\n",
    "print(df_sp['AVE_SUINO'].unique())\n",
    "df_sp['AVE_SUINO'].isnull().sum()/len(df_sp['AVE_SUINO'])\n",
    "#1-Sim, 2-Não,9-Ignorado\n"
   ]
  },
  {
   "cell_type": "code",
   "execution_count": null,
   "metadata": {
    "colab": {
     "base_uri": "https://localhost:8080/"
    },
    "executionInfo": {
     "elapsed": 29,
     "status": "ok",
     "timestamp": 1628353087966,
     "user": {
      "displayName": "Amanda Carvalho Caravieri",
      "photoUrl": "https://lh3.googleusercontent.com/a-/AOh14GgttA7VYFZyquday9s7XjHqgx9SZeSitqi2j4gXJJc=s64",
      "userId": "11196956687265597470"
     },
     "user_tz": 180
    },
    "id": "V0WMBA0j2aAI",
    "outputId": "9014ff10-05dd-4aeb-adfa-04c252b7c6a6"
   },
   "outputs": [],
   "source": [
    "## Pelo dicionário não deveria ter o 3, acredito que tenha sido um erro \n",
    "df_ave = df_sp.loc[df_sp['AVE_SUINO']==3]\n",
    "df_ave.shape \n",
    "# 15 linhas, vou considerar como erro. "
   ]
  },
  {
   "cell_type": "code",
   "execution_count": null,
   "metadata": {
    "colab": {
     "base_uri": "https://localhost:8080/"
    },
    "executionInfo": {
     "elapsed": 23,
     "status": "ok",
     "timestamp": 1628353087967,
     "user": {
      "displayName": "Amanda Carvalho Caravieri",
      "photoUrl": "https://lh3.googleusercontent.com/a-/AOh14GgttA7VYFZyquday9s7XjHqgx9SZeSitqi2j4gXJJc=s64",
      "userId": "11196956687265597470"
     },
     "user_tz": 180
    },
    "id": "_zwK08lp1-jf",
    "outputId": "29bd54bb-a750-445b-b4cd-5f232cc1c0b7"
   },
   "outputs": [],
   "source": [
    "df_sp['AVE_SUINO'].replace({2.0: 0, 9.0: 0, 3.0: 0}, inplace= True)\n",
    "df_sp['AVE_SUINO'].fillna(0,inplace= True)\n",
    "print(df_sp['AVE_SUINO'].unique())\n",
    "df_sp['AVE_SUINO'].isnull().sum()/len(df_sp['AVE_SUINO'])\n",
    "#NOVO DICIONÁRIO: 1- Sim, 0- Não"
   ]
  },
  {
   "cell_type": "code",
   "execution_count": null,
   "metadata": {
    "colab": {
     "base_uri": "https://localhost:8080/"
    },
    "executionInfo": {
     "elapsed": 16,
     "status": "ok",
     "timestamp": 1628353087967,
     "user": {
      "displayName": "Amanda Carvalho Caravieri",
      "photoUrl": "https://lh3.googleusercontent.com/a-/AOh14GgttA7VYFZyquday9s7XjHqgx9SZeSitqi2j4gXJJc=s64",
      "userId": "11196956687265597470"
     },
     "user_tz": 180
    },
    "id": "DGiWPLbJ3c45",
    "outputId": "d9cf53a4-db0e-40cf-8f3b-f13f96bd1d05"
   },
   "outputs": [],
   "source": [
    "print(df_sp['FEBRE'].nunique())\n",
    "print(df_sp['FEBRE'].unique())\n",
    "df_sp['FEBRE'].isnull().sum()/len(df_sp['FEBRE'])\n",
    "#1-Sim, 2-Não,9-Ignorado"
   ]
  },
  {
   "cell_type": "code",
   "execution_count": null,
   "metadata": {
    "colab": {
     "base_uri": "https://localhost:8080/"
    },
    "executionInfo": {
     "elapsed": 10,
     "status": "ok",
     "timestamp": 1628353087967,
     "user": {
      "displayName": "Amanda Carvalho Caravieri",
      "photoUrl": "https://lh3.googleusercontent.com/a-/AOh14GgttA7VYFZyquday9s7XjHqgx9SZeSitqi2j4gXJJc=s64",
      "userId": "11196956687265597470"
     },
     "user_tz": 180
    },
    "id": "_YqA-_nZ3c5C",
    "outputId": "6c2e6722-72a0-4935-c270-43a7c5aeb410"
   },
   "outputs": [],
   "source": [
    "df_sp['FEBRE'].replace({2.0: 0, 9.0: 0}, inplace= True)\n",
    "df_sp['FEBRE'].fillna(0,inplace= True)\n",
    "print(df_sp['FEBRE'].unique())\n",
    "df_sp['FEBRE'].isnull().sum()/len(df_sp['FEBRE'])\n",
    "#NOVO DICIONÁRIO: 1- Sim, 0- Não"
   ]
  },
  {
   "cell_type": "code",
   "execution_count": null,
   "metadata": {
    "colab": {
     "base_uri": "https://localhost:8080/"
    },
    "executionInfo": {
     "elapsed": 21,
     "status": "ok",
     "timestamp": 1628353088397,
     "user": {
      "displayName": "Amanda Carvalho Caravieri",
      "photoUrl": "https://lh3.googleusercontent.com/a-/AOh14GgttA7VYFZyquday9s7XjHqgx9SZeSitqi2j4gXJJc=s64",
      "userId": "11196956687265597470"
     },
     "user_tz": 180
    },
    "id": "EMu2msBk4aCC",
    "outputId": "f3b20e9f-9635-43c3-9801-efafe288348f"
   },
   "outputs": [],
   "source": [
    "print(df_sp['TOSSE'].nunique())\n",
    "print(df_sp['TOSSE'].unique())\n",
    "df_sp['TOSSE'].isnull().sum()/len(df_sp['TOSSE'])\n",
    "#1-Sim, 2-Não,9-Ignorado"
   ]
  },
  {
   "cell_type": "code",
   "execution_count": null,
   "metadata": {
    "colab": {
     "base_uri": "https://localhost:8080/"
    },
    "executionInfo": {
     "elapsed": 20,
     "status": "ok",
     "timestamp": 1628353088398,
     "user": {
      "displayName": "Amanda Carvalho Caravieri",
      "photoUrl": "https://lh3.googleusercontent.com/a-/AOh14GgttA7VYFZyquday9s7XjHqgx9SZeSitqi2j4gXJJc=s64",
      "userId": "11196956687265597470"
     },
     "user_tz": 180
    },
    "id": "9YTlFtm64aCN",
    "outputId": "96bdfaad-df02-48b1-cc93-c9d38b8d01d1"
   },
   "outputs": [],
   "source": [
    "df_sp['TOSSE'].replace({2.0: 0, 9.0: 0}, inplace= True)\n",
    "df_sp['TOSSE'].fillna(0,inplace= True)\n",
    "print(df_sp['TOSSE'].unique())\n",
    "df_sp['TOSSE'].isnull().sum()/len(df_sp['TOSSE'])\n",
    "#NOVO DICIONÁRIO: 1- Sim, 0- Não"
   ]
  },
  {
   "cell_type": "code",
   "execution_count": null,
   "metadata": {
    "colab": {
     "base_uri": "https://localhost:8080/"
    },
    "executionInfo": {
     "elapsed": 14,
     "status": "ok",
     "timestamp": 1628353088398,
     "user": {
      "displayName": "Amanda Carvalho Caravieri",
      "photoUrl": "https://lh3.googleusercontent.com/a-/AOh14GgttA7VYFZyquday9s7XjHqgx9SZeSitqi2j4gXJJc=s64",
      "userId": "11196956687265597470"
     },
     "user_tz": 180
    },
    "id": "c1FkpxOq4zKl",
    "outputId": "740b448c-80b1-4769-91cf-7ec5338afc76"
   },
   "outputs": [],
   "source": [
    "print(df_sp['GARGANTA'].nunique())\n",
    "print(df_sp['GARGANTA'].unique())\n",
    "df_sp['GARGANTA'].isnull().sum()/len(df_sp['GARGANTA'])\n",
    "#1-Sim, 2-Não,9-Ignorado"
   ]
  },
  {
   "cell_type": "code",
   "execution_count": null,
   "metadata": {
    "colab": {
     "base_uri": "https://localhost:8080/"
    },
    "executionInfo": {
     "elapsed": 9,
     "status": "ok",
     "timestamp": 1628353088399,
     "user": {
      "displayName": "Amanda Carvalho Caravieri",
      "photoUrl": "https://lh3.googleusercontent.com/a-/AOh14GgttA7VYFZyquday9s7XjHqgx9SZeSitqi2j4gXJJc=s64",
      "userId": "11196956687265597470"
     },
     "user_tz": 180
    },
    "id": "hfhC2jZl4zKr",
    "outputId": "879131fe-d5e2-4c36-eb77-df63f82aef87"
   },
   "outputs": [],
   "source": [
    "df_sp['GARGANTA'].replace({2.0: 0, 9.0: 0}, inplace= True)\n",
    "df_sp['GARGANTA'].fillna(0,inplace= True)\n",
    "print(df_sp['GARGANTA'].unique())\n",
    "df_sp['GARGANTA'].isnull().sum()/len(df_sp['GARGANTA'])\n",
    "#NOVO DICIONÁRIO: 1- Sim, 0- Não"
   ]
  },
  {
   "cell_type": "code",
   "execution_count": null,
   "metadata": {
    "colab": {
     "base_uri": "https://localhost:8080/"
    },
    "executionInfo": {
     "elapsed": 8,
     "status": "ok",
     "timestamp": 1628353088998,
     "user": {
      "displayName": "Amanda Carvalho Caravieri",
      "photoUrl": "https://lh3.googleusercontent.com/a-/AOh14GgttA7VYFZyquday9s7XjHqgx9SZeSitqi2j4gXJJc=s64",
      "userId": "11196956687265597470"
     },
     "user_tz": 180
    },
    "id": "hWxkNRMG5IvN",
    "outputId": "260355ab-b41f-488a-c2f5-9dc51b30f87b"
   },
   "outputs": [],
   "source": [
    "print(df_sp['DISPNEIA'].nunique())\n",
    "print(df_sp['DISPNEIA'].unique())\n",
    "df_sp['DISPNEIA'].isnull().sum()/len(df_sp['DISPNEIA'])\n",
    "#1-Sim, 2-Não,9-Ignorado"
   ]
  },
  {
   "cell_type": "code",
   "execution_count": null,
   "metadata": {
    "colab": {
     "base_uri": "https://localhost:8080/"
    },
    "executionInfo": {
     "elapsed": 584,
     "status": "ok",
     "timestamp": 1628353092607,
     "user": {
      "displayName": "Amanda Carvalho Caravieri",
      "photoUrl": "https://lh3.googleusercontent.com/a-/AOh14GgttA7VYFZyquday9s7XjHqgx9SZeSitqi2j4gXJJc=s64",
      "userId": "11196956687265597470"
     },
     "user_tz": 180
    },
    "id": "bEtXKrXz5Ivj",
    "outputId": "ddd3ec63-f612-4e71-8d7c-e6cf8e4488d5"
   },
   "outputs": [],
   "source": [
    "df_sp['DISPNEIA'].replace({2.0: 0, 9.0: 0}, inplace= True)\n",
    "df_sp['DISPNEIA'].fillna(0,inplace= True)\n",
    "print(df_sp['DISPNEIA'].unique())\n",
    "df_sp['DISPNEIA'].isnull().sum()/len(df_sp['DISPNEIA'])\n",
    "#NOVO DICIONÁRIO: 1- Sim, 0- Não"
   ]
  },
  {
   "cell_type": "code",
   "execution_count": null,
   "metadata": {
    "colab": {
     "base_uri": "https://localhost:8080/"
    },
    "executionInfo": {
     "elapsed": 61,
     "status": "ok",
     "timestamp": 1628353092608,
     "user": {
      "displayName": "Amanda Carvalho Caravieri",
      "photoUrl": "https://lh3.googleusercontent.com/a-/AOh14GgttA7VYFZyquday9s7XjHqgx9SZeSitqi2j4gXJJc=s64",
      "userId": "11196956687265597470"
     },
     "user_tz": 180
    },
    "id": "xWISEVhX5WHS",
    "outputId": "4d65836b-d60c-4158-e207-902523c11d32"
   },
   "outputs": [],
   "source": [
    "print(df_sp['DESC_RESP'].nunique())\n",
    "print(df_sp['DESC_RESP'].unique())\n",
    "df_sp['DESC_RESP'].isnull().sum()/len(df_sp['DESC_RESP'])\n",
    "#1-Sim, 2-Não,9-Ignorado"
   ]
  },
  {
   "cell_type": "code",
   "execution_count": null,
   "metadata": {
    "colab": {
     "base_uri": "https://localhost:8080/"
    },
    "executionInfo": {
     "elapsed": 46,
     "status": "ok",
     "timestamp": 1628353092608,
     "user": {
      "displayName": "Amanda Carvalho Caravieri",
      "photoUrl": "https://lh3.googleusercontent.com/a-/AOh14GgttA7VYFZyquday9s7XjHqgx9SZeSitqi2j4gXJJc=s64",
      "userId": "11196956687265597470"
     },
     "user_tz": 180
    },
    "id": "Ty-bdkUr5WHk",
    "outputId": "8280e112-d544-41b5-e78f-94a1305db148"
   },
   "outputs": [],
   "source": [
    "df_sp['DESC_RESP'].replace({2.0: 0, 9.0: 0}, inplace= True)\n",
    "df_sp['DESC_RESP'].fillna(0,inplace= True)\n",
    "print(df_sp['DESC_RESP'].unique())\n",
    "df_sp['DESC_RESP'].isnull().sum()/len(df_sp['DESC_RESP'])\n",
    "#NOVO DICIONÁRIO: 1- Sim, 0- Não"
   ]
  },
  {
   "cell_type": "code",
   "execution_count": null,
   "metadata": {
    "colab": {
     "base_uri": "https://localhost:8080/"
    },
    "executionInfo": {
     "elapsed": 38,
     "status": "ok",
     "timestamp": 1628353092609,
     "user": {
      "displayName": "Amanda Carvalho Caravieri",
      "photoUrl": "https://lh3.googleusercontent.com/a-/AOh14GgttA7VYFZyquday9s7XjHqgx9SZeSitqi2j4gXJJc=s64",
      "userId": "11196956687265597470"
     },
     "user_tz": 180
    },
    "id": "7V9nHQ4E5kII",
    "outputId": "b3609990-415b-4c22-c7e5-b5a2b2076fb6"
   },
   "outputs": [],
   "source": [
    "print(df_sp['SATURACAO'].nunique())\n",
    "print(df_sp['SATURACAO'].unique())\n",
    "df_sp['SATURACAO'].isnull().sum()/len(df_sp['SATURACAO'])\n",
    "#1-Sim, 2-Não,9-Ignorado"
   ]
  },
  {
   "cell_type": "code",
   "execution_count": null,
   "metadata": {
    "colab": {
     "base_uri": "https://localhost:8080/"
    },
    "executionInfo": {
     "elapsed": 30,
     "status": "ok",
     "timestamp": 1628353092609,
     "user": {
      "displayName": "Amanda Carvalho Caravieri",
      "photoUrl": "https://lh3.googleusercontent.com/a-/AOh14GgttA7VYFZyquday9s7XjHqgx9SZeSitqi2j4gXJJc=s64",
      "userId": "11196956687265597470"
     },
     "user_tz": 180
    },
    "id": "yxCoP1GN5kIS",
    "outputId": "e43c8062-1a76-4f76-820d-4d352f0423e1"
   },
   "outputs": [],
   "source": [
    "df_sp['SATURACAO'].replace({2.0: 0, 9.0: 0}, inplace= True)\n",
    "df_sp['SATURACAO'].fillna(0,inplace= True)\n",
    "print(df_sp['SATURACAO'].unique())\n",
    "df_sp['SATURACAO'].isnull().sum()/len(df_sp['SATURACAO'])\n",
    "#NOVO DICIONÁRIO: 1- Sim, 0- Não"
   ]
  },
  {
   "cell_type": "code",
   "execution_count": null,
   "metadata": {
    "colab": {
     "base_uri": "https://localhost:8080/"
    },
    "executionInfo": {
     "elapsed": 24,
     "status": "ok",
     "timestamp": 1628353092609,
     "user": {
      "displayName": "Amanda Carvalho Caravieri",
      "photoUrl": "https://lh3.googleusercontent.com/a-/AOh14GgttA7VYFZyquday9s7XjHqgx9SZeSitqi2j4gXJJc=s64",
      "userId": "11196956687265597470"
     },
     "user_tz": 180
    },
    "id": "SiDjeztd5yH5",
    "outputId": "31cc006b-c232-4b26-ac50-54da782164c4"
   },
   "outputs": [],
   "source": [
    "print(df_sp['DIARREIA'].nunique())\n",
    "print(df_sp['DIARREIA'].unique())\n",
    "df_sp['DIARREIA'].isnull().sum()/len(df_sp['DIARREIA'])\n",
    "#1-Sim, 2-Não,9-Ignorado"
   ]
  },
  {
   "cell_type": "code",
   "execution_count": null,
   "metadata": {
    "colab": {
     "base_uri": "https://localhost:8080/"
    },
    "executionInfo": {
     "elapsed": 18,
     "status": "ok",
     "timestamp": 1628353092610,
     "user": {
      "displayName": "Amanda Carvalho Caravieri",
      "photoUrl": "https://lh3.googleusercontent.com/a-/AOh14GgttA7VYFZyquday9s7XjHqgx9SZeSitqi2j4gXJJc=s64",
      "userId": "11196956687265597470"
     },
     "user_tz": 180
    },
    "id": "7CNlCzOD5yID",
    "outputId": "bd85509a-5d9f-40da-dfd8-c3c1964c6719"
   },
   "outputs": [],
   "source": [
    "df_sp['DIARREIA'].replace({2.0: 0, 9.0: 0}, inplace= True)\n",
    "df_sp['DIARREIA'].fillna(0,inplace= True)\n",
    "print(df_sp['DIARREIA'].unique())\n",
    "df_sp['DIARREIA'].isnull().sum()/len(df_sp['DIARREIA'])\n",
    "#NOVO DICIONÁRIO: 1- Sim, 0- Não"
   ]
  },
  {
   "cell_type": "code",
   "execution_count": null,
   "metadata": {
    "colab": {
     "base_uri": "https://localhost:8080/"
    },
    "executionInfo": {
     "elapsed": 11,
     "status": "ok",
     "timestamp": 1628353092610,
     "user": {
      "displayName": "Amanda Carvalho Caravieri",
      "photoUrl": "https://lh3.googleusercontent.com/a-/AOh14GgttA7VYFZyquday9s7XjHqgx9SZeSitqi2j4gXJJc=s64",
      "userId": "11196956687265597470"
     },
     "user_tz": 180
    },
    "id": "fAo4p66W6HmS",
    "outputId": "59035f02-63ca-41f6-cc08-4f84e2270e85"
   },
   "outputs": [],
   "source": [
    "print(df_sp['VOMITO'].nunique())\n",
    "print(df_sp['VOMITO'].unique())\n",
    "df_sp['VOMITO'].isnull().sum()/len(df_sp['VOMITO'])\n",
    "#1-Sim, 2-Não,9-Ignorado"
   ]
  },
  {
   "cell_type": "code",
   "execution_count": null,
   "metadata": {
    "colab": {
     "base_uri": "https://localhost:8080/"
    },
    "executionInfo": {
     "elapsed": 20,
     "status": "ok",
     "timestamp": 1628353095048,
     "user": {
      "displayName": "Amanda Carvalho Caravieri",
      "photoUrl": "https://lh3.googleusercontent.com/a-/AOh14GgttA7VYFZyquday9s7XjHqgx9SZeSitqi2j4gXJJc=s64",
      "userId": "11196956687265597470"
     },
     "user_tz": 180
    },
    "id": "BbQRxVI-6HmS",
    "outputId": "52366520-fef1-4b91-e569-351184300735"
   },
   "outputs": [],
   "source": [
    "df_sp['VOMITO'].replace({2.0: 0, 9.0: 0}, inplace= True)\n",
    "df_sp['VOMITO'].fillna(0,inplace= True)\n",
    "print(df_sp['VOMITO'].unique())\n",
    "df_sp['VOMITO'].isnull().sum()/len(df_sp['VOMITO'])\n",
    "#NOVO DICIONÁRIO: 1- Sim, 0- Não"
   ]
  },
  {
   "cell_type": "code",
   "execution_count": null,
   "metadata": {
    "colab": {
     "base_uri": "https://localhost:8080/"
    },
    "executionInfo": {
     "elapsed": 41,
     "status": "ok",
     "timestamp": 1628353095775,
     "user": {
      "displayName": "Amanda Carvalho Caravieri",
      "photoUrl": "https://lh3.googleusercontent.com/a-/AOh14GgttA7VYFZyquday9s7XjHqgx9SZeSitqi2j4gXJJc=s64",
      "userId": "11196956687265597470"
     },
     "user_tz": 180
    },
    "id": "MLO_czDt6bZH",
    "outputId": "975922b2-cc4d-488a-9907-5f60a2637fec"
   },
   "outputs": [],
   "source": [
    "print(df_sp['OUTRO_SIN'].nunique())\n",
    "print(df_sp['OUTRO_SIN'].unique())\n",
    "df_sp['OUTRO_SIN'].isnull().sum()/len(df_sp['OUTRO_SIN'])\n",
    "#1-Sim, 2-Não,9-Ignorado"
   ]
  },
  {
   "cell_type": "code",
   "execution_count": null,
   "metadata": {
    "colab": {
     "base_uri": "https://localhost:8080/"
    },
    "executionInfo": {
     "elapsed": 41,
     "status": "ok",
     "timestamp": 1628353095776,
     "user": {
      "displayName": "Amanda Carvalho Caravieri",
      "photoUrl": "https://lh3.googleusercontent.com/a-/AOh14GgttA7VYFZyquday9s7XjHqgx9SZeSitqi2j4gXJJc=s64",
      "userId": "11196956687265597470"
     },
     "user_tz": 180
    },
    "id": "D3HajKq46bZd",
    "outputId": "0c1b0082-2f79-473f-96cb-e7a4ea2e36c2"
   },
   "outputs": [],
   "source": [
    "df_sp['OUTRO_SIN'].replace({2.0: 0, 9.0: 0}, inplace= True)\n",
    "df_sp['OUTRO_SIN'].fillna(0,inplace= True)\n",
    "print(df_sp['OUTRO_SIN'].unique())\n",
    "df_sp['OUTRO_SIN'].isnull().sum()/len(df_sp['OUTRO_SIN'])\n",
    "#NOVO DICIONÁRIO: 1- Sim, 0- Não"
   ]
  },
  {
   "cell_type": "code",
   "execution_count": null,
   "metadata": {
    "colab": {
     "base_uri": "https://localhost:8080/"
    },
    "executionInfo": {
     "elapsed": 35,
     "status": "ok",
     "timestamp": 1628353095776,
     "user": {
      "displayName": "Amanda Carvalho Caravieri",
      "photoUrl": "https://lh3.googleusercontent.com/a-/AOh14GgttA7VYFZyquday9s7XjHqgx9SZeSitqi2j4gXJJc=s64",
      "userId": "11196956687265597470"
     },
     "user_tz": 180
    },
    "id": "3C9DNO3x7HZ_",
    "outputId": "6abf2f34-5dae-4b14-b732-4e6cf0aaad32"
   },
   "outputs": [],
   "source": [
    "print(df_sp['PUERPERA'].nunique())\n",
    "print(df_sp['PUERPERA'].unique())\n",
    "df_sp['PUERPERA'].isnull().sum()/len(df_sp['PUERPERA'])\n",
    "#1-Sim, 2-Não,9-Ignorado"
   ]
  },
  {
   "cell_type": "code",
   "execution_count": null,
   "metadata": {
    "colab": {
     "base_uri": "https://localhost:8080/"
    },
    "executionInfo": {
     "elapsed": 29,
     "status": "ok",
     "timestamp": 1628353095776,
     "user": {
      "displayName": "Amanda Carvalho Caravieri",
      "photoUrl": "https://lh3.googleusercontent.com/a-/AOh14GgttA7VYFZyquday9s7XjHqgx9SZeSitqi2j4gXJJc=s64",
      "userId": "11196956687265597470"
     },
     "user_tz": 180
    },
    "id": "Ezk0VWhi7HaG",
    "outputId": "9ae52d15-9611-4704-c7c6-14a2188f0991"
   },
   "outputs": [],
   "source": [
    "df_sp['PUERPERA'].replace({2.0: 0, 9.0: 0}, inplace= True)\n",
    "df_sp['PUERPERA'].fillna(0,inplace= True)\n",
    "print(df_sp['PUERPERA'].unique())\n",
    "df_sp['PUERPERA'].isnull().sum()/len(df_sp['PUERPERA'])\n",
    "#NOVO DICIONÁRIO: 1- Sim, 0- Não"
   ]
  },
  {
   "cell_type": "code",
   "execution_count": null,
   "metadata": {
    "colab": {
     "base_uri": "https://localhost:8080/"
    },
    "executionInfo": {
     "elapsed": 24,
     "status": "ok",
     "timestamp": 1628353095777,
     "user": {
      "displayName": "Amanda Carvalho Caravieri",
      "photoUrl": "https://lh3.googleusercontent.com/a-/AOh14GgttA7VYFZyquday9s7XjHqgx9SZeSitqi2j4gXJJc=s64",
      "userId": "11196956687265597470"
     },
     "user_tz": 180
    },
    "id": "AeW2LJ_O7aaf",
    "outputId": "68aef59c-84dc-4ce1-8438-635580e75b96"
   },
   "outputs": [],
   "source": [
    "print(df_sp['FATOR_RISC'].nunique())\n",
    "print(df_sp['FATOR_RISC'].unique())\n",
    "df_sp['FATOR_RISC'].isnull().sum()/len(df_sp['FATOR_RISC'])\n",
    "#S-Sim, N-Não"
   ]
  },
  {
   "cell_type": "code",
   "execution_count": null,
   "metadata": {
    "id": "ptxGNx3i7aan"
   },
   "outputs": [],
   "source": [
    "#df_sp['FATOR_RISC'].replace({'S': 1, 'N': 0}, inplace= True)\n",
    "#print(df_sp['FATOR_RISC'].unique())\n",
    "#df_sp['FATOR_RISC'].isnull().sum()/len(df_sp[''])\n",
    "#NOVO DICIONÁRIO: 1- Sim, 0- Não"
   ]
  },
  {
   "cell_type": "code",
   "execution_count": null,
   "metadata": {
    "colab": {
     "base_uri": "https://localhost:8080/"
    },
    "executionInfo": {
     "elapsed": 18,
     "status": "ok",
     "timestamp": 1628353095777,
     "user": {
      "displayName": "Amanda Carvalho Caravieri",
      "photoUrl": "https://lh3.googleusercontent.com/a-/AOh14GgttA7VYFZyquday9s7XjHqgx9SZeSitqi2j4gXJJc=s64",
      "userId": "11196956687265597470"
     },
     "user_tz": 180
    },
    "id": "HEFeUGsD8r2I",
    "outputId": "d6dc4573-5010-4645-b99b-15c69509a617"
   },
   "outputs": [],
   "source": [
    "print(df_sp['CARDIOPATI'].nunique())\n",
    "print(df_sp['CARDIOPATI'].unique())\n",
    "df_sp['CARDIOPATI'].isnull().sum()/len(df_sp['CARDIOPATI'])\n",
    "#1-Sim, 2-Não,9-Ignorado"
   ]
  },
  {
   "cell_type": "code",
   "execution_count": null,
   "metadata": {
    "colab": {
     "base_uri": "https://localhost:8080/"
    },
    "executionInfo": {
     "elapsed": 12,
     "status": "ok",
     "timestamp": 1628353095778,
     "user": {
      "displayName": "Amanda Carvalho Caravieri",
      "photoUrl": "https://lh3.googleusercontent.com/a-/AOh14GgttA7VYFZyquday9s7XjHqgx9SZeSitqi2j4gXJJc=s64",
      "userId": "11196956687265597470"
     },
     "user_tz": 180
    },
    "id": "wm4RgVTi8r2i",
    "outputId": "d089249f-0a8b-48f6-daf1-002a8c2ca0d6"
   },
   "outputs": [],
   "source": [
    "df_sp['CARDIOPATI'].replace({2.0: 0, 9.0: 0}, inplace= True)\n",
    "df_sp['CARDIOPATI'].fillna(0,inplace= True)\n",
    "print(df_sp['CARDIOPATI'].unique())\n",
    "df_sp['CARDIOPATI'].isnull().sum()/len(df_sp['CARDIOPATI'])\n",
    "#NOVO DICIONÁRIO: 1- Sim, 0- Não"
   ]
  },
  {
   "cell_type": "code",
   "execution_count": null,
   "metadata": {
    "colab": {
     "base_uri": "https://localhost:8080/"
    },
    "executionInfo": {
     "elapsed": 936,
     "status": "ok",
     "timestamp": 1628353099003,
     "user": {
      "displayName": "Amanda Carvalho Caravieri",
      "photoUrl": "https://lh3.googleusercontent.com/a-/AOh14GgttA7VYFZyquday9s7XjHqgx9SZeSitqi2j4gXJJc=s64",
      "userId": "11196956687265597470"
     },
     "user_tz": 180
    },
    "id": "OG296GaH86Aw",
    "outputId": "235ba2bd-532f-47cd-ddec-733774db2d8a"
   },
   "outputs": [],
   "source": [
    "print(df_sp['HEMATOLOGI'].nunique())\n",
    "print(df_sp['HEMATOLOGI'].unique())\n",
    "df_sp['HEMATOLOGI'].isnull().sum()/len(df_sp['HEMATOLOGI'])\n",
    "#1-Sim, 2-Não,9-Ignorado"
   ]
  },
  {
   "cell_type": "code",
   "execution_count": null,
   "metadata": {
    "colab": {
     "base_uri": "https://localhost:8080/"
    },
    "executionInfo": {
     "elapsed": 34,
     "status": "ok",
     "timestamp": 1628353101125,
     "user": {
      "displayName": "Amanda Carvalho Caravieri",
      "photoUrl": "https://lh3.googleusercontent.com/a-/AOh14GgttA7VYFZyquday9s7XjHqgx9SZeSitqi2j4gXJJc=s64",
      "userId": "11196956687265597470"
     },
     "user_tz": 180
    },
    "id": "CNyJtm8K86Ax",
    "outputId": "44b0e929-7316-445a-9daf-2db42d80ac43"
   },
   "outputs": [],
   "source": [
    "df_sp['HEMATOLOGI'].replace({2.0: 0, 9.0: 0}, inplace= True)\n",
    "df_sp['HEMATOLOGI'].fillna(0,inplace= True)\n",
    "print(df_sp['HEMATOLOGI'].unique())\n",
    "df_sp['HEMATOLOGI'].isnull().sum()/len(df_sp['HEMATOLOGI'])\n",
    "#NOVO DICIONÁRIO: 1- Sim, 0- Não"
   ]
  },
  {
   "cell_type": "code",
   "execution_count": null,
   "metadata": {
    "colab": {
     "base_uri": "https://localhost:8080/"
    },
    "executionInfo": {
     "elapsed": 32,
     "status": "ok",
     "timestamp": 1628353101125,
     "user": {
      "displayName": "Amanda Carvalho Caravieri",
      "photoUrl": "https://lh3.googleusercontent.com/a-/AOh14GgttA7VYFZyquday9s7XjHqgx9SZeSitqi2j4gXJJc=s64",
      "userId": "11196956687265597470"
     },
     "user_tz": 180
    },
    "id": "58Dxfpu48664",
    "outputId": "16e98dbb-947e-4593-9aa1-72fd8ac4a757"
   },
   "outputs": [],
   "source": [
    "print(df_sp['SIND_DOWN'].nunique())\n",
    "print(df_sp['SIND_DOWN'].unique())\n",
    "df_sp['SIND_DOWN'].isnull().sum()/len(df_sp['SIND_DOWN'])\n",
    "#1-Sim, 2-Não,9-Ignorado"
   ]
  },
  {
   "cell_type": "code",
   "execution_count": null,
   "metadata": {
    "colab": {
     "base_uri": "https://localhost:8080/"
    },
    "executionInfo": {
     "elapsed": 27,
     "status": "ok",
     "timestamp": 1628353101126,
     "user": {
      "displayName": "Amanda Carvalho Caravieri",
      "photoUrl": "https://lh3.googleusercontent.com/a-/AOh14GgttA7VYFZyquday9s7XjHqgx9SZeSitqi2j4gXJJc=s64",
      "userId": "11196956687265597470"
     },
     "user_tz": 180
    },
    "id": "AIcKVmQM8664",
    "outputId": "8391eae6-b534-40fb-c290-10a541a01ce2"
   },
   "outputs": [],
   "source": [
    "df_sp['SIND_DOWN'].replace({2.0: 0, 9.0: 0}, inplace= True)\n",
    "df_sp['SIND_DOWN'].fillna(0,inplace= True)\n",
    "print(df_sp['SIND_DOWN'].unique())\n",
    "df_sp['SIND_DOWN'].isnull().sum()/len(df_sp['SIND_DOWN'])\n",
    "#NOVO DICIONÁRIO: 1- Sim, 0- Não"
   ]
  },
  {
   "cell_type": "code",
   "execution_count": null,
   "metadata": {
    "colab": {
     "base_uri": "https://localhost:8080/"
    },
    "executionInfo": {
     "elapsed": 21,
     "status": "ok",
     "timestamp": 1628353101126,
     "user": {
      "displayName": "Amanda Carvalho Caravieri",
      "photoUrl": "https://lh3.googleusercontent.com/a-/AOh14GgttA7VYFZyquday9s7XjHqgx9SZeSitqi2j4gXJJc=s64",
      "userId": "11196956687265597470"
     },
     "user_tz": 180
    },
    "id": "d4weBYT087oK",
    "outputId": "8135b383-b3f0-48a1-ed28-ac14a053d998"
   },
   "outputs": [],
   "source": [
    "print(df_sp['HEPATICA'].nunique())\n",
    "print(df_sp['HEPATICA'].unique())\n",
    "df_sp['HEPATICA'].isnull().sum()/len(df_sp['HEPATICA'])\n",
    "#1-Sim, 2-Não,9-Ignorado"
   ]
  },
  {
   "cell_type": "code",
   "execution_count": null,
   "metadata": {
    "colab": {
     "base_uri": "https://localhost:8080/"
    },
    "executionInfo": {
     "elapsed": 15,
     "status": "ok",
     "timestamp": 1628353101126,
     "user": {
      "displayName": "Amanda Carvalho Caravieri",
      "photoUrl": "https://lh3.googleusercontent.com/a-/AOh14GgttA7VYFZyquday9s7XjHqgx9SZeSitqi2j4gXJJc=s64",
      "userId": "11196956687265597470"
     },
     "user_tz": 180
    },
    "id": "Y6hVVsFw87oL",
    "outputId": "e9bf76e0-0206-4ebe-f3ef-9d3f0f9a4db2"
   },
   "outputs": [],
   "source": [
    "df_sp['HEPATICA'].replace({2.0: 0, 9.0: 0}, inplace= True)\n",
    "df_sp['HEPATICA'].fillna(0,inplace= True)\n",
    "print(df_sp['HEPATICA'].unique())\n",
    "df_sp['HEPATICA'].isnull().sum()/len(df_sp['HEPATICA'])\n",
    "#NOVO DICIONÁRIO: 1- Sim, 0- Não"
   ]
  },
  {
   "cell_type": "code",
   "execution_count": null,
   "metadata": {
    "colab": {
     "base_uri": "https://localhost:8080/"
    },
    "executionInfo": {
     "elapsed": 10,
     "status": "ok",
     "timestamp": 1628353101127,
     "user": {
      "displayName": "Amanda Carvalho Caravieri",
      "photoUrl": "https://lh3.googleusercontent.com/a-/AOh14GgttA7VYFZyquday9s7XjHqgx9SZeSitqi2j4gXJJc=s64",
      "userId": "11196956687265597470"
     },
     "user_tz": 180
    },
    "id": "5NVHt8Hw88UI",
    "outputId": "78405aea-3829-455a-b8e8-f8254476b882"
   },
   "outputs": [],
   "source": [
    "print(df_sp['ASMA'].nunique())\n",
    "print(df_sp['ASMA'].unique())\n",
    "df_sp['ASMA'].isnull().sum()/len(df_sp['ASMA'])\n",
    "#1-Sim, 2-Não,9-Ignorado"
   ]
  },
  {
   "cell_type": "code",
   "execution_count": null,
   "metadata": {
    "colab": {
     "base_uri": "https://localhost:8080/"
    },
    "executionInfo": {
     "elapsed": 8,
     "status": "ok",
     "timestamp": 1628353103099,
     "user": {
      "displayName": "Amanda Carvalho Caravieri",
      "photoUrl": "https://lh3.googleusercontent.com/a-/AOh14GgttA7VYFZyquday9s7XjHqgx9SZeSitqi2j4gXJJc=s64",
      "userId": "11196956687265597470"
     },
     "user_tz": 180
    },
    "id": "aq9xLk4Y88UJ",
    "outputId": "90734b14-08f7-451f-bbb3-c671d735196d"
   },
   "outputs": [],
   "source": [
    "df_sp['ASMA'].replace({2.0: 0, 9.0: 0}, inplace= True)\n",
    "df_sp['ASMA'].fillna(0,inplace= True)\n",
    "print(df_sp['ASMA'].unique())\n",
    "df_sp['ASMA'].isnull().sum()/len(df_sp['ASMA'])\n",
    "#NOVO DICIONÁRIO: 1- Sim, 0- Não"
   ]
  },
  {
   "cell_type": "code",
   "execution_count": null,
   "metadata": {
    "colab": {
     "base_uri": "https://localhost:8080/"
    },
    "executionInfo": {
     "elapsed": 1420,
     "status": "ok",
     "timestamp": 1628353105313,
     "user": {
      "displayName": "Amanda Carvalho Caravieri",
      "photoUrl": "https://lh3.googleusercontent.com/a-/AOh14GgttA7VYFZyquday9s7XjHqgx9SZeSitqi2j4gXJJc=s64",
      "userId": "11196956687265597470"
     },
     "user_tz": 180
    },
    "id": "LUl9nHpX9qeQ",
    "outputId": "6c87a118-ca50-4132-b556-6e1ad9a83a03"
   },
   "outputs": [],
   "source": [
    "print(df_sp['DIABETES'].nunique())\n",
    "print(df_sp['DIABETES'].unique())\n",
    "df_sp['DIABETES'].isnull().sum()/len(df_sp['DIABETES'])\n",
    "#1-Sim, 2-Não,9-Ignorado"
   ]
  },
  {
   "cell_type": "code",
   "execution_count": null,
   "metadata": {
    "colab": {
     "base_uri": "https://localhost:8080/"
    },
    "executionInfo": {
     "elapsed": 34,
     "status": "ok",
     "timestamp": 1628353105313,
     "user": {
      "displayName": "Amanda Carvalho Caravieri",
      "photoUrl": "https://lh3.googleusercontent.com/a-/AOh14GgttA7VYFZyquday9s7XjHqgx9SZeSitqi2j4gXJJc=s64",
      "userId": "11196956687265597470"
     },
     "user_tz": 180
    },
    "id": "VZDSmMAu9qeR",
    "outputId": "3e1e5949-e410-47b2-f8d2-2ec62011bb51"
   },
   "outputs": [],
   "source": [
    "df_sp['DIABETES'].replace({2.0: 0, 9.0: 0}, inplace= True)\n",
    "df_sp['DIABETES'].fillna(0,inplace= True)\n",
    "print(df_sp['DIABETES'].unique())\n",
    "df_sp['DIABETES'].isnull().sum()/len(df_sp['DIABETES'])\n",
    "#NOVO DICIONÁRIO: 1- Sim, 0- Não"
   ]
  },
  {
   "cell_type": "code",
   "execution_count": null,
   "metadata": {
    "colab": {
     "base_uri": "https://localhost:8080/"
    },
    "executionInfo": {
     "elapsed": 29,
     "status": "ok",
     "timestamp": 1628353105314,
     "user": {
      "displayName": "Amanda Carvalho Caravieri",
      "photoUrl": "https://lh3.googleusercontent.com/a-/AOh14GgttA7VYFZyquday9s7XjHqgx9SZeSitqi2j4gXJJc=s64",
      "userId": "11196956687265597470"
     },
     "user_tz": 180
    },
    "id": "alwkYYWI9rAo",
    "outputId": "5783c56a-53ed-4c89-a254-f3224b9282d0"
   },
   "outputs": [],
   "source": [
    "print(df_sp['NEUROLOGIC'].nunique())\n",
    "print(df_sp['NEUROLOGIC'].unique())\n",
    "df_sp['NEUROLOGIC'].isnull().sum()/len(df_sp['NEUROLOGIC'])\n",
    "#1-Sim, 2-Não,9-Ignorado"
   ]
  },
  {
   "cell_type": "code",
   "execution_count": null,
   "metadata": {
    "colab": {
     "base_uri": "https://localhost:8080/"
    },
    "executionInfo": {
     "elapsed": 23,
     "status": "ok",
     "timestamp": 1628353105314,
     "user": {
      "displayName": "Amanda Carvalho Caravieri",
      "photoUrl": "https://lh3.googleusercontent.com/a-/AOh14GgttA7VYFZyquday9s7XjHqgx9SZeSitqi2j4gXJJc=s64",
      "userId": "11196956687265597470"
     },
     "user_tz": 180
    },
    "id": "GyPlJrLA9rAo",
    "outputId": "2c5b2ccf-98e1-4212-e316-6da3c65398e4"
   },
   "outputs": [],
   "source": [
    "df_sp['NEUROLOGIC'].replace({2.0: 0, 9.0: 0}, inplace= True)\n",
    "df_sp['NEUROLOGIC'].fillna(0,inplace= True)\n",
    "print(df_sp['NEUROLOGIC'].unique())\n",
    "df_sp['NEUROLOGIC'].isnull().sum()/len(df_sp['NEUROLOGIC'])\n",
    "#NOVO DICIONÁRIO: 1- Sim, 0- Não"
   ]
  },
  {
   "cell_type": "code",
   "execution_count": null,
   "metadata": {
    "colab": {
     "base_uri": "https://localhost:8080/"
    },
    "executionInfo": {
     "elapsed": 17,
     "status": "ok",
     "timestamp": 1628353105314,
     "user": {
      "displayName": "Amanda Carvalho Caravieri",
      "photoUrl": "https://lh3.googleusercontent.com/a-/AOh14GgttA7VYFZyquday9s7XjHqgx9SZeSitqi2j4gXJJc=s64",
      "userId": "11196956687265597470"
     },
     "user_tz": 180
    },
    "id": "2B7GlBze9rRG",
    "outputId": "0629221a-2d07-4262-cb30-3c7ca8f4021b"
   },
   "outputs": [],
   "source": [
    "print(df_sp['PNEUMOPATI'].nunique())\n",
    "print(df_sp['PNEUMOPATI'].unique())\n",
    "df_sp['PNEUMOPATI'].isnull().sum()/len(df_sp['PNEUMOPATI'])\n",
    "#1-Sim, 2-Não,9-Ignorado"
   ]
  },
  {
   "cell_type": "code",
   "execution_count": null,
   "metadata": {
    "colab": {
     "base_uri": "https://localhost:8080/"
    },
    "executionInfo": {
     "elapsed": 618,
     "status": "ok",
     "timestamp": 1628353105921,
     "user": {
      "displayName": "Amanda Carvalho Caravieri",
      "photoUrl": "https://lh3.googleusercontent.com/a-/AOh14GgttA7VYFZyquday9s7XjHqgx9SZeSitqi2j4gXJJc=s64",
      "userId": "11196956687265597470"
     },
     "user_tz": 180
    },
    "id": "p1UaEc7K9rRH",
    "outputId": "703db6f0-2004-4dad-9225-158605e029e2"
   },
   "outputs": [],
   "source": [
    "df_sp['PNEUMOPATI'].replace({2.0: 0, 9.0: 0}, inplace= True)\n",
    "df_sp['PNEUMOPATI'].fillna(0,inplace= True)\n",
    "print(df_sp['PNEUMOPATI'].unique())\n",
    "df_sp['PNEUMOPATI'].isnull().sum()/len(df_sp['PNEUMOPATI'])\n",
    "#NOVO DICIONÁRIO: 1- Sim, 0- Não"
   ]
  },
  {
   "cell_type": "code",
   "execution_count": null,
   "metadata": {
    "colab": {
     "base_uri": "https://localhost:8080/"
    },
    "executionInfo": {
     "elapsed": 6,
     "status": "ok",
     "timestamp": 1628353105921,
     "user": {
      "displayName": "Amanda Carvalho Caravieri",
      "photoUrl": "https://lh3.googleusercontent.com/a-/AOh14GgttA7VYFZyquday9s7XjHqgx9SZeSitqi2j4gXJJc=s64",
      "userId": "11196956687265597470"
     },
     "user_tz": 180
    },
    "id": "F2xeQg5s9rXR",
    "outputId": "9c6048ee-5c93-48e8-feaf-7cdddf3b3980"
   },
   "outputs": [],
   "source": [
    "print(df_sp['IMUNODEPRE'].nunique())\n",
    "print(df_sp['IMUNODEPRE'].unique())\n",
    "df_sp['IMUNODEPRE'].isnull().sum()/len(df_sp['IMUNODEPRE'])\n",
    "#1-Sim, 2-Não,9-Ignorado"
   ]
  },
  {
   "cell_type": "code",
   "execution_count": null,
   "metadata": {
    "colab": {
     "base_uri": "https://localhost:8080/"
    },
    "executionInfo": {
     "elapsed": 33,
     "status": "ok",
     "timestamp": 1628353108728,
     "user": {
      "displayName": "Amanda Carvalho Caravieri",
      "photoUrl": "https://lh3.googleusercontent.com/a-/AOh14GgttA7VYFZyquday9s7XjHqgx9SZeSitqi2j4gXJJc=s64",
      "userId": "11196956687265597470"
     },
     "user_tz": 180
    },
    "id": "Q8FFKN_m9rXS",
    "outputId": "fa3b1846-892f-4b72-83a8-84dbc8809500"
   },
   "outputs": [],
   "source": [
    "df_sp['IMUNODEPRE'].replace({2.0: 0, 9.0: 0}, inplace= True)\n",
    "df_sp['IMUNODEPRE'].fillna(0,inplace= True)\n",
    "print(df_sp['IMUNODEPRE'].unique())\n",
    "df_sp['IMUNODEPRE'].isnull().sum()/len(df_sp['IMUNODEPRE'])\n",
    "#NOVO DICIONÁRIO: 1- Sim, 0- Não"
   ]
  },
  {
   "cell_type": "code",
   "execution_count": null,
   "metadata": {
    "colab": {
     "base_uri": "https://localhost:8080/"
    },
    "executionInfo": {
     "elapsed": 29,
     "status": "ok",
     "timestamp": 1628353108729,
     "user": {
      "displayName": "Amanda Carvalho Caravieri",
      "photoUrl": "https://lh3.googleusercontent.com/a-/AOh14GgttA7VYFZyquday9s7XjHqgx9SZeSitqi2j4gXJJc=s64",
      "userId": "11196956687265597470"
     },
     "user_tz": 180
    },
    "id": "XhD7WKE49rgz",
    "outputId": "18f82c72-05e9-49aa-9b8d-e69ca9284150"
   },
   "outputs": [],
   "source": [
    "print(df_sp['RENAL'].nunique())\n",
    "print(df_sp['RENAL'].unique())\n",
    "df_sp['RENAL'].isnull().sum()/len(df_sp['RENAL'])\n",
    "#1-Sim, 2-Não,9-Ignorado"
   ]
  },
  {
   "cell_type": "code",
   "execution_count": null,
   "metadata": {
    "colab": {
     "base_uri": "https://localhost:8080/"
    },
    "executionInfo": {
     "elapsed": 23,
     "status": "ok",
     "timestamp": 1628353108729,
     "user": {
      "displayName": "Amanda Carvalho Caravieri",
      "photoUrl": "https://lh3.googleusercontent.com/a-/AOh14GgttA7VYFZyquday9s7XjHqgx9SZeSitqi2j4gXJJc=s64",
      "userId": "11196956687265597470"
     },
     "user_tz": 180
    },
    "id": "na7H2cOP9rgz",
    "outputId": "802e9e4f-5f4a-4330-e0ef-139f4289ff79"
   },
   "outputs": [],
   "source": [
    "df_sp['RENAL'].replace({2.0: 0, 9.0: 0}, inplace= True)\n",
    "df_sp['RENAL'].fillna(0,inplace= True)\n",
    "print(df_sp['RENAL'].unique())\n",
    "df_sp['RENAL'].isnull().sum()/len(df_sp['RENAL'])\n",
    "#NOVO DICIONÁRIO: 1- Sim, 0- Não"
   ]
  },
  {
   "cell_type": "code",
   "execution_count": null,
   "metadata": {
    "colab": {
     "base_uri": "https://localhost:8080/"
    },
    "executionInfo": {
     "elapsed": 16,
     "status": "ok",
     "timestamp": 1628353108729,
     "user": {
      "displayName": "Amanda Carvalho Caravieri",
      "photoUrl": "https://lh3.googleusercontent.com/a-/AOh14GgttA7VYFZyquday9s7XjHqgx9SZeSitqi2j4gXJJc=s64",
      "userId": "11196956687265597470"
     },
     "user_tz": 180
    },
    "id": "3imhrb9o9rnf",
    "outputId": "6d0eb959-516e-4360-8355-7139f67e5100"
   },
   "outputs": [],
   "source": [
    "print(df_sp['OBESIDADE'].nunique())\n",
    "print(df_sp['OBESIDADE'].unique())\n",
    "df_sp['OBESIDADE'].isnull().sum()/len(df_sp['OBESIDADE'])\n",
    "#1-Sim, 2-Não,9-Ignorado"
   ]
  },
  {
   "cell_type": "code",
   "execution_count": null,
   "metadata": {
    "colab": {
     "base_uri": "https://localhost:8080/"
    },
    "executionInfo": {
     "elapsed": 11,
     "status": "ok",
     "timestamp": 1628353108730,
     "user": {
      "displayName": "Amanda Carvalho Caravieri",
      "photoUrl": "https://lh3.googleusercontent.com/a-/AOh14GgttA7VYFZyquday9s7XjHqgx9SZeSitqi2j4gXJJc=s64",
      "userId": "11196956687265597470"
     },
     "user_tz": 180
    },
    "id": "uXjHB8jf9rnf",
    "outputId": "85a8b63d-276a-420b-cb9d-ffe2f7f6037e"
   },
   "outputs": [],
   "source": [
    "df_sp['OBESIDADE'].replace({2.0: 0, 9.0: 0}, inplace= True)\n",
    "df_sp['OBESIDADE'].fillna(0,inplace= True)\n",
    "print(df_sp['OBESIDADE'].unique())\n",
    "df_sp['OBESIDADE'].isnull().sum()/len(df_sp['OBESIDADE'])\n",
    "#NOVO DICIONÁRIO: 1- Sim, 0- Não"
   ]
  },
  {
   "cell_type": "code",
   "execution_count": null,
   "metadata": {
    "colab": {
     "base_uri": "https://localhost:8080/"
    },
    "executionInfo": {
     "elapsed": 16,
     "status": "ok",
     "timestamp": 1628353111319,
     "user": {
      "displayName": "Amanda Carvalho Caravieri",
      "photoUrl": "https://lh3.googleusercontent.com/a-/AOh14GgttA7VYFZyquday9s7XjHqgx9SZeSitqi2j4gXJJc=s64",
      "userId": "11196956687265597470"
     },
     "user_tz": 180
    },
    "id": "SKaDEX1e9rug",
    "outputId": "91b50c24-d245-4203-a64d-0eb971b424de"
   },
   "outputs": [],
   "source": [
    "print(df_sp['OUT_MORBI'].nunique())\n",
    "print(df_sp['OUT_MORBI'].unique())\n",
    "df_sp['OUT_MORBI'].isnull().sum()/len(df_sp['OUT_MORBI'])\n",
    "#1-Sim, 2-Não,9-Ignorado"
   ]
  },
  {
   "cell_type": "code",
   "execution_count": null,
   "metadata": {
    "colab": {
     "base_uri": "https://localhost:8080/"
    },
    "executionInfo": {
     "elapsed": 14,
     "status": "ok",
     "timestamp": 1628353111320,
     "user": {
      "displayName": "Amanda Carvalho Caravieri",
      "photoUrl": "https://lh3.googleusercontent.com/a-/AOh14GgttA7VYFZyquday9s7XjHqgx9SZeSitqi2j4gXJJc=s64",
      "userId": "11196956687265597470"
     },
     "user_tz": 180
    },
    "id": "vIKDJeGF9ruh",
    "outputId": "0a05321e-5eea-471d-addf-707f3457007a"
   },
   "outputs": [],
   "source": [
    "df_sp['OUT_MORBI'].replace({2.0: 0, 9.0: 0}, inplace= True)\n",
    "df_sp['OUT_MORBI'].fillna(0,inplace= True)\n",
    "print(df_sp['OUT_MORBI'].unique())\n",
    "df_sp['OUT_MORBI'].isnull().sum()/len(df_sp['OUT_MORBI'])\n",
    "#NOVO DICIONÁRIO: 1- Sim, 0- Não"
   ]
  },
  {
   "cell_type": "code",
   "execution_count": null,
   "metadata": {
    "colab": {
     "base_uri": "https://localhost:8080/"
    },
    "executionInfo": {
     "elapsed": 8,
     "status": "ok",
     "timestamp": 1628353111320,
     "user": {
      "displayName": "Amanda Carvalho Caravieri",
      "photoUrl": "https://lh3.googleusercontent.com/a-/AOh14GgttA7VYFZyquday9s7XjHqgx9SZeSitqi2j4gXJJc=s64",
      "userId": "11196956687265597470"
     },
     "user_tz": 180
    },
    "id": "9-0HFI7O9r0c",
    "outputId": "29c50c0f-2bf5-4cc4-de4b-2f4fa6b74178"
   },
   "outputs": [],
   "source": [
    "print(df_sp['VACINA'].nunique())\n",
    "print(df_sp['VACINA'].unique())\n",
    "df_sp['VACINA'].isnull().sum()/len(df_sp['VACINA'])\n",
    "#1-Sim, 2-Não,9-Ignorado"
   ]
  },
  {
   "cell_type": "code",
   "execution_count": null,
   "metadata": {
    "colab": {
     "base_uri": "https://localhost:8080/"
    },
    "executionInfo": {
     "elapsed": 20,
     "status": "ok",
     "timestamp": 1628353111905,
     "user": {
      "displayName": "Amanda Carvalho Caravieri",
      "photoUrl": "https://lh3.googleusercontent.com/a-/AOh14GgttA7VYFZyquday9s7XjHqgx9SZeSitqi2j4gXJJc=s64",
      "userId": "11196956687265597470"
     },
     "user_tz": 180
    },
    "id": "x8rLM6Yr9r0c",
    "outputId": "3dd1056b-0840-4911-cf1a-321c1843a19a"
   },
   "outputs": [],
   "source": [
    "df_sp['ASMA'].replace({2.0: 0, 9.0: 0}, inplace= True)\n",
    "df_sp['ASMA'].fillna(0,inplace= True)\n",
    "print(df_sp['ASMA'].unique())\n",
    "df_sp['ASMA'].isnull().sum()/len(df_sp['ASMA'])\n",
    "#NOVO DICIONÁRIO: 1- Sim, 0- Não"
   ]
  },
  {
   "cell_type": "code",
   "execution_count": null,
   "metadata": {
    "colab": {
     "base_uri": "https://localhost:8080/"
    },
    "executionInfo": {
     "elapsed": 17,
     "status": "ok",
     "timestamp": 1628353111906,
     "user": {
      "displayName": "Amanda Carvalho Caravieri",
      "photoUrl": "https://lh3.googleusercontent.com/a-/AOh14GgttA7VYFZyquday9s7XjHqgx9SZeSitqi2j4gXJJc=s64",
      "userId": "11196956687265597470"
     },
     "user_tz": 180
    },
    "id": "GSpZh9Ly9r6Z",
    "outputId": "4d645581-6b84-4507-8d76-8f68f64f5708"
   },
   "outputs": [],
   "source": [
    "print(df_sp['ANTIVIRAL'].nunique())\n",
    "print(df_sp['ANTIVIRAL'].unique())\n",
    "df_sp['ANTIVIRAL'].isnull().sum()/len(df_sp['ANTIVIRAL'])\n",
    "#1-Sim, 2-Não,9-Ignorado"
   ]
  },
  {
   "cell_type": "code",
   "execution_count": null,
   "metadata": {
    "colab": {
     "base_uri": "https://localhost:8080/"
    },
    "executionInfo": {
     "elapsed": 3,
     "status": "ok",
     "timestamp": 1628353113500,
     "user": {
      "displayName": "Amanda Carvalho Caravieri",
      "photoUrl": "https://lh3.googleusercontent.com/a-/AOh14GgttA7VYFZyquday9s7XjHqgx9SZeSitqi2j4gXJJc=s64",
      "userId": "11196956687265597470"
     },
     "user_tz": 180
    },
    "id": "QnqyUySA9r6Z",
    "outputId": "30a339f8-4763-4f47-f847-4d4834734bb4"
   },
   "outputs": [],
   "source": [
    "df_sp['ANTIVIRAL'].replace({2.0: 0, 9.0: 0}, inplace= True)\n",
    "df_sp['ANTIVIRAL'].fillna(0,inplace= True)\n",
    "print(df_sp['ANTIVIRAL'].unique())\n",
    "df_sp['ANTIVIRAL'].isnull().sum()/len(df_sp['ANTIVIRAL'])\n",
    "#NOVO DICIONÁRIO: 1- Sim, 0- Não"
   ]
  },
  {
   "cell_type": "code",
   "execution_count": null,
   "metadata": {
    "colab": {
     "base_uri": "https://localhost:8080/"
    },
    "executionInfo": {
     "elapsed": 11,
     "status": "ok",
     "timestamp": 1628353114283,
     "user": {
      "displayName": "Amanda Carvalho Caravieri",
      "photoUrl": "https://lh3.googleusercontent.com/a-/AOh14GgttA7VYFZyquday9s7XjHqgx9SZeSitqi2j4gXJJc=s64",
      "userId": "11196956687265597470"
     },
     "user_tz": 180
    },
    "id": "gkFEN_3C9sAJ",
    "outputId": "82c1bb92-24c9-4fa9-e3c1-72a2d954c168"
   },
   "outputs": [],
   "source": [
    "print(df_sp['SG_UF_INTE'].nunique())\n",
    "print(df_sp['SG_UF_INTE'].unique())\n",
    "df_sp['SG_UF_INTE'].isnull().sum()/len(df_sp['SG_UF_INTE'])\n",
    "#1-Sim, 2-Não,9-Ignorado"
   ]
  },
  {
   "cell_type": "code",
   "execution_count": null,
   "metadata": {
    "colab": {
     "base_uri": "https://localhost:8080/"
    },
    "executionInfo": {
     "elapsed": 9,
     "status": "ok",
     "timestamp": 1628353114283,
     "user": {
      "displayName": "Amanda Carvalho Caravieri",
      "photoUrl": "https://lh3.googleusercontent.com/a-/AOh14GgttA7VYFZyquday9s7XjHqgx9SZeSitqi2j4gXJJc=s64",
      "userId": "11196956687265597470"
     },
     "user_tz": 180
    },
    "id": "91384YFWAnAS",
    "outputId": "d58a6c19-27bf-4849-c0ef-220baa07d763"
   },
   "outputs": [],
   "source": [
    "df_uf = df_sp.loc[df_sp['SG_UF_INTE']=='MA']\n",
    "df_uf.shape\n",
    "#1 linha apenas... Vou dropar essa coluna então pq ela não agrega info significativa ao à análise."
   ]
  },
  {
   "cell_type": "code",
   "execution_count": null,
   "metadata": {
    "id": "3XK4qwR49sAK"
   },
   "outputs": [],
   "source": [
    "df_sp.drop(columns=['SG_UF_INTE'], inplace=True)\n",
    "# df_sp['SG_UF_INTE'] # Não entendi porque visualizar depois de dropar..."
   ]
  },
  {
   "cell_type": "code",
   "execution_count": null,
   "metadata": {
    "colab": {
     "base_uri": "https://localhost:8080/"
    },
    "executionInfo": {
     "elapsed": 10,
     "status": "ok",
     "timestamp": 1628353134354,
     "user": {
      "displayName": "Amanda Carvalho Caravieri",
      "photoUrl": "https://lh3.googleusercontent.com/a-/AOh14GgttA7VYFZyquday9s7XjHqgx9SZeSitqi2j4gXJJc=s64",
      "userId": "11196956687265597470"
     },
     "user_tz": 180
    },
    "id": "i8QDWuc5BZtP",
    "outputId": "89d47299-b526-46d0-ccb0-ad36c80ff361"
   },
   "outputs": [],
   "source": [
    "df_sp.shape"
   ]
  },
  {
   "cell_type": "code",
   "execution_count": null,
   "metadata": {
    "colab": {
     "base_uri": "https://localhost:8080/"
    },
    "executionInfo": {
     "elapsed": 17,
     "status": "ok",
     "timestamp": 1628353135346,
     "user": {
      "displayName": "Amanda Carvalho Caravieri",
      "photoUrl": "https://lh3.googleusercontent.com/a-/AOh14GgttA7VYFZyquday9s7XjHqgx9SZeSitqi2j4gXJJc=s64",
      "userId": "11196956687265597470"
     },
     "user_tz": 180
    },
    "id": "UcO84Wn19sFz",
    "outputId": "cedbc304-e86c-4939-a906-e59e2640aae1"
   },
   "outputs": [],
   "source": [
    "print(df_sp['UTI'].nunique())\n",
    "print(df_sp['UTI'].unique())\n",
    "df_sp['UTI'].isnull().sum()/len(df_sp['UTI'])\n",
    "#1-Sim, 2-Não,9-Ignorado"
   ]
  },
  {
   "cell_type": "code",
   "execution_count": null,
   "metadata": {
    "colab": {
     "base_uri": "https://localhost:8080/"
    },
    "executionInfo": {
     "elapsed": 9,
     "status": "ok",
     "timestamp": 1628353135347,
     "user": {
      "displayName": "Amanda Carvalho Caravieri",
      "photoUrl": "https://lh3.googleusercontent.com/a-/AOh14GgttA7VYFZyquday9s7XjHqgx9SZeSitqi2j4gXJJc=s64",
      "userId": "11196956687265597470"
     },
     "user_tz": 180
    },
    "id": "0oLJN56i9sF0",
    "outputId": "f564b187-0650-4e2a-e0ae-96a586e13f23"
   },
   "outputs": [],
   "source": [
    "df_sp['UTI'].replace({2.0: 0, 9.0: 0}, inplace= True)\n",
    "df_sp['UTI'].fillna(0,inplace= True)\n",
    "print(df_sp['UTI'].unique())\n",
    "df_sp['UTI'].isnull().sum()/len(df_sp['UTI'])\n",
    "#NOVO DICIONÁRIO: 1- Sim, 0- Não"
   ]
  },
  {
   "cell_type": "code",
   "execution_count": null,
   "metadata": {
    "colab": {
     "base_uri": "https://localhost:8080/"
    },
    "executionInfo": {
     "elapsed": 31,
     "status": "ok",
     "timestamp": 1628353135853,
     "user": {
      "displayName": "Amanda Carvalho Caravieri",
      "photoUrl": "https://lh3.googleusercontent.com/a-/AOh14GgttA7VYFZyquday9s7XjHqgx9SZeSitqi2j4gXJJc=s64",
      "userId": "11196956687265597470"
     },
     "user_tz": 180
    },
    "id": "81cGvAch9sLn",
    "outputId": "67e1f2b2-6d8f-4db4-d666-1dfade530e6e"
   },
   "outputs": [],
   "source": [
    "print(df_sp['DT_ENTUTI'].isnull().sum()/len(df_sp['DT_ENTUTI'])) # 7,3% missing para as duas variáveis\n",
    "print(df_sp['DT_SAIDUTI'].isnull().sum()/len(df_sp['DT_SAIDUTI'])) "
   ]
  },
  {
   "cell_type": "code",
   "execution_count": null,
   "metadata": {
    "colab": {
     "base_uri": "https://localhost:8080/"
    },
    "executionInfo": {
     "elapsed": 25,
     "status": "ok",
     "timestamp": 1628353135853,
     "user": {
      "displayName": "Amanda Carvalho Caravieri",
      "photoUrl": "https://lh3.googleusercontent.com/a-/AOh14GgttA7VYFZyquday9s7XjHqgx9SZeSitqi2j4gXJJc=s64",
      "userId": "11196956687265597470"
     },
     "user_tz": 180
    },
    "id": "Sdkd-vme9sQ7",
    "outputId": "fbe99d4d-406f-4021-a5b3-755539bbed97"
   },
   "outputs": [],
   "source": [
    "print(df_sp['SUPORT_VEN'].nunique())\n",
    "print(df_sp['SUPORT_VEN'].unique())\n",
    "df_sp['SUPORT_VEN'].isnull().sum()/len(df_sp['SUPORT_VEN'])\n",
    "#1-Sim, invasivo 2-Sim, não invasivo 3-Não 9-Ignorado"
   ]
  },
  {
   "cell_type": "code",
   "execution_count": null,
   "metadata": {
    "colab": {
     "base_uri": "https://localhost:8080/"
    },
    "executionInfo": {
     "elapsed": 20,
     "status": "ok",
     "timestamp": 1628353135854,
     "user": {
      "displayName": "Amanda Carvalho Caravieri",
      "photoUrl": "https://lh3.googleusercontent.com/a-/AOh14GgttA7VYFZyquday9s7XjHqgx9SZeSitqi2j4gXJJc=s64",
      "userId": "11196956687265597470"
     },
     "user_tz": 180
    },
    "id": "gRWad9Ms9sQ7",
    "outputId": "d27351e7-8122-4bf2-ab6a-0baf584fb529"
   },
   "outputs": [],
   "source": [
    "df_sp['SUPORT_VEN'].replace({3.0: 0, 9.0: 0}, inplace= True)\n",
    "df_sp['SUPORT_VEN'].fillna(0,inplace= True)\n",
    "print(df_sp['SUPORT_VEN'].unique())\n",
    "df_sp['SUPORT_VEN'].isnull().sum()/len(df_sp['SUPORT_VEN'])\n",
    "#NOVO DICIONÁRIO: 1- 1-Sim, invasivo,  2-Sim, não invasivo,  0- Não"
   ]
  },
  {
   "cell_type": "code",
   "execution_count": null,
   "metadata": {
    "colab": {
     "base_uri": "https://localhost:8080/"
    },
    "executionInfo": {
     "elapsed": 11,
     "status": "ok",
     "timestamp": 1628353135854,
     "user": {
      "displayName": "Amanda Carvalho Caravieri",
      "photoUrl": "https://lh3.googleusercontent.com/a-/AOh14GgttA7VYFZyquday9s7XjHqgx9SZeSitqi2j4gXJJc=s64",
      "userId": "11196956687265597470"
     },
     "user_tz": 180
    },
    "id": "RrEUuakw9sWJ",
    "outputId": "246fc6f7-ac88-4a1f-91f8-73a65fde1075"
   },
   "outputs": [],
   "source": [
    "print(df_sp['RAIOX_RES'].nunique())\n",
    "print(df_sp['RAIOX_RES'].unique())\n",
    "df_sp['RAIOX_RES'].isnull().sum()/len(df_sp['RAIOX_RES'])\n",
    "#1-Normal\n",
    "#2-Infiltrado intersticial\n",
    "#3-Consolidação\n",
    "#4-Misto\n",
    "#5-Outro\n",
    "#6-Não realizado\n",
    "#9-Ignorado"
   ]
  },
  {
   "cell_type": "code",
   "execution_count": null,
   "metadata": {
    "colab": {
     "base_uri": "https://localhost:8080/"
    },
    "executionInfo": {
     "elapsed": 15,
     "status": "ok",
     "timestamp": 1628353136716,
     "user": {
      "displayName": "Amanda Carvalho Caravieri",
      "photoUrl": "https://lh3.googleusercontent.com/a-/AOh14GgttA7VYFZyquday9s7XjHqgx9SZeSitqi2j4gXJJc=s64",
      "userId": "11196956687265597470"
     },
     "user_tz": 180
    },
    "id": "xF6LinZ89sWK",
    "outputId": "33abb889-3361-4f08-eacf-672428bb38d4"
   },
   "outputs": [],
   "source": [
    "df_sp['RAIOX_RES'].replace({ 9.0: 6}, inplace= True)\n",
    "df_sp['RAIOX_RES'].fillna(6,inplace= True)\n",
    "print(df_sp['RAIOX_RES'].unique())\n",
    "df_sp['RAIOX_RES'].isnull().sum()/len(df_sp['RAIOX_RES'])\n",
    "#NOVO DICIONÁRIO: 1- Sim, 0- Não\n",
    "#1-Normal\n",
    "#2-Infiltrado intersticial\n",
    "#3-Consolidação\n",
    "#4-Misto\n",
    "#5-Outro\n",
    "#6-Não realizado"
   ]
  },
  {
   "cell_type": "code",
   "execution_count": null,
   "metadata": {
    "colab": {
     "base_uri": "https://localhost:8080/"
    },
    "executionInfo": {
     "elapsed": 14,
     "status": "ok",
     "timestamp": 1628353136717,
     "user": {
      "displayName": "Amanda Carvalho Caravieri",
      "photoUrl": "https://lh3.googleusercontent.com/a-/AOh14GgttA7VYFZyquday9s7XjHqgx9SZeSitqi2j4gXJJc=s64",
      "userId": "11196956687265597470"
     },
     "user_tz": 180
    },
    "id": "nHvNOULl9sa-",
    "outputId": "44f58223-2ce9-4ebe-d200-01e07d02693e"
   },
   "outputs": [],
   "source": [
    "print(df_sp['PCR_RESUL'].nunique())\n",
    "print(df_sp['PCR_RESUL'].unique())\n",
    "df_sp['PCR_RESUL'].isnull().sum()/len(df_sp['PCR_RESUL'])\n",
    "#1-Detectável\n",
    "#2-Não Detectável\n",
    "#3-Inconclusivo\n",
    "#4-Não Realizado\n",
    "#5-Aguardando Resultado\n",
    "#9-Ignorado"
   ]
  },
  {
   "cell_type": "code",
   "execution_count": null,
   "metadata": {
    "colab": {
     "base_uri": "https://localhost:8080/"
    },
    "executionInfo": {
     "elapsed": 8,
     "status": "ok",
     "timestamp": 1628353136717,
     "user": {
      "displayName": "Amanda Carvalho Caravieri",
      "photoUrl": "https://lh3.googleusercontent.com/a-/AOh14GgttA7VYFZyquday9s7XjHqgx9SZeSitqi2j4gXJJc=s64",
      "userId": "11196956687265597470"
     },
     "user_tz": 180
    },
    "id": "yIbue5mp9sa_",
    "outputId": "cd32f22d-3ce3-4d94-90f7-e45eaf150a76"
   },
   "outputs": [],
   "source": [
    "df_sp['PCR_RESUL'].fillna(4,inplace= True)\n",
    "print(df_sp['PCR_RESUL'].unique())\n",
    "df_sp['PCR_RESUL'].isnull().sum()/len(df_sp['PCR_RESUL'])\n"
   ]
  },
  {
   "cell_type": "markdown",
   "metadata": {
    "id": "7zVce-nuJf_Z"
   },
   "source": [
    "- Filtro : EVOLUÇÃO = 1 e 2."
   ]
  },
  {
   "cell_type": "code",
   "execution_count": null,
   "metadata": {
    "colab": {
     "base_uri": "https://localhost:8080/"
    },
    "executionInfo": {
     "elapsed": 19,
     "status": "ok",
     "timestamp": 1628353137505,
     "user": {
      "displayName": "Amanda Carvalho Caravieri",
      "photoUrl": "https://lh3.googleusercontent.com/a-/AOh14GgttA7VYFZyquday9s7XjHqgx9SZeSitqi2j4gXJJc=s64",
      "userId": "11196956687265597470"
     },
     "user_tz": 180
    },
    "id": "jhph_1nOGUYh",
    "outputId": "d3ff464e-ad09-4ff8-e384-d4bfbde490f8"
   },
   "outputs": [],
   "source": [
    "print(df_sp['EVOLUCAO'].nunique())\n",
    "print(df_sp['EVOLUCAO'].unique())\n",
    "df_sp['EVOLUCAO'].isnull().sum()/len(df_sp['EVOLUCAO'])\n",
    "#1-Cura\n",
    "#2-Óbito\n",
    "#3-Óbito por outras causas\n",
    "#9-Ignorado"
   ]
  },
  {
   "cell_type": "code",
   "execution_count": null,
   "metadata": {
    "colab": {
     "base_uri": "https://localhost:8080/"
    },
    "executionInfo": {
     "elapsed": 16,
     "status": "ok",
     "timestamp": 1628353137506,
     "user": {
      "displayName": "Amanda Carvalho Caravieri",
      "photoUrl": "https://lh3.googleusercontent.com/a-/AOh14GgttA7VYFZyquday9s7XjHqgx9SZeSitqi2j4gXJJc=s64",
      "userId": "11196956687265597470"
     },
     "user_tz": 180
    },
    "id": "_cQzplqTHh9d",
    "outputId": "9f780135-f018-4659-b25f-61e7da47b5b7"
   },
   "outputs": [],
   "source": [
    "df_evo1 = df_sp.loc[df_sp['EVOLUCAO']==1]\n",
    "len(df_evo1)/len(df_sp)"
   ]
  },
  {
   "cell_type": "code",
   "execution_count": null,
   "metadata": {
    "colab": {
     "base_uri": "https://localhost:8080/"
    },
    "executionInfo": {
     "elapsed": 4,
     "status": "ok",
     "timestamp": 1628353140467,
     "user": {
      "displayName": "Amanda Carvalho Caravieri",
      "photoUrl": "https://lh3.googleusercontent.com/a-/AOh14GgttA7VYFZyquday9s7XjHqgx9SZeSitqi2j4gXJJc=s64",
      "userId": "11196956687265597470"
     },
     "user_tz": 180
    },
    "id": "nHtZqPSQIHGx",
    "outputId": "35868353-501a-42ac-a919-10487443457f"
   },
   "outputs": [],
   "source": [
    "df_evo2 = df_sp.loc[df_sp['EVOLUCAO']==2]\n",
    "len(df_evo2)/len(df_sp)"
   ]
  },
  {
   "cell_type": "code",
   "execution_count": null,
   "metadata": {
    "colab": {
     "base_uri": "https://localhost:8080/"
    },
    "executionInfo": {
     "elapsed": 12,
     "status": "ok",
     "timestamp": 1628353141350,
     "user": {
      "displayName": "Amanda Carvalho Caravieri",
      "photoUrl": "https://lh3.googleusercontent.com/a-/AOh14GgttA7VYFZyquday9s7XjHqgx9SZeSitqi2j4gXJJc=s64",
      "userId": "11196956687265597470"
     },
     "user_tz": 180
    },
    "id": "EuPQGVV-INkv",
    "outputId": "bdd2e933-7603-4aa7-d3de-cc3a076e6bd6"
   },
   "outputs": [],
   "source": [
    "df_evo3 = df_sp.loc[df_sp['EVOLUCAO']==3]\n",
    "len(df_evo3)/len(df_sp)"
   ]
  },
  {
   "cell_type": "code",
   "execution_count": null,
   "metadata": {
    "colab": {
     "base_uri": "https://localhost:8080/"
    },
    "executionInfo": {
     "elapsed": 788,
     "status": "ok",
     "timestamp": 1628353163166,
     "user": {
      "displayName": "Amanda Carvalho Caravieri",
      "photoUrl": "https://lh3.googleusercontent.com/a-/AOh14GgttA7VYFZyquday9s7XjHqgx9SZeSitqi2j4gXJJc=s64",
      "userId": "11196956687265597470"
     },
     "user_tz": 180
    },
    "id": "4s7V6CivINu_",
    "outputId": "b648482e-965d-4121-a504-28e9e60a6911"
   },
   "outputs": [],
   "source": [
    "df_evo9 = df_sp.loc[df_sp['EVOLUCAO']==9]\n",
    "len(df_evo9)/len(df_sp)"
   ]
  },
  {
   "cell_type": "code",
   "execution_count": null,
   "metadata": {
    "colab": {
     "base_uri": "https://localhost:8080/"
    },
    "executionInfo": {
     "elapsed": 513,
     "status": "ok",
     "timestamp": 1628353166788,
     "user": {
      "displayName": "Amanda Carvalho Caravieri",
      "photoUrl": "https://lh3.googleusercontent.com/a-/AOh14GgttA7VYFZyquday9s7XjHqgx9SZeSitqi2j4gXJJc=s64",
      "userId": "11196956687265597470"
     },
     "user_tz": 180
    },
    "id": "MnXM6dNhIOMk",
    "outputId": "3b4d968f-66a9-4cba-997d-e04406ff54eb"
   },
   "outputs": [],
   "source": [
    "df_sp['EVOLUCAO'].isnull().sum()/len(df_sp)\n"
   ]
  },
  {
   "cell_type": "code",
   "execution_count": null,
   "metadata": {
    "colab": {
     "base_uri": "https://localhost:8080/"
    },
    "executionInfo": {
     "elapsed": 14,
     "status": "ok",
     "timestamp": 1628353167300,
     "user": {
      "displayName": "Amanda Carvalho Caravieri",
      "photoUrl": "https://lh3.googleusercontent.com/a-/AOh14GgttA7VYFZyquday9s7XjHqgx9SZeSitqi2j4gXJJc=s64",
      "userId": "11196956687265597470"
     },
     "user_tz": 180
    },
    "id": "1UL8l8BjKdDW",
    "outputId": "f2737099-6a67-469f-8fea-c7682ff3e42d"
   },
   "outputs": [],
   "source": [
    "df_sp_1= df_sp.loc[(df_sp['EVOLUCAO']<=2.0)]\n",
    "print(df_sp_1['EVOLUCAO'].unique())"
   ]
  },
  {
   "cell_type": "code",
   "execution_count": null,
   "metadata": {
    "colab": {
     "base_uri": "https://localhost:8080/",
     "height": 305
    },
    "executionInfo": {
     "elapsed": 13,
     "status": "ok",
     "timestamp": 1628353167301,
     "user": {
      "displayName": "Amanda Carvalho Caravieri",
      "photoUrl": "https://lh3.googleusercontent.com/a-/AOh14GgttA7VYFZyquday9s7XjHqgx9SZeSitqi2j4gXJJc=s64",
      "userId": "11196956687265597470"
     },
     "user_tz": 180
    },
    "id": "vdvBI0-zMTOV",
    "outputId": "92f48488-d438-4348-ba91-f25a2ce6d850"
   },
   "outputs": [],
   "source": [
    "df_sp_1.head()"
   ]
  },
  {
   "cell_type": "code",
   "execution_count": null,
   "metadata": {
    "colab": {
     "base_uri": "https://localhost:8080/"
    },
    "executionInfo": {
     "elapsed": 11,
     "status": "ok",
     "timestamp": 1628353167301,
     "user": {
      "displayName": "Amanda Carvalho Caravieri",
      "photoUrl": "https://lh3.googleusercontent.com/a-/AOh14GgttA7VYFZyquday9s7XjHqgx9SZeSitqi2j4gXJJc=s64",
      "userId": "11196956687265597470"
     },
     "user_tz": 180
    },
    "id": "L6ZYTaJAKdDW",
    "outputId": "0caa2657-f010-42f2-ebe5-b7d111e54974"
   },
   "outputs": [],
   "source": [
    "df_sp_1.shape"
   ]
  },
  {
   "cell_type": "markdown",
   "metadata": {
    "id": "IqkLiKmCM5H3"
   },
   "source": [
    "- Resetando o Index novamente."
   ]
  },
  {
   "cell_type": "code",
   "execution_count": null,
   "metadata": {
    "colab": {
     "base_uri": "https://localhost:8080/",
     "height": 305
    },
    "executionInfo": {
     "elapsed": 5,
     "status": "ok",
     "timestamp": 1628353167986,
     "user": {
      "displayName": "Amanda Carvalho Caravieri",
      "photoUrl": "https://lh3.googleusercontent.com/a-/AOh14GgttA7VYFZyquday9s7XjHqgx9SZeSitqi2j4gXJJc=s64",
      "userId": "11196956687265597470"
     },
     "user_tz": 180
    },
    "id": "6O-EIaVrM8GU",
    "outputId": "ebc6f187-b1f7-4bcb-eb65-00667fca3e5b"
   },
   "outputs": [],
   "source": [
    "df_sp_1= df_sp_1.reset_index(drop=True)\n",
    "df_sp_1.head()"
   ]
  },
  {
   "cell_type": "markdown",
   "metadata": {
    "id": "PJFfObXhLykI"
   },
   "source": [
    "- Continuando a análise das variáveis \n"
   ]
  },
  {
   "cell_type": "code",
   "execution_count": null,
   "metadata": {
    "colab": {
     "base_uri": "https://localhost:8080/"
    },
    "executionInfo": {
     "elapsed": 4,
     "status": "ok",
     "timestamp": 1628353168845,
     "user": {
      "displayName": "Amanda Carvalho Caravieri",
      "photoUrl": "https://lh3.googleusercontent.com/a-/AOh14GgttA7VYFZyquday9s7XjHqgx9SZeSitqi2j4gXJJc=s64",
      "userId": "11196956687265597470"
     },
     "user_tz": 180
    },
    "id": "vb5sdiQWMDMV",
    "outputId": "9b17017b-55b9-4cac-80ab-56029dddea75"
   },
   "outputs": [],
   "source": [
    "print(df_sp_1['DT_EVOLUCA'].isnull().sum()/len(df_sp['DT_EVOLUCA'])) # 8,4% missing \n",
    "print(df_sp_1['DT_ENCERRA'].isnull().sum()/len(df_sp['DT_ENCERRA'])) # 7,2% missing "
   ]
  },
  {
   "cell_type": "code",
   "execution_count": null,
   "metadata": {
    "colab": {
     "base_uri": "https://localhost:8080/"
    },
    "executionInfo": {
     "elapsed": 19,
     "status": "ok",
     "timestamp": 1628353170165,
     "user": {
      "displayName": "Amanda Carvalho Caravieri",
      "photoUrl": "https://lh3.googleusercontent.com/a-/AOh14GgttA7VYFZyquday9s7XjHqgx9SZeSitqi2j4gXJJc=s64",
      "userId": "11196956687265597470"
     },
     "user_tz": 180
    },
    "id": "kLvBnziaGUtB",
    "outputId": "71b45941-fbce-436f-ccee-1958ad26c7d7"
   },
   "outputs": [],
   "source": [
    "print(df_sp_1['HISTO_VGM'].nunique())\n",
    "print(df_sp_1['HISTO_VGM'].unique())\n",
    "df_sp_1['HISTO_VGM'].isnull().sum()/len(df_sp_1['HISTO_VGM'])\n",
    "#1-Sim, 2-Não,9-Ignorado"
   ]
  },
  {
   "cell_type": "code",
   "execution_count": null,
   "metadata": {
    "colab": {
     "base_uri": "https://localhost:8080/"
    },
    "executionInfo": {
     "elapsed": 17,
     "status": "ok",
     "timestamp": 1628353170166,
     "user": {
      "displayName": "Amanda Carvalho Caravieri",
      "photoUrl": "https://lh3.googleusercontent.com/a-/AOh14GgttA7VYFZyquday9s7XjHqgx9SZeSitqi2j4gXJJc=s64",
      "userId": "11196956687265597470"
     },
     "user_tz": 180
    },
    "id": "qTs6t1qsGUtC",
    "outputId": "f85c8657-b322-4ffa-f1f4-b5d9b040a8ef"
   },
   "outputs": [],
   "source": [
    "#Deve ter algum erro pq no dicionario não tem 0 \n",
    "df_sp_1['HISTO_VGM'].replace({0: 2}, inplace= True)\n",
    "print(df_sp_1['HISTO_VGM'].unique())\n",
    "df_sp_1['HISTO_VGM'].isnull().sum()/len(df_sp_1['HISTO_VGM'])\n",
    "#NOVO DICIONÁRIO: #1-Sim, 2-Não,9-Ignorado"
   ]
  },
  {
   "cell_type": "code",
   "execution_count": null,
   "metadata": {
    "colab": {
     "base_uri": "https://localhost:8080/"
    },
    "executionInfo": {
     "elapsed": 10,
     "status": "ok",
     "timestamp": 1628353170166,
     "user": {
      "displayName": "Amanda Carvalho Caravieri",
      "photoUrl": "https://lh3.googleusercontent.com/a-/AOh14GgttA7VYFZyquday9s7XjHqgx9SZeSitqi2j4gXJJc=s64",
      "userId": "11196956687265597470"
     },
     "user_tz": 180
    },
    "id": "aSvQnwpSONFN",
    "outputId": "ff75d1e5-7676-4589-f4f5-134c462a906f"
   },
   "outputs": [],
   "source": [
    "print(df_sp_1['DOR_ABD'].nunique())\n",
    "print(df_sp_1['DOR_ABD'].unique())\n",
    "df_sp_1['DOR_ABD'].isnull().sum()/len(df_sp_1['DOR_ABD'])\n",
    "#1-Sim, 2-Não,9-Ignorado"
   ]
  },
  {
   "cell_type": "code",
   "execution_count": null,
   "metadata": {
    "colab": {
     "base_uri": "https://localhost:8080/"
    },
    "executionInfo": {
     "elapsed": 25,
     "status": "ok",
     "timestamp": 1628353170723,
     "user": {
      "displayName": "Amanda Carvalho Caravieri",
      "photoUrl": "https://lh3.googleusercontent.com/a-/AOh14GgttA7VYFZyquday9s7XjHqgx9SZeSitqi2j4gXJJc=s64",
      "userId": "11196956687265597470"
     },
     "user_tz": 180
    },
    "id": "RNHmykHrONFW",
    "outputId": "c8a7b36c-3cf9-4aa0-f217-83e41d4fe0d1"
   },
   "outputs": [],
   "source": [
    "df_sp_1['DOR_ABD'].replace({9.0: 0, 2.0 :0}, inplace= True)\n",
    "df_sp_1['DOR_ABD'].fillna(0,inplace= True)\n",
    "print(df_sp_1['DOR_ABD'].unique())\n",
    "df_sp_1['DOR_ABD'].isnull().sum()/len(df_sp_1['DOR_ABD'])\n",
    "#NOVO DICIONÁRIO: #1-Sim, 0-Não\n"
   ]
  },
  {
   "cell_type": "code",
   "execution_count": null,
   "metadata": {
    "colab": {
     "base_uri": "https://localhost:8080/"
    },
    "executionInfo": {
     "elapsed": 22,
     "status": "ok",
     "timestamp": 1628353170724,
     "user": {
      "displayName": "Amanda Carvalho Caravieri",
      "photoUrl": "https://lh3.googleusercontent.com/a-/AOh14GgttA7VYFZyquday9s7XjHqgx9SZeSitqi2j4gXJJc=s64",
      "userId": "11196956687265597470"
     },
     "user_tz": 180
    },
    "id": "x4dPqSRfPCSg",
    "outputId": "9650fd9d-7a78-4313-dc34-6f3fb43cd516"
   },
   "outputs": [],
   "source": [
    "print(df_sp_1['FADIGA'].nunique())\n",
    "print(df_sp_1['FADIGA'].unique())\n",
    "df_sp_1['FADIGA'].isnull().sum()/len(df_sp_1['FADIGA'])\n",
    "#1-Sim, 2-Não,9-Ignorado"
   ]
  },
  {
   "cell_type": "code",
   "execution_count": null,
   "metadata": {
    "colab": {
     "base_uri": "https://localhost:8080/"
    },
    "executionInfo": {
     "elapsed": 16,
     "status": "ok",
     "timestamp": 1628353170724,
     "user": {
      "displayName": "Amanda Carvalho Caravieri",
      "photoUrl": "https://lh3.googleusercontent.com/a-/AOh14GgttA7VYFZyquday9s7XjHqgx9SZeSitqi2j4gXJJc=s64",
      "userId": "11196956687265597470"
     },
     "user_tz": 180
    },
    "id": "wF0lHQk4PCSo",
    "outputId": "13c3268e-d529-4397-e859-665044a1e0fd"
   },
   "outputs": [],
   "source": [
    "df_sp_1['FADIGA'].replace({9.0: 0, 2.0 :0}, inplace= True)\n",
    "df_sp_1['FADIGA'].fillna(0,inplace= True)\n",
    "print(df_sp_1['FADIGA'].unique())\n",
    "df_sp_1['FADIGA'].isnull().sum()/len(df_sp_1['FADIGA'])\n",
    "#NOVO DICIONÁRIO: #1-Sim, 0-Não\n"
   ]
  },
  {
   "cell_type": "code",
   "execution_count": null,
   "metadata": {
    "colab": {
     "base_uri": "https://localhost:8080/"
    },
    "executionInfo": {
     "elapsed": 9,
     "status": "ok",
     "timestamp": 1628353170724,
     "user": {
      "displayName": "Amanda Carvalho Caravieri",
      "photoUrl": "https://lh3.googleusercontent.com/a-/AOh14GgttA7VYFZyquday9s7XjHqgx9SZeSitqi2j4gXJJc=s64",
      "userId": "11196956687265597470"
     },
     "user_tz": 180
    },
    "id": "Dxvef7HPPKLY",
    "outputId": "683ac873-11de-4f04-afce-22ff74fd4b0c"
   },
   "outputs": [],
   "source": [
    "print(df_sp_1['PERD_OLFT'].nunique())\n",
    "print(df_sp_1['PERD_OLFT'].unique())\n",
    "df_sp_1['PERD_OLFT'].isnull().sum()/len(df_sp_1['PERD_OLFT'])\n",
    "#1-Sim, 2-Não,9-Ignorado"
   ]
  },
  {
   "cell_type": "code",
   "execution_count": null,
   "metadata": {
    "colab": {
     "base_uri": "https://localhost:8080/"
    },
    "executionInfo": {
     "elapsed": 1054,
     "status": "ok",
     "timestamp": 1628353173796,
     "user": {
      "displayName": "Amanda Carvalho Caravieri",
      "photoUrl": "https://lh3.googleusercontent.com/a-/AOh14GgttA7VYFZyquday9s7XjHqgx9SZeSitqi2j4gXJJc=s64",
      "userId": "11196956687265597470"
     },
     "user_tz": 180
    },
    "id": "CPIWo04wPKLo",
    "outputId": "33dadafa-78b8-43e4-ce3e-010d82e77f83"
   },
   "outputs": [],
   "source": [
    "df_sp_1['PERD_OLFT'].replace({9.0: 0, 2.0 :0}, inplace= True)\n",
    "df_sp_1['PERD_OLFT'].fillna(0,inplace= True)\n",
    "print(df_sp_1['PERD_OLFT'].unique())\n",
    "df_sp_1['PERD_OLFT'].isnull().sum()/len(df_sp_1['PERD_OLFT'])\n",
    "#NOVO DICIONÁRIO: #1-Sim, 0-Não\n"
   ]
  },
  {
   "cell_type": "code",
   "execution_count": null,
   "metadata": {
    "colab": {
     "base_uri": "https://localhost:8080/"
    },
    "executionInfo": {
     "elapsed": 35,
     "status": "ok",
     "timestamp": 1628353173797,
     "user": {
      "displayName": "Amanda Carvalho Caravieri",
      "photoUrl": "https://lh3.googleusercontent.com/a-/AOh14GgttA7VYFZyquday9s7XjHqgx9SZeSitqi2j4gXJJc=s64",
      "userId": "11196956687265597470"
     },
     "user_tz": 180
    },
    "id": "Jpjq70IYPRTL",
    "outputId": "cd9892fa-82ce-4330-aa98-652c2d341874"
   },
   "outputs": [],
   "source": [
    "print(df_sp_1['PERD_PALA'].nunique())\n",
    "print(df_sp_1['PERD_PALA'].unique())\n",
    "df_sp_1['PERD_PALA'].isnull().sum()/len(df_sp_1['PERD_PALA'])\n",
    "#1-Sim, 2-Não,9-Ignorado"
   ]
  },
  {
   "cell_type": "code",
   "execution_count": null,
   "metadata": {
    "colab": {
     "base_uri": "https://localhost:8080/"
    },
    "executionInfo": {
     "elapsed": 27,
     "status": "ok",
     "timestamp": 1628353173798,
     "user": {
      "displayName": "Amanda Carvalho Caravieri",
      "photoUrl": "https://lh3.googleusercontent.com/a-/AOh14GgttA7VYFZyquday9s7XjHqgx9SZeSitqi2j4gXJJc=s64",
      "userId": "11196956687265597470"
     },
     "user_tz": 180
    },
    "id": "gaidJkJHPRTS",
    "outputId": "a02b151c-6ae0-4bfb-8bd5-c615400dd748"
   },
   "outputs": [],
   "source": [
    "df_sp_1['PERD_PALA'].replace({9.0: 0, 2.0 :0}, inplace= True)\n",
    "df_sp_1['PERD_PALA'].fillna(0,inplace= True)\n",
    "print(df_sp_1['PERD_PALA'].unique())\n",
    "df_sp_1['PERD_PALA'].isnull().sum()/len(df_sp_1['PERD_PALA'])\n",
    "#NOVO DICIONÁRIO: #1-Sim, 0-Não\n"
   ]
  },
  {
   "cell_type": "code",
   "execution_count": null,
   "metadata": {
    "colab": {
     "base_uri": "https://localhost:8080/"
    },
    "executionInfo": {
     "elapsed": 21,
     "status": "ok",
     "timestamp": 1628353173799,
     "user": {
      "displayName": "Amanda Carvalho Caravieri",
      "photoUrl": "https://lh3.googleusercontent.com/a-/AOh14GgttA7VYFZyquday9s7XjHqgx9SZeSitqi2j4gXJJc=s64",
      "userId": "11196956687265597470"
     },
     "user_tz": 180
    },
    "id": "ChRzSi6oPRg1",
    "outputId": "39253e21-3bec-456e-eb8c-3e2da1f8bb3b"
   },
   "outputs": [],
   "source": [
    "print(df_sp_1['TOMO_RES'].nunique())\n",
    "print(df_sp_1['TOMO_RES'].unique())\n",
    "df_sp_1['TOMO_RES'].isnull().sum()/len(df_sp_1['TOMO_RES'])\n",
    "#1-Tipico COVID-19\n",
    "#2- Indeterminado COVID-19\n",
    "#3- Atípico COVID-19\n",
    "#4- Negativo para Pneumonia\n",
    "#5- Outro\n",
    "#6-Não realizado\n",
    "#9-Ignorado"
   ]
  },
  {
   "cell_type": "code",
   "execution_count": null,
   "metadata": {
    "colab": {
     "base_uri": "https://localhost:8080/"
    },
    "executionInfo": {
     "elapsed": 682,
     "status": "ok",
     "timestamp": 1628353174469,
     "user": {
      "displayName": "Amanda Carvalho Caravieri",
      "photoUrl": "https://lh3.googleusercontent.com/a-/AOh14GgttA7VYFZyquday9s7XjHqgx9SZeSitqi2j4gXJJc=s64",
      "userId": "11196956687265597470"
     },
     "user_tz": 180
    },
    "id": "KyuU-cIJPRg1",
    "outputId": "70fb4a10-23f5-4eda-9090-6e578280b05c"
   },
   "outputs": [],
   "source": [
    "df_sp_1['TOMO_RES'].replace({9.0: 6}, inplace= True)\n",
    "df_sp_1['TOMO_RES'].fillna(6,inplace= True)\n",
    "print(df_sp_1['TOMO_RES'].unique())\n",
    "df_sp_1['TOMO_RES'].isnull().sum()/len(df_sp_1['PERD_OLFT'])\n",
    "#NOVO DICIONÁRIO: \n",
    "#1-Tipico COVID-19\n",
    "#2- Indeterminado COVID-19\n",
    "#3- Atípico COVID-19\n",
    "#4- Negativo para Pneumonia\n",
    "#5- Outro\n",
    "#6-Não realizado\n",
    "#9-Ignorado"
   ]
  },
  {
   "cell_type": "code",
   "execution_count": null,
   "metadata": {
    "colab": {
     "base_uri": "https://localhost:8080/"
    },
    "executionInfo": {
     "elapsed": 15,
     "status": "ok",
     "timestamp": 1628353174469,
     "user": {
      "displayName": "Amanda Carvalho Caravieri",
      "photoUrl": "https://lh3.googleusercontent.com/a-/AOh14GgttA7VYFZyquday9s7XjHqgx9SZeSitqi2j4gXJJc=s64",
      "userId": "11196956687265597470"
     },
     "user_tz": 180
    },
    "id": "HKozkUUNPRqJ",
    "outputId": "9d9360d0-d2ad-46ab-ac8d-a7bd9cb569f5"
   },
   "outputs": [],
   "source": [
    "print(df_sp_1['RES_IGG'].nunique())\n",
    "print(df_sp_1['RES_IGG'].unique())\n",
    "df_sp_1['RES_IGG'].isnull().sum()/len(df_sp_1['RES_IGG'])\n",
    "#1-Positivo\n",
    "#2-Negativo\n",
    "#3-Inconclusivo\n",
    "#4-Não realizado\n",
    "#5-Aguarda resultado\n",
    "#9 Ignorado"
   ]
  },
  {
   "cell_type": "code",
   "execution_count": null,
   "metadata": {
    "colab": {
     "base_uri": "https://localhost:8080/"
    },
    "executionInfo": {
     "elapsed": 11,
     "status": "ok",
     "timestamp": 1628353174470,
     "user": {
      "displayName": "Amanda Carvalho Caravieri",
      "photoUrl": "https://lh3.googleusercontent.com/a-/AOh14GgttA7VYFZyquday9s7XjHqgx9SZeSitqi2j4gXJJc=s64",
      "userId": "11196956687265597470"
     },
     "user_tz": 180
    },
    "id": "frpGa_stPRqJ",
    "outputId": "d18d3184-e125-4ffd-b021-b48f53eeecef"
   },
   "outputs": [],
   "source": [
    "df_sp_1['RES_IGG'].replace({9.0: 4}, inplace= True)\n",
    "df_sp_1['RES_IGG'].fillna(4,inplace= True)\n",
    "print(df_sp_1['RES_IGG'].unique())\n",
    "df_sp_1['RES_IGG'].isnull().sum()/len(df_sp_1['RES_IGG'])\n",
    "#NOVO DICIONÁRIO: \n",
    "#1-Positivo\n",
    "#2-Negativo\n",
    "#3-Inconclusivo\n",
    "#4-Não realizado\n",
    "#5-Aguarda resultado"
   ]
  },
  {
   "cell_type": "code",
   "execution_count": null,
   "metadata": {
    "colab": {
     "base_uri": "https://localhost:8080/"
    },
    "executionInfo": {
     "elapsed": 47,
     "status": "ok",
     "timestamp": 1628353175007,
     "user": {
      "displayName": "Amanda Carvalho Caravieri",
      "photoUrl": "https://lh3.googleusercontent.com/a-/AOh14GgttA7VYFZyquday9s7XjHqgx9SZeSitqi2j4gXJJc=s64",
      "userId": "11196956687265597470"
     },
     "user_tz": 180
    },
    "id": "M7EbXLmAQ2Ks",
    "outputId": "1cb23d48-c28d-452d-dce0-1fabf89d298c"
   },
   "outputs": [],
   "source": [
    "print(df_sp_1['RES_IGM'].nunique())\n",
    "print(df_sp_1['RES_IGM'].unique())\n",
    "df_sp_1['RES_IGM'].isnull().sum()/len(df_sp_1['RES_IGM'])\n",
    "#1-Positivo\n",
    "#2-Negativo\n",
    "#3-Inconclusivo\n",
    "#4-Não realizado\n",
    "#5-Aguarda resultado\n",
    "#9 Ignorado"
   ]
  },
  {
   "cell_type": "code",
   "execution_count": null,
   "metadata": {
    "colab": {
     "base_uri": "https://localhost:8080/"
    },
    "executionInfo": {
     "elapsed": 43,
     "status": "ok",
     "timestamp": 1628353175008,
     "user": {
      "displayName": "Amanda Carvalho Caravieri",
      "photoUrl": "https://lh3.googleusercontent.com/a-/AOh14GgttA7VYFZyquday9s7XjHqgx9SZeSitqi2j4gXJJc=s64",
      "userId": "11196956687265597470"
     },
     "user_tz": 180
    },
    "id": "v0B0tseQQ2Ky",
    "outputId": "4c7ca681-3395-45b5-b3da-1c3e95857594"
   },
   "outputs": [],
   "source": [
    "df_sp_1['RES_IGM'].replace({9.0: 4}, inplace= True)\n",
    "df_sp_1['RES_IGM'].fillna(4,inplace= True)\n",
    "print(df_sp_1['RES_IGM'].unique())\n",
    "df_sp_1['RES_IGM'].isnull().sum()/len(df_sp_1['RES_IGM'])\n",
    "#NOVO DICIONÁRIO: \n",
    "#1-Positivo\n",
    "#2-Negativo\n",
    "#3-Inconclusivo\n",
    "#4-Não realizado\n",
    "#5-Aguarda resultado"
   ]
  },
  {
   "cell_type": "code",
   "execution_count": null,
   "metadata": {
    "colab": {
     "base_uri": "https://localhost:8080/"
    },
    "executionInfo": {
     "elapsed": 29,
     "status": "ok",
     "timestamp": 1628353175008,
     "user": {
      "displayName": "Amanda Carvalho Caravieri",
      "photoUrl": "https://lh3.googleusercontent.com/a-/AOh14GgttA7VYFZyquday9s7XjHqgx9SZeSitqi2j4gXJJc=s64",
      "userId": "11196956687265597470"
     },
     "user_tz": 180
    },
    "id": "1is-h6QFQ2bL",
    "outputId": "8d7e2af7-0b8c-4850-b6f0-d67f703b6953"
   },
   "outputs": [],
   "source": [
    "print(df_sp_1['RES_IGA'].nunique())\n",
    "print(df_sp_1['RES_IGA'].unique())\n",
    "df_sp_1['RES_IGA'].isnull().sum()/len(df_sp_1['RES_IGA'])\n",
    "#1-Positivo\n",
    "#2-Negativo\n",
    "#3-Inconclusivo\n",
    "#4-Não realizado\n",
    "#5-Aguarda resultado\n",
    "#9 Ignorado"
   ]
  },
  {
   "cell_type": "code",
   "execution_count": null,
   "metadata": {
    "colab": {
     "base_uri": "https://localhost:8080/"
    },
    "executionInfo": {
     "elapsed": 21,
     "status": "ok",
     "timestamp": 1628353175009,
     "user": {
      "displayName": "Amanda Carvalho Caravieri",
      "photoUrl": "https://lh3.googleusercontent.com/a-/AOh14GgttA7VYFZyquday9s7XjHqgx9SZeSitqi2j4gXJJc=s64",
      "userId": "11196956687265597470"
     },
     "user_tz": 180
    },
    "id": "nEVTABieQ2bL",
    "outputId": "db96eded-0b4e-4c04-c562-7d1a0606ae02"
   },
   "outputs": [],
   "source": [
    "df_sp_1['RES_IGA'].replace({9.0: 4}, inplace= True)\n",
    "df_sp_1['RES_IGA'].fillna(4,inplace= True)\n",
    "print(df_sp_1['RES_IGA'].unique())\n",
    "df_sp_1['RES_IGA'].isnull().sum()/len(df_sp_1['RES_IGA'])\n",
    "#NOVO DICIONÁRIO: \n",
    "#1-Positivo\n",
    "#2-Negativo\n",
    "#3-Inconclusivo\n",
    "#4-Não realizado\n",
    "#5-Aguarda resultado"
   ]
  },
  {
   "cell_type": "markdown",
   "metadata": {},
   "source": [
    "Comentário do Leonardo: Faltou classificar a variável sexo que eu fiz no começo da classificaçao e também das variáveis Fator de Risco e do target que eu fiz logo abaixo, pois acredito que ela precisa estar no formato 0 e 1. Neste caso peço que dêem uma atenção nesse caso antes de rodarem os modelos. Eu rodei a árvore e deu uma acurácia de 0,77 mas fiquei com uma pulga atrás da orelha ao analisar os resultados da classificação.\n"
   ]
  },
  {
   "cell_type": "code",
   "execution_count": null,
   "metadata": {},
   "outputs": [],
   "source": [
    "df_sp_1['FATOR_RISC'].replace({\"S\": 1, \"N\": 0}, inplace= True)\n",
    "print(df_sp_1['FATOR_RISC'].unique())\n",
    "df_sp_1['FATOR_RISC'].isnull().sum()/len(df_sp_1['FATOR_RISC'])\n",
    "#NOVO DICIONÁRIO: \n",
    "#0-Não\n",
    "#1-Sim\n"
   ]
  },
  {
   "cell_type": "code",
   "execution_count": null,
   "metadata": {
    "colab": {
     "base_uri": "https://localhost:8080/"
    },
    "executionInfo": {
     "elapsed": 14,
     "status": "ok",
     "timestamp": 1628353175010,
     "user": {
      "displayName": "Amanda Carvalho Caravieri",
      "photoUrl": "https://lh3.googleusercontent.com/a-/AOh14GgttA7VYFZyquday9s7XjHqgx9SZeSitqi2j4gXJJc=s64",
      "userId": "11196956687265597470"
     },
     "user_tz": 180
    },
    "id": "m02VEiUaRfGF",
    "outputId": "85ef9568-7882-4faf-bb30-8b4d9182d9ff"
   },
   "outputs": [],
   "source": [
    "print(df_sp_1['EVOLUCAO'].nunique())\n",
    "print(df_sp_1['EVOLUCAO'].unique())\n",
    "df_sp_1['EVOLUCAO'].isnull().sum()/len(df_sp_1['EVOLUCAO'])\n",
    "#1-Cura\n",
    "#2-Óbito"
   ]
  },
  {
   "cell_type": "markdown",
   "metadata": {},
   "source": [
    "Comentário do Leonardo: Precisei re-classificar a variável target, pois acredito que ela precisa ser uma dummy 0 e 1."
   ]
  },
  {
   "cell_type": "code",
   "execution_count": null,
   "metadata": {},
   "outputs": [],
   "source": [
    "df_sp_1['EVOLUCAO'].replace({2.0: 99, 1.0: 100}, inplace= True)\n",
    "print(df_sp_1['EVOLUCAO'].unique())\n",
    "df_sp_1['EVOLUCAO'].isnull().sum()/len(df_sp_1['EVOLUCAO'])\n",
    "#NOVO DICIONÁRIO: \n",
    "#1-Óbito\n",
    "#0-Cura\n"
   ]
  },
  {
   "cell_type": "code",
   "execution_count": null,
   "metadata": {},
   "outputs": [],
   "source": [
    "df_sp_1['EVOLUCAO'].replace({99: 1, 100: 0}, inplace= True)\n",
    "print(df_sp_1['EVOLUCAO'].unique())\n",
    "df_sp_1['EVOLUCAO'].isnull().sum()/len(df_sp_1['EVOLUCAO'])\n",
    "#NOVO DICIONÁRIO: \n",
    "#1-Óbito\n",
    "#0-Cura\n"
   ]
  },
  {
   "cell_type": "markdown",
   "metadata": {
    "id": "04Fbt0WsR7QV"
   },
   "source": [
    "- ORDENAÇÃO DAS COLUNAS "
   ]
  },
  {
   "cell_type": "code",
   "execution_count": null,
   "metadata": {
    "colab": {
     "base_uri": "https://localhost:8080/",
     "height": 305
    },
    "executionInfo": {
     "elapsed": 7,
     "status": "ok",
     "timestamp": 1628353175010,
     "user": {
      "displayName": "Amanda Carvalho Caravieri",
      "photoUrl": "https://lh3.googleusercontent.com/a-/AOh14GgttA7VYFZyquday9s7XjHqgx9SZeSitqi2j4gXJJc=s64",
      "userId": "11196956687265597470"
     },
     "user_tz": 180
    },
    "id": "wRb0BcG3TIOE",
    "outputId": "19446b57-6ee0-40ea-a7a4-fea437ee22c6"
   },
   "outputs": [],
   "source": [
    "Col= ['DT_NOTIFIC', 'IDADE_ANOS','CS_SEXO', 'CS_GESTANT', 'CS_RACA', 'CS_ESCOL_N','HISTO_VGM', \n",
    "      'SURTO_SG', 'NOSOCOMIAL', 'AVE_SUINO','OUT_ANIM', 'FEBRE','TOSSE', 'GARGANTA', 'DISPNEIA', 'DESC_RESP', 'SATURACAO',\n",
    "      'DIARREIA', 'VOMITO','DOR_ABD',  'FADIGA', 'PERD_OLFT', 'PERD_PALA', 'OUTRO_SIN', 'FATOR_RISC', 'PUERPERA', \n",
    "      'CARDIOPATI', 'HEMATOLOGI', 'SIND_DOWN', 'HEPATICA', 'ASMA', 'DIABETES', 'NEUROLOGIC', 'PNEUMOPATI', 'IMUNODEPRE', \n",
    "      'RENAL', 'OBESIDADE', 'OUT_MORBI', 'VACINA', 'ANTIVIRAL', 'CO_MU_INTE', 'UTI', 'DT_ENTUTI', 'DT_SAIDUTI', \n",
    "      'SUPORT_VEN', 'RAIOX_RES','TOMO_RES','PCR_RESUL', 'RES_IGG', 'RES_IGM', 'RES_IGA', 'EVOLUCAO', 'DT_EVOLUCA', \n",
    "      'DT_ENCERRA']    \n",
    "     \n",
    "df_sp_2 = df_sp_1.reindex(columns=Col)\n",
    "df_sp_2.head()"
   ]
  },
  {
   "cell_type": "markdown",
   "metadata": {
    "id": "I8f8bsOtWkL8"
   },
   "source": [
    "### Comparações:\n"
   ]
  },
  {
   "cell_type": "code",
   "execution_count": null,
   "metadata": {
    "colab": {
     "base_uri": "https://localhost:8080/"
    },
    "executionInfo": {
     "elapsed": 787,
     "status": "ok",
     "timestamp": 1628353176374,
     "user": {
      "displayName": "Amanda Carvalho Caravieri",
      "photoUrl": "https://lh3.googleusercontent.com/a-/AOh14GgttA7VYFZyquday9s7XjHqgx9SZeSitqi2j4gXJJc=s64",
      "userId": "11196956687265597470"
     },
     "user_tz": 180
    },
    "id": "zjXn5lQqTt6d",
    "outputId": "f7141d70-501c-45ba-b197-2f133661aac2"
   },
   "outputs": [],
   "source": [
    "print(df_brasil_AV.shape)\n",
    "df_brasil_AV.isnull().sum()/len(df_brasil_AV)"
   ]
  },
  {
   "cell_type": "code",
   "execution_count": null,
   "metadata": {
    "colab": {
     "base_uri": "https://localhost:8080/"
    },
    "executionInfo": {
     "elapsed": 361,
     "status": "ok",
     "timestamp": 1628353181282,
     "user": {
      "displayName": "Amanda Carvalho Caravieri",
      "photoUrl": "https://lh3.googleusercontent.com/a-/AOh14GgttA7VYFZyquday9s7XjHqgx9SZeSitqi2j4gXJJc=s64",
      "userId": "11196956687265597470"
     },
     "user_tz": 180
    },
    "id": "ijRFlkubXDIp",
    "outputId": "b38beaa3-9f1a-4f7b-a47d-da978fe53343"
   },
   "outputs": [],
   "source": [
    "print(df_sp.shape)\n",
    "df_sp.isnull().sum()/len(df_sp)"
   ]
  },
  {
   "cell_type": "code",
   "execution_count": null,
   "metadata": {
    "colab": {
     "base_uri": "https://localhost:8080/"
    },
    "executionInfo": {
     "elapsed": 3,
     "status": "ok",
     "timestamp": 1628353181688,
     "user": {
      "displayName": "Amanda Carvalho Caravieri",
      "photoUrl": "https://lh3.googleusercontent.com/a-/AOh14GgttA7VYFZyquday9s7XjHqgx9SZeSitqi2j4gXJJc=s64",
      "userId": "11196956687265597470"
     },
     "user_tz": 180
    },
    "id": "WUvZRhrtXJoy",
    "outputId": "daf558e0-1581-41e0-b8ea-f0e525e125e6"
   },
   "outputs": [],
   "source": [
    "print(df_sp_2.shape)\n",
    "df_sp_2.isnull().sum()/len(df_sp_2)"
   ]
  },
  {
   "cell_type": "markdown",
   "metadata": {},
   "source": [
    "Histograma"
   ]
  },
  {
   "cell_type": "code",
   "execution_count": null,
   "metadata": {},
   "outputs": [],
   "source": [
    "plt.hist(df_sp_2[\"IDADE_ANOS\"])"
   ]
  },
  {
   "cell_type": "markdown",
   "metadata": {},
   "source": [
    "Aplicação do teste de Shapiro-Wilks"
   ]
  },
  {
   "cell_type": "code",
   "execution_count": null,
   "metadata": {},
   "outputs": [],
   "source": [
    "stat, p = shapiro(df_sp_2[\"IDADE_ANOS\"])\n",
    "print(p)"
   ]
  },
  {
   "cell_type": "markdown",
   "metadata": {},
   "source": [
    "Comentário do Leonardo: Como tivemos um p-valor = 0,0, a variável Idade_Anos não possui um comportamento normal, porém optei por não aplicar o normatização pelo stardard_scale devido a falta de tempo"
   ]
  },
  {
   "cell_type": "markdown",
   "metadata": {
    "id": "yEJXA6WjRreR"
   },
   "source": [
    "### Exportação do CSV limpo.\n",
    " \n"
   ]
  },
  {
   "cell_type": "code",
   "execution_count": null,
   "metadata": {
    "executionInfo": {
     "elapsed": 8301,
     "status": "ok",
     "timestamp": 1628353965108,
     "user": {
      "displayName": "Amanda Carvalho Caravieri",
      "photoUrl": "https://lh3.googleusercontent.com/a-/AOh14GgttA7VYFZyquday9s7XjHqgx9SZeSitqi2j4gXJJc=s64",
      "userId": "11196956687265597470"
     },
     "user_tz": 180
    },
    "id": "gdcIvDaPTtUo",
    "scrolled": true
   },
   "outputs": [],
   "source": [
    "df_sp_2.to_csv(r'internados_sp_limpo.csv',index = False)"
   ]
  },
  {
   "cell_type": "markdown",
   "metadata": {},
   "source": [
    "Split da Base"
   ]
  },
  {
   "cell_type": "markdown",
   "metadata": {},
   "source": [
    "Comentário do Leonardo: Para compor a base a ser utilizada no modelo, eu retirei as datas e a variável vacina, pois eu acredito que não faça sentido prático esta variável estar na base no período anterior a aplicação da vacina"
   ]
  },
  {
   "cell_type": "code",
   "execution_count": null,
   "metadata": {},
   "outputs": [],
   "source": [
    "X = df_sp_2.drop(columns=[\"EVOLUCAO\", \"DT_NOTIFIC\", \"OUT_ANIM\", \"VACINA\", \"DT_ENTUTI\", \"DT_SAIDUTI\", \"DT_EVOLUCA\", \n",
    "                          \"DT_ENCERRA\"])\n",
    "y = df_sp_2['EVOLUCAO']\n",
    "\n",
    "Xtrain, Xtest, ytrain, ytest = train_test_split(X, y, test_size=0.2, random_state=0)"
   ]
  },
  {
   "cell_type": "code",
   "execution_count": null,
   "metadata": {},
   "outputs": [],
   "source": [
    "clf = DecisionTreeClassifier(criterion='gini', min_samples_leaf=30000)\n",
    "clf.fit(Xtrain,ytrain)"
   ]
  },
  {
   "cell_type": "code",
   "execution_count": null,
   "metadata": {},
   "outputs": [],
   "source": [
    "previsoes = clf.predict(Xtest)\n",
    "previsoes"
   ]
  },
  {
   "cell_type": "markdown",
   "metadata": {},
   "source": [
    "Aplicação da Árvore de Decisão"
   ]
  },
  {
   "cell_type": "code",
   "execution_count": null,
   "metadata": {},
   "outputs": [],
   "source": [
    "accuracy_score(ytest, previsoes)"
   ]
  },
  {
   "cell_type": "markdown",
   "metadata": {},
   "source": [
    "Comentário do Leonardo: Não sei o que houve para não ter conseguido rodar a matriz de confusão, tentei instalar o yellowbrick no Jupyter, mas não está reconhecendo a biblioteca "
   ]
  },
  {
   "cell_type": "code",
   "execution_count": null,
   "metadata": {},
   "outputs": [],
   "source": [
    "cm = ConfusionMatrix(clf)\n",
    "cm.fit(Xtrain, ytrain)\n",
    "cm.score(Xtest, ytest)"
   ]
  },
  {
   "cell_type": "markdown",
   "metadata": {},
   "source": [
    "Saberiam me dizer o motivo de não ter os indicadores relacionados ao target=1? Eu tentei gerar a Árvore de Decisão, mas não consegui também"
   ]
  },
  {
   "cell_type": "code",
   "execution_count": null,
   "metadata": {},
   "outputs": [],
   "source": [
    "print(classification_report(ytest, previsoes))"
   ]
  },
  {
   "cell_type": "code",
   "execution_count": null,
   "metadata": {},
   "outputs": [],
   "source": []
  }
 ],
 "metadata": {
  "colab": {
   "collapsed_sections": [],
   "name": "Base_19_04_Amanda_.ipynb",
   "provenance": []
  },
  "kernelspec": {
   "display_name": "Python 3 (ipykernel)",
   "language": "python",
   "name": "python3"
  },
  "language_info": {
   "codemirror_mode": {
    "name": "ipython",
    "version": 3
   },
   "file_extension": ".py",
   "mimetype": "text/x-python",
   "name": "python",
   "nbconvert_exporter": "python",
   "pygments_lexer": "ipython3",
   "version": "3.8.11"
  }
 },
 "nbformat": 4,
 "nbformat_minor": 4
}
